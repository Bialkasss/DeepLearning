{
 "cells": [
  {
   "cell_type": "code",
   "execution_count": null,
   "id": "4291de78",
   "metadata": {},
   "outputs": [],
   "source": [
    "from tensorflow.keras.layers import Input, Dense, Reshape, Flatten, Dropout, concatenate, MaxPooling2D\n",
    "from tensorflow.keras.layers import BatchNormalization, Activation, ZeroPadding2D, Conv2DTranspose, Lambda\n",
    "from tensorflow.keras.layers import LeakyReLU\n",
    "from tensorflow.keras.layers import UpSampling2D, Conv2D\n",
    "from tensorflow.keras.models import Sequential, Model\n",
    "import tensorflow as tf\n",
    "from tensorflow.keras.preprocessing.image import ImageDataGenerator\n",
    "\n",
    "import pandas as pd\n",
    "import matplotlib.pyplot as plt"
   ]
  },
  {
   "cell_type": "code",
   "execution_count": null,
   "id": "6a2bdca6",
   "metadata": {},
   "outputs": [],
   "source": [
    "physical_devices = tf.config.list_physical_devices('GPU')\n",
    "print(physical_devices)\n",
    "for gpu in physical_devices:\n",
    "    tf.config.experimental.set_memory_growth(gpu, enable=True)"
   ]
  },
  {
   "cell_type": "code",
   "execution_count": null,
   "id": "fa5ec12c",
   "metadata": {},
   "outputs": [],
   "source": [
    "from PIL import Image\n",
    "import requests\n",
    "from io import BytesIO\n",
    "import numpy as np\n",
    "response = requests.get(\"https://bi.im-g.pl/im/13/ca/1c/z30190099IH,Szarik-z-serialu--Czterej-pancerni-i-pies-.jpg\")\n",
    "img = Image.open(BytesIO(response.content)).convert(\"RGB\")\n",
    "img_array = np.array(img)\n",
    "plt.imshow(img_array)"
   ]
  },
  {
   "cell_type": "markdown",
   "id": "b3bd3de8",
   "metadata": {},
   "source": [
    "Your grandpa has an old photo of his beloved dog from his childhood. He asked you if it's possible to colorize this greyscale picture. Can you train a CNN to add colors to an image?"
   ]
  },
  {
   "cell_type": "code",
   "execution_count": null,
   "id": "64fac109",
   "metadata": {},
   "outputs": [],
   "source": []
  },
  {
   "cell_type": "code",
   "execution_count": null,
   "id": "94e8b776",
   "metadata": {},
   "outputs": [],
   "source": [
    "!wget http://vision.stanford.edu/aditya86/ImageNetDogs/images.tar\n",
    "!tar -xf images.tar"
   ]
  },
  {
   "cell_type": "code",
   "execution_count": null,
   "id": "2bd8e04e",
   "metadata": {},
   "outputs": [],
   "source": [
    "# Example, you can change it\n",
    "\n",
    "datagen = ImageDataGenerator(\n",
    "    rescale=1./255,\n",
    "    shear_range=0.01,\n",
    "    zoom_range=0.2,\n",
    "    rotation_range=1,\n",
    "    horizontal_flip=True\n",
    ")\n",
    "\n",
    "train_generator = datagen.flow_from_directory(\n",
    "    \"Images\",\n",
    "    target_size=(192, 192),  \n",
    "    class_mode=\"input\",\n",
    "    batch_size=8,\n",
    "    shuffle=True\n",
    ")"
   ]
  },
  {
   "cell_type": "code",
   "execution_count": null,
   "id": "20c30f68",
   "metadata": {},
   "outputs": [],
   "source": [
    "model = None"
   ]
  },
  {
   "cell_type": "code",
   "execution_count": null,
   "id": "d2e198da",
   "metadata": {
    "scrolled": false
   },
   "outputs": [],
   "source": [
    "x,y = train_generator.__getitem__(0)\n",
    "pred = model.predict(x)\n",
    "for i, img in enumerate(pred):\n",
    "  plt.imshow((0.21 * img[...,:1]) + (0.72 * img[...,1:2]) + (0.07 * img[...,-1:]), cmap=plt.get_cmap('gray'))\n",
    "  plt.title('greyscale')\n",
    "  plt.show()\n",
    "  plt.imshow(img)\n",
    "  plt.title('prediction')\n",
    "  plt.show()\n",
    "  plt.imshow(x[i])\n",
    "  plt.title('true')\n",
    "  plt.show()\n",
    "y.mean()"
   ]
  },
  {
   "cell_type": "code",
   "execution_count": null,
   "id": "16f8974a",
   "metadata": {},
   "outputs": [],
   "source": []
  }
 ],
 "metadata": {
  "kernelspec": {
   "display_name": "Python 3 (ipykernel)",
   "language": "python",
   "name": "python3"
  },
  "language_info": {
   "codemirror_mode": {
    "name": "ipython",
    "version": 3
   },
   "file_extension": ".py",
   "mimetype": "text/x-python",
   "name": "python",
   "nbconvert_exporter": "python",
   "pygments_lexer": "ipython3",
   "version": "3.9.13"
  }
 },
 "nbformat": 4,
 "nbformat_minor": 5
}
