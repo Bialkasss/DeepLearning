{
 "cells": [
  {
   "cell_type": "code",
   "execution_count": null,
   "id": "93304745",
   "metadata": {
    "id": "93304745"
   },
   "outputs": [],
   "source": [
    "import numpy as np\n",
    "import pandas as pd\n",
    "import tensorflow as tf\n",
    "from tensorflow.keras.layers import Dense, Input, concatenate, Concatenate\n",
    "from tensorflow.keras.models import Model, Sequential\n",
    "from tensorflow.keras.utils import Sequence, plot_model\n",
    "from tensorflow.keras.callbacks import EarlyStopping, ReduceLROnPlateau\n",
    "import matplotlib.pyplot as plt\n",
    "import itertools\n",
    "\n",
    "from sklearn.preprocessing import StandardScaler\n",
    "from sklearn.datasets import load_wine"
   ]
  },
  {
   "cell_type": "markdown",
   "id": "f0d4a88c",
   "metadata": {
    "id": "f0d4a88c"
   },
   "source": [
    "In our classes we will use TensorFlow and Keras, however, a project can be done with any technology you want. You can even use pure NumPy and implement neural networks by yourself or write it in C or Assembler."
   ]
  },
  {
   "cell_type": "markdown",
   "id": "f4a2f032",
   "metadata": {
    "id": "f4a2f032"
   },
   "source": [
    "TensorFlow by default allocates nearly all available memory on the GPU. It's wise to set the memory_growth parameter then it will take just as much memory as needed."
   ]
  },
  {
   "cell_type": "code",
   "execution_count": null,
   "id": "c09b116c",
   "metadata": {
    "id": "c09b116c"
   },
   "outputs": [],
   "source": [
    "physical_devices = tf.config.list_physical_devices('GPU')\n",
    "print(physical_devices)\n",
    "for gpu in physical_devices:\n",
    "    tf.config.experimental.set_memory_growth(gpu, enable=True)"
   ]
  },
  {
   "cell_type": "markdown",
   "id": "455fa82f",
   "metadata": {
    "id": "455fa82f"
   },
   "source": [
    "Before we jump to neural networks let's start with a single perceptron. It's a simple mathematical model that calculates a weighted sum and applies a selected function called an activation function."
   ]
  },
  {
   "cell_type": "code",
   "execution_count": null,
   "id": "10b4546e",
   "metadata": {
    "id": "10b4546e"
   },
   "outputs": [],
   "source": [
    "model = Sequential()\n",
    "model.add(Dense(1, input_shape=(2,)))\n",
    "# that's how we create a single layer. First parameter specifies how many neurons we want, since we want to have\n",
    "# a single perceptron we use 1. Then we specify the input shape so bascially the number of variables\n",
    "model.summary()"
   ]
  },
  {
   "cell_type": "markdown",
   "id": "9aeb9cc6",
   "metadata": {
    "id": "9aeb9cc6"
   },
   "source": [
    "Above we created a simple neural network with just one neuron accepting input consisting of two values. As you can see such a network/perceptron has 3 parameters. Two of them are the weights associated with each input. Additionally, there is one more parameter called bias. It can be treated as a weight associated with an additional constant input equal to one.\n",
    "\n",
    "The formula for a single perceptron looks as follows.\n",
    "$$ \\sum (x_i*w_i) + bias$$\n",
    "\n",
    "Let's check if it really works"
   ]
  },
  {
   "cell_type": "code",
   "execution_count": null,
   "id": "52ae8466",
   "metadata": {
    "id": "52ae8466"
   },
   "outputs": [],
   "source": [
    "model.weights"
   ]
  },
  {
   "cell_type": "markdown",
   "id": "6c4f5cc7",
   "metadata": {
    "id": "6c4f5cc7"
   },
   "source": [
    "Above you should see two weights as kernel and one bias. These weights are randomly initialized. Let's see if the formula is correct."
   ]
  },
  {
   "cell_type": "code",
   "execution_count": null,
   "id": "e311cd82",
   "metadata": {
    "id": "e311cd82"
   },
   "outputs": [],
   "source": [
    "x = np.array([[2,1]]) # dummy input for calculations\n",
    "print(\"Model prediction:\", model.predict(x))\n",
    "print(\"Manual calculations:\", x @ model.weights[0].numpy() + model.weights[1].numpy())"
   ]
  },
  {
   "cell_type": "markdown",
   "id": "77b73b40",
   "metadata": {
    "id": "77b73b40"
   },
   "source": [
    "Method predict simply run neural network with given input.\n",
    "\n",
    "Seems it works since the results are the same, btw @ is an operator for matrix multiplication. If you don't trust it you can write it step by step with scalar multiplication."
   ]
  },
  {
   "cell_type": "markdown",
   "id": "4dfb4103",
   "metadata": {
    "id": "4dfb4103"
   },
   "source": [
    "OK but what about an activation function?\n",
    "\n",
    "That's right, here we just used linear function f(x) = x, but in general, you can use whatever function you want e.g. tanh. It's applied after the weighted sum. So let's update our formula and try it once again.\n",
    "$$ f(\\sum (x_i*w_i) + bias)$$"
   ]
  },
  {
   "cell_type": "code",
   "execution_count": null,
   "id": "a0cb8f2b",
   "metadata": {
    "id": "a0cb8f2b"
   },
   "outputs": [],
   "source": [
    "model = Sequential()\n",
    "model.add(Dense(1, 'tanh', input_shape=(2,))) # the second parameter specifies the activation function\n",
    "model.summary()"
   ]
  },
  {
   "cell_type": "code",
   "execution_count": null,
   "id": "875894fc",
   "metadata": {
    "id": "875894fc"
   },
   "outputs": [],
   "source": [
    "model.weights"
   ]
  },
  {
   "cell_type": "code",
   "execution_count": null,
   "id": "83ad6cf4",
   "metadata": {
    "id": "83ad6cf4"
   },
   "outputs": [],
   "source": [
    "x = np.array([[2,1]]) # dummy input for calculations\n",
    "print(\"Model prediction:\", model.predict(x))\n",
    "print(\"Manual calculations:\", x @ model.weights[0].numpy() + model.weights[1].numpy())"
   ]
  },
  {
   "cell_type": "markdown",
   "id": "e77db638",
   "metadata": {
    "id": "e77db638"
   },
   "source": [
    "Now result of predict is different than our manual computations. That's because in predict a tanh activation function is used. Let's add tanh to our formula and see if the results match"
   ]
  },
  {
   "cell_type": "code",
   "execution_count": null,
   "id": "068f461b",
   "metadata": {
    "id": "068f461b"
   },
   "outputs": [],
   "source": [
    "print(\"Improved manual calculations:\", np.tanh(x @ model.weights[0].numpy() + model.weights[1].numpy()))"
   ]
  },
  {
   "cell_type": "markdown",
   "id": "3c94068c",
   "metadata": {
    "id": "3c94068c"
   },
   "source": [
    "The results might not be exactly the same due to numerical errors and the implementation of tanh, but it's clear it works.\n",
    "\n",
    "So why do we want to use different activation functions and which of them to use?\n",
    "\n",
    "We will return to that question later on.\n"
   ]
  },
  {
   "cell_type": "markdown",
   "id": "c1868c9e",
   "metadata": {
    "id": "c1868c9e"
   },
   "source": [
    "Now let's talk about those weights and how to obtain them.\n",
    "Well, the idea is simple. Firstly you need a training set with predictors ($x$) and target ($y$). In our example let's try to predict the price of a flat ($y$) based on its area ($x$). Of course, more than one feature can and should be used e.g. floor, year, district, ..., but for clarity, let's use a single feature."
   ]
  },
  {
   "cell_type": "code",
   "execution_count": null,
   "id": "a7d07231",
   "metadata": {
    "id": "a7d07231",
    "scrolled": true
   },
   "outputs": [],
   "source": [
    "np.random.seed(41)\n",
    "x = np.random.rand(200,1)*20+50"
   ]
  },
  {
   "cell_type": "code",
   "execution_count": null,
   "id": "2b22068e",
   "metadata": {
    "id": "2b22068e",
    "scrolled": true
   },
   "outputs": [],
   "source": [
    "np.random.seed(27)\n",
    "y = .5*x + np.random.rand(*x.shape)*3 + np.log(x-49)*2"
   ]
  },
  {
   "cell_type": "code",
   "execution_count": null,
   "id": "a642c697",
   "metadata": {
    "id": "a642c697"
   },
   "outputs": [],
   "source": [
    "plt.plot(x,y, '.')\n",
    "plt.xlabel(\"$m^2$\")\n",
    "plt.ylabel(\"price in bitcoins\")\n",
    "plt.show()"
   ]
  },
  {
   "cell_type": "markdown",
   "id": "b7d6689f",
   "metadata": {
    "id": "b7d6689f"
   },
   "source": [
    "Ok, we created a dataset (a fake one, but perfect for this exercise). Now let's create a perceptron that will solve this task. Which activation function should be used?"
   ]
  },
  {
   "cell_type": "code",
   "execution_count": null,
   "id": "c7b59edd",
   "metadata": {
    "id": "c7b59edd"
   },
   "outputs": [],
   "source": [
    "np.random.seed(0)\n",
    "model = Sequential()\n",
    "model.add(Dense(1, input_shape=(1,))) #now we have only one input parameter\n",
    "model.summary()"
   ]
  },
  {
   "cell_type": "code",
   "execution_count": null,
   "id": "00a0170d",
   "metadata": {
    "id": "00a0170d",
    "scrolled": true
   },
   "outputs": [],
   "source": [
    "model.predict(x)"
   ]
  },
  {
   "cell_type": "code",
   "execution_count": null,
   "id": "c2deab8c",
   "metadata": {
    "id": "c2deab8c"
   },
   "outputs": [],
   "source": [
    "plt.plot(x,y, '.', label='data')\n",
    "plt.plot(np.sort(x,0), model.predict(np.sort(x,0)), label='prediction')\n",
    "plt.legend()\n",
    "plt.grid()\n",
    "plt.show()"
   ]
  },
  {
   "cell_type": "markdown",
   "id": "6b8e57d7",
   "metadata": {
    "id": "6b8e57d7"
   },
   "source": [
    "That's our prediction. Probably we are not even close. It's not strange, weights are initialized in a randomized way. What we need now is a measure of this error called a loss function. Once it's defined, the process of training weights is just an optimization task and the goal is to find such weights that minimize the loss function. In fact, any optimization algorithm can be used here including random search - try a lot of random weights and choose the best ones. But in most cases, stochastic gradient descent is used - in this algorithm using derivative iteratively the weights are updated"
   ]
  },
  {
   "cell_type": "markdown",
   "id": "afe24098",
   "metadata": {
    "id": "afe24098"
   },
   "source": [
    "The first idea might be simply to calculate $prediction - y$. Do you know why it fails? The problem is we will keep a sign so positive and negative errors will cancel each other. We can improve this approach by taking an absolute of it. This metric is called a mean absolute error and again there is one problem. It's not differentiable and some algorithms for optimization require the loss function to be differentiable. That's why we will use the so-called mean squared error $(prediction - y)^2$. It works more or less like mean absolute error + it's differentiable + lower impact of small errors and higher impact of big errors.\n"
   ]
  },
  {
   "cell_type": "code",
   "execution_count": null,
   "id": "ee6d979b",
   "metadata": {
    "id": "ee6d979b"
   },
   "outputs": [],
   "source": [
    "mse = lambda x,y: ((y - x)**2).mean() # our loss function"
   ]
  },
  {
   "cell_type": "markdown",
   "id": "bfeca8e3",
   "metadata": {
    "id": "bfeca8e3"
   },
   "source": [
    "I said you can use even random search so let's give it a try"
   ]
  },
  {
   "cell_type": "code",
   "execution_count": null,
   "id": "ebd76d4b",
   "metadata": {
    "id": "ebd76d4b"
   },
   "outputs": [],
   "source": [
    "bestWeights = model.get_weights()\n",
    "pred = model.predict(x, verbose=0)\n",
    "bestError = mse(y, pred)\n",
    "bestError\n",
    "\n",
    "for _ in range(200):\n",
    "    # generate random weights\n",
    "    weights = [np.random.randn(1,1), np.random.randn(1)]\n",
    "    # use them in the model\n",
    "    model.set_weights(weights)\n",
    "    pred = model.predict(x, verbose=0)\n",
    "    # evaluate the weights\n",
    "    err = mse(y, pred)\n",
    "    if err < bestError:\n",
    "        bestError = err\n",
    "        bestWeights = model.get_weights()\n",
    "        print(\"Best score so far:\", err)\n"
   ]
  },
  {
   "cell_type": "code",
   "execution_count": null,
   "id": "83a93991",
   "metadata": {
    "id": "83a93991"
   },
   "outputs": [],
   "source": [
    "model.set_weights(bestWeights)\n",
    "plt.plot(x,y, '.', label='data')\n",
    "plt.plot(np.sort(x,0), model.predict(np.sort(x,0)), label='prediction')\n",
    "plt.legend()\n",
    "plt.grid()\n",
    "plt.show()"
   ]
  },
  {
   "cell_type": "markdown",
   "id": "03f789d7",
   "metadata": {
    "id": "03f789d7"
   },
   "source": [
    "Ok, it looks better but there should be a better way than a random search. Of course, there is. As I said before, any optimization technique can be used here but in most cases, a version of stochastic gradient descent is used. Here we take advantage of a differentiable loss function and iteratively step by step change the weights in a direction set by gradient descent."
   ]
  },
  {
   "cell_type": "markdown",
   "id": "7b43b5f6",
   "metadata": {
    "id": "7b43b5f6"
   },
   "source": [
    "There are two parameters related to optimizing neural network weights using this algorithm: number of epochs and batch size. The batch size determines the number of rows used for one update of weights. The general rule is the higher the better. The number of epochs determines how many times we will go through the whole dataset in the training process. The total number of weights updates is size of data / batch size * number of epochs"
   ]
  },
  {
   "cell_type": "markdown",
   "id": "b2c810b9",
   "metadata": {
    "id": "b2c810b9"
   },
   "source": [
    "This function is already implemented so we just have to call the fit function. Before we have to call a compile method where we say which loss function should be used and if we want to collect some additional metrics"
   ]
  },
  {
   "cell_type": "code",
   "execution_count": null,
   "id": "adb372be",
   "metadata": {
    "id": "adb372be"
   },
   "outputs": [],
   "source": [
    "model = Sequential()\n",
    "model.add(Dense(1, input_shape=(1,)))\n",
    "model.compile(loss='mse', metrics=['mae'])\n",
    "history = model.fit(x,y, epochs=300, batch_size=16)\n",
    "pd.DataFrame(history.history).plot()\n",
    "plt.grid()\n",
    "plt.yscale('log')\n",
    "plt.show()"
   ]
  },
  {
   "cell_type": "markdown",
   "id": "e6629144",
   "metadata": {
    "id": "e6629144"
   },
   "source": [
    "How to adjust the number of epochs? When you look at the history you should be able to determine when it doesn't make much sense to continue the optimization process. At some point, there is no longer any progress. We can use so-called callbacks - functions executed at various stages of the model training e.g. after each epoch. We can monitor the progress and stop learning when it's not progressing anymore. Such a callback is already implemented and is called EarlyStopping. It can be used together with the ReduceLROnPlateau callback. Before stopping the learning phase first it reduces the learning rate allowing the reduction of loss function even more."
   ]
  },
  {
   "cell_type": "code",
   "execution_count": null,
   "id": "1de1301e",
   "metadata": {
    "id": "1de1301e"
   },
   "outputs": [],
   "source": [
    "early = EarlyStopping(monitor='loss', patience=15, restore_best_weights=True)\n",
    "reduce = ReduceLROnPlateau(monitor='loss', patience=6)\n",
    "\n",
    "model = Sequential()\n",
    "model.add(Dense(1, input_shape=(1,)))\n",
    "model.compile(loss='mse', metrics=['mae'])\n",
    "history=model.fit(x,y, epochs=1000, batch_size=16, callbacks=[early, reduce])\n",
    "history = pd.DataFrame(history.history).plot()\n",
    "plt.grid()\n",
    "plt.yscale('log')\n",
    "plt.show()"
   ]
  },
  {
   "cell_type": "code",
   "execution_count": null,
   "id": "2fbd1acc",
   "metadata": {
    "id": "2fbd1acc"
   },
   "outputs": [],
   "source": [
    "plt.plot(x,y, '.', label='data')\n",
    "plt.plot(np.sort(x,0), model.predict(np.sort(x,0)), label='prediction')\n",
    "plt.legend()\n",
    "plt.grid()\n",
    "plt.show()"
   ]
  },
  {
   "cell_type": "markdown",
   "id": "6d3ed606",
   "metadata": {
    "id": "6d3ed606"
   },
   "source": [
    "The result is not perfect but with such a model it cannot be better. This model can return only linear output and there isn't a line that will fit much better to the data we have. What we have to do is to extend the model. Let's create a neural network with more than one neuron. Typically in classical neural networks neurons are organized in layers. Outputs of the previous layer is an input for the next layer. All inputs are connected to each neuron from a given layer thus we call such architecture fully connected or dense.\n"
   ]
  },
  {
   "cell_type": "markdown",
   "id": "380db2e4",
   "metadata": {
    "id": "380db2e4"
   },
   "source": [
    "Here we can return to the activation functions.\n",
    "\n",
    "First, let's list the most popular functions"
   ]
  },
  {
   "cell_type": "code",
   "execution_count": null,
   "id": "b1bd2fa3",
   "metadata": {
    "id": "b1bd2fa3",
    "scrolled": false
   },
   "outputs": [],
   "source": [
    "print(\"linear\")\n",
    "r = np.linspace(-7,7)\n",
    "plt.plot(r,r)\n",
    "plt.grid()\n",
    "plt.show()\n",
    "print(\"tanh\")\n",
    "plt.plot(r, np.tanh(r))\n",
    "plt.grid()\n",
    "plt.show()\n",
    "print(\"sigmoid\")\n",
    "plt.plot(r, 1/(1 + np.exp(-r)))\n",
    "plt.grid()\n",
    "plt.show()\n",
    "print(\"relu\")\n",
    "plt.plot(r, np.where(r<0,0,r))\n",
    "plt.grid()\n",
    "plt.show()\n",
    "print(\"leakyrelu\")\n",
    "plt.plot(r, np.where(r<0,r*.1,r))\n",
    "plt.grid()\n",
    "plt.show()"
   ]
  },
  {
   "cell_type": "markdown",
   "id": "2029aa65",
   "metadata": {
    "id": "2029aa65"
   },
   "source": [
    "Now how to decide which one to use. As you probably noticed some functions have a limited range of values e.g. sigmoid returns values from 0 to 1 hence it's a perfect option when the output should be treated as a probability.\n",
    "\n",
    "In dense layers it doesn't make much sense to use linear activation. Do you know why? What's a linear transformation of linear transformation?\n",
    "\n",
    "Good default choice is relu"
   ]
  },
  {
   "cell_type": "markdown",
   "id": "0afcc60a",
   "metadata": {
    "id": "0afcc60a"
   },
   "source": [
    "The process of weight selection uses the derivative of an activation function. As you probably noticed for most of them derivative is close to zero for big positive and negative values. That's why we want to stay close to 0. To achieve that it's a good practice to introduce a data scaling process. It's a good idea to try different options, but classical standardization should be enough in most cases"
   ]
  },
  {
   "cell_type": "code",
   "execution_count": null,
   "id": "b6dbc625",
   "metadata": {
    "id": "b6dbc625",
    "scrolled": true
   },
   "outputs": [],
   "source": [
    "ss_x = StandardScaler()\n",
    "ss_y = StandardScaler()\n",
    "\n",
    "transformed_x = ss_x.fit_transform(x)\n",
    "transformed_y = ss_y.fit_transform(y)"
   ]
  },
  {
   "cell_type": "code",
   "execution_count": null,
   "id": "d022528f",
   "metadata": {
    "id": "d022528f",
    "scrolled": true
   },
   "outputs": [],
   "source": [
    "model = Sequential()\n",
    "model.add(Dense(64, activation='relu', input_shape=(1,))) # 64 neurons in the first layer\n",
    "model.add(Dense(1)) # no need to specify input shape. Why?   -> the each next layer is directly connected with previous ones. program knows that input here is the output from previous\n",
    "\n",
    "model.compile(loss='mse', metrics=['mae'])\n",
    "\n",
    "early = EarlyStopping(monitor='loss', patience=15, restore_best_weights=True)  #If after  15 epochs theres no improvement, stop, restore to weights since which it stopped improving\n",
    "reduce = ReduceLROnPlateau(monitor='loss', patience=6)  #Reduce learning rate after 6 epochs of no improvement\n",
    "\n",
    "model.fit(transformed_x,transformed_y, epochs=500, batch_size=16, callbacks=[early, reduce])"
   ]
  },
  {
   "cell_type": "code",
   "execution_count": null,
   "id": "77a731df",
   "metadata": {
    "id": "77a731df"
   },
   "outputs": [],
   "source": [
    "plt.plot(transformed_x,transformed_y, '.', label='data')\n",
    "plt.plot(np.sort(transformed_x, 0), model.predict(np.sort(transformed_x, 0)), label='prediction')\n",
    "plt.legend()\n",
    "plt.grid()\n",
    "plt.show()"
   ]
  },
  {
   "cell_type": "markdown",
   "id": "1e6e3ede",
   "metadata": {
    "id": "1e6e3ede"
   },
   "source": [
    "You might wonder why do we use sort for plotting the prediction. Well it's just to draw a nice line. When the points are in a random order and we plot lines between them it might be quite chaotic."
   ]
  },
  {
   "cell_type": "code",
   "execution_count": null,
   "id": "e64b87a5",
   "metadata": {
    "id": "e64b87a5"
   },
   "outputs": [],
   "source": [
    "plt.plot(transformed_x,transformed_y, '.', label='data')\n",
    "plt.plot(transformed_x, model.predict(transformed_x), label='prediction')\n",
    "plt.legend()\n",
    "plt.grid()\n",
    "plt.show()"
   ]
  },
  {
   "cell_type": "markdown",
   "id": "725a5528",
   "metadata": {
    "id": "725a5528"
   },
   "source": [
    "To avoid it we can just plot points, but a line looks better"
   ]
  },
  {
   "cell_type": "code",
   "execution_count": null,
   "id": "f976bbec",
   "metadata": {
    "id": "f976bbec"
   },
   "outputs": [],
   "source": [
    "plt.plot(transformed_x,transformed_y, '.', label='data')\n",
    "plt.plot(transformed_x, model.predict(transformed_x), '.', label='prediction')\n",
    "plt.legend()\n",
    "plt.grid()\n",
    "plt.show()"
   ]
  },
  {
   "cell_type": "markdown",
   "id": "0c826308",
   "metadata": {
    "id": "0c826308"
   },
   "source": [
    "# Task 1\n",
    "What's the best architecture? Play here https://playground.tensorflow.org/"
   ]
  },
  {
   "cell_type": "markdown",
   "id": "f2621030",
   "metadata": {},
   "source": [
    "Depends on dataset. For more clearly defined and convex, the less layers the better. For spiral it works only with more neurons and first layers that are more complicated, so that points have a chance of getting to the right classification by small change. Sigmoid didnt work well, mostly tanh and relu.\n"
   ]
  },
  {
   "cell_type": "markdown",
   "id": "2180a5f3",
   "metadata": {
    "id": "2180a5f3"
   },
   "source": [
    "# Task 2\n",
    "Try different architectures. Use different number of layers, neurons, activation functions"
   ]
  },
  {
   "cell_type": "code",
   "execution_count": null,
   "id": "967903a5",
   "metadata": {
    "id": "967903a5"
   },
   "outputs": [],
   "source": [
    "model = Sequential()\n",
    "model.add(Dense(128, activation='tanh', input_shape=(1,))) # 64 neurons in the first layer\n",
    "model.add(Dense(64, activation='leaky_relu')) # 64 neurons in the first layer\n",
    "model.add(Dense(1)) # no need to specify input shape. Why?   -> the each next layer is directly connected with previous ones. program knows that input here is the output from previous\n",
    "\n",
    "model.compile(loss='poisson', metrics=['mae'])  \n",
    "\n",
    "early = EarlyStopping(monitor='loss', patience=15, restore_best_weights=True)  #If after  15 epochs theres no improvement, stop, restore to weights since which it stopped improving\n",
    "reduce = ReduceLROnPlateau(monitor='loss', patience=6)  #Reduce learning rate after 6 epochs of no improvement\n",
    "\n",
    "model.fit(transformed_x,transformed_y, epochs=500, batch_size=16, callbacks=[early, reduce])\n",
    "plt.plot(transformed_x,transformed_y, '.', label='data')\n",
    "plt.plot(np.sort(transformed_x, 0), model.predict(np.sort(transformed_x, 0)), label='prediction')\n",
    "plt.legend()\n",
    "plt.grid()\n",
    "plt.show()"
   ]
  },
  {
   "cell_type": "markdown",
   "id": "a7b8ab48",
   "metadata": {},
   "source": [
    "## Overfitting \n",
    "- no callbacks\n",
    "- too many layers for so simple data"
   ]
  },
  {
   "cell_type": "code",
   "execution_count": null,
   "id": "8a54637f",
   "metadata": {
    "id": "8a54637f"
   },
   "outputs": [],
   "source": [
    "model = Sequential()\n",
    "model.add(Dense(128, activation='tanh', input_shape=(1,))) # 64 neurons in the first layer\n",
    "model.add(Dense(64, activation='leaky_relu')) # 64 neurons in the first layer\n",
    "model.add(Dense(64, activation='sigmoid')) # 64 neurons in the first layer\n",
    "model.add(Dense(64, activation='tanh')) # 64 neurons in the first layer\n",
    "model.add(Dense(64, activation='relu')) # 64 neurons in the first layer\n",
    "model.add(Dense(1)) # no need to specify input shape. Why?   -> the each next layer is directly connected with previous ones. program knows that input here is the output from previous\n",
    "\n",
    "model.compile(loss='mse', metrics=['mae'])  \n",
    "\n",
    "model.fit(transformed_x,transformed_y, epochs=500, batch_size=16, verbose=0)\n",
    "plt.plot(transformed_x,transformed_y, '.', label='data')\n",
    "plt.plot(np.sort(transformed_x, 0), model.predict(np.sort(transformed_x, 0)), label='prediction')\n",
    "plt.legend()\n",
    "plt.grid()\n",
    "plt.show()"
   ]
  },
  {
   "cell_type": "code",
   "execution_count": null,
   "id": "3ed9dbad",
   "metadata": {
    "id": "3ed9dbad"
   },
   "outputs": [],
   "source": []
  },
  {
   "cell_type": "markdown",
   "id": "d2bdc31e",
   "metadata": {
    "id": "d2bdc31e"
   },
   "source": [
    "Selecting the best number of layers and neurons is an optimization task itself. There are no strict rules. In general, you should increase the number of neurons as long as it improves the results. Be aware of overfitting - model learning noise in the data. Always split dataset to train, validation and training.\n",
    "\n",
    "Remember even the most complex network works still like a single perceptron - it's just an equation with weights determined using an optimization algorithm.\n",
    "\n",
    "Lifehack: since selecting architecture is an optimization task we can use an optimization algorithm to solve it. The most obvious representation would be a vector of size equal to the maximum number of layers we want and each element representing the number of neurons in such a layer. There are a few problems with this approach - it doesn't make sense to have neurons in the next layer if we have 0 neurons in the previous which is allowed in this representation. Removing 0 from the considered range is an option but then we will fix the number of layers. Also in most cases, it's not recommended to increase the number of neurons in the next layer. To avoid these issues we can change the representation. The first element will still be the number of neurons in the first layer, but all remainings will be the number from 0 to 1 meaning the fraction of neurons from the previous layer used in this layer. For example $[64, 1, .5, .5, 0, 0]$ would mean architecture with 4 layers with 64, 64, 32, and 16 neurons."
   ]
  },
  {
   "cell_type": "markdown",
   "id": "143a36d2",
   "metadata": {
    "id": "143a36d2"
   },
   "source": [
    "To avoid overfitting we split our dataset to training, validation, and test sets. It's a good practice in most cases to shuffle the data  since the initial order might have some problems. For example data can be sorted by a target value. Then if we split it in half, the testing set might contains target that are not in the training set"
   ]
  },
  {
   "cell_type": "code",
   "execution_count": null,
   "id": "b2164e31",
   "metadata": {
    "id": "b2164e31"
   },
   "outputs": [],
   "source": [
    "np.random.seed(31)\n",
    "idx = np.arange(len(x))\n",
    "np.random.shuffle(idx)\n",
    "idx"
   ]
  },
  {
   "cell_type": "code",
   "execution_count": null,
   "id": "50911996",
   "metadata": {
    "id": "50911996"
   },
   "outputs": [],
   "source": [
    "train = idx[:int(.8*len(x))]\n",
    "val = idx[int(.8*len(x)):int(.9*len(x))]\n",
    "test = idx[int(.9*len(x)):]"
   ]
  },
  {
   "cell_type": "code",
   "execution_count": null,
   "id": "bda7f44f",
   "metadata": {
    "id": "bda7f44f"
   },
   "outputs": [],
   "source": [
    "train_x, train_y = transformed_x[train], transformed_y[train]\n",
    "val_x, val_y = transformed_x[val], transformed_y[val]\n",
    "test_x, test_y = transformed_x[test], transformed_y[test]"
   ]
  },
  {
   "cell_type": "markdown",
   "id": "432061e0",
   "metadata": {
    "id": "432061e0"
   },
   "source": [
    "What's the problem here? Well it's not a big issue, but data from validation and test sets should not be used to determine scaling parameters. So the scaler should be fit on the training data and then applied to validation and test datasets. Can you do it now?"
   ]
  },
  {
   "cell_type": "code",
   "execution_count": null,
   "id": "846b33ac",
   "metadata": {
    "id": "846b33ac"
   },
   "outputs": [],
   "source": [
    "ss_x = StandardScaler()\n",
    "ss_y = StandardScaler()\n",
    "\n",
    "#Train on train set\n",
    "train_x = ss_x.fit_transform(train_x)\n",
    "train_y = ss_y.fit_transform(train_y)\n",
    "\n",
    "#Apply to val and test\n",
    "val_x = ss_x.transform(val_x)\n",
    "val_y = ss_y.transform(val_y)\n",
    "test_x = ss_x.transform(test_x)\n",
    "test_y = ss_y.transform(test_y)"
   ]
  },
  {
   "cell_type": "code",
   "execution_count": null,
   "id": "62d9c533",
   "metadata": {
    "id": "62d9c533"
   },
   "outputs": [],
   "source": [
    "model = Sequential()\n",
    "model.add(Dense(64, activation='relu', input_shape=(1,)))\n",
    "model.add(Dense(1, activation='linear'))\n",
    "\n",
    "model.compile(loss='mse', metrics=['mae'])\n",
    "\n",
    "early = EarlyStopping(patience=15, restore_best_weights=True) # we don't specify monitor, by default it's val_loss\n",
    "reduce = ReduceLROnPlateau(patience=6)\n",
    "\n",
    "model.fit(train_x,train_y, validation_data=(val_x, val_y), epochs=500, batch_size=16, callbacks=[early, reduce])"
   ]
  },
  {
   "cell_type": "code",
   "execution_count": null,
   "id": "cdd6ad20",
   "metadata": {
    "id": "cdd6ad20"
   },
   "outputs": [],
   "source": [
    "\n",
    "plt.plot(test_x,test_y, '.', label='data')\n",
    "plt.plot(np.sort(test_x, 0), model.predict(np.sort(test_x, 0)), label='prediction')\n",
    "plt.legend()\n",
    "plt.grid()\n",
    "plt.show()"
   ]
  },
  {
   "cell_type": "markdown",
   "id": "688f8d7f",
   "metadata": {
    "id": "688f8d7f"
   },
   "source": [
    "There are two popular functions to create a neural network model. For simple architectures Sequential can be used. For more complex Model is a suitable choice.\n",
    "\n",
    "\n",
    "In the sequential model, we assume layers are executed sequentially one by one. In Model, we can create architectures with different connections, multiple inputs or outputs."
   ]
  },
  {
   "cell_type": "code",
   "execution_count": null,
   "id": "44aeb2d4",
   "metadata": {
    "id": "44aeb2d4"
   },
   "outputs": [],
   "source": [
    "model = Sequential()\n",
    "model.add(Dense(64, activation='relu', input_shape=(1,)))\n",
    "model.add(Dense(32, activation='relu', input_shape=(1,)))\n",
    "model.add(Dense(16, activation='relu', input_shape=(1,)))\n",
    "model.add(Dense(1, activation='linear'))"
   ]
  },
  {
   "cell_type": "code",
   "execution_count": null,
   "id": "e85206c5",
   "metadata": {
    "id": "e85206c5"
   },
   "outputs": [],
   "source": [
    "plot_model(model)"
   ]
  },
  {
   "cell_type": "code",
   "execution_count": null,
   "id": "30fcfaff",
   "metadata": {
    "id": "30fcfaff"
   },
   "outputs": [],
   "source": [
    "inputLayer = Input(shape=(1,))\n",
    "dense1 = Dense(64, activation='relu')(inputLayer)\n",
    "dense2 = Dense(32, activation='relu')(dense1)\n",
    "dense3 = Dense(16, activation='relu')(dense2)\n",
    "dense4 = Dense(1, activation='relu')(dense3)\n",
    "model = Model(inputs=inputLayer, outputs=dense4)"
   ]
  },
  {
   "cell_type": "code",
   "execution_count": null,
   "id": "b1916b12",
   "metadata": {
    "id": "b1916b12"
   },
   "outputs": [],
   "source": [
    "plot_model(model)"
   ]
  },
  {
   "cell_type": "code",
   "execution_count": null,
   "id": "5aeb6004",
   "metadata": {
    "id": "5aeb6004"
   },
   "outputs": [],
   "source": [
    "inputLayer = Input(shape=(1,))\n",
    "dense1 = Dense(64, activation='relu')(inputLayer)\n",
    "dense2 = Dense(32, activation='relu')(dense1)\n",
    "concat = Concatenate()([dense1, dense2])\n",
    "dense3 = Dense(16, activation='relu')(concat)\n",
    "dense4 = Dense(1, activation='relu')(dense3)\n",
    "model = Model(inputs=inputLayer, outputs=dense4)"
   ]
  },
  {
   "cell_type": "code",
   "execution_count": null,
   "id": "240c8a14",
   "metadata": {
    "id": "240c8a14"
   },
   "outputs": [],
   "source": [
    "plot_model(model)"
   ]
  },
  {
   "cell_type": "markdown",
   "id": "44142fc3",
   "metadata": {
    "id": "44142fc3"
   },
   "source": [
    "# Task 3\n",
    "Create a model with two inputs, first processed by three Dense layers, second by two Dense layers, then concatenat them, process by two Dense layers and split it to two outputs"
   ]
  },
  {
   "cell_type": "code",
   "execution_count": null,
   "id": "6d5d4b51",
   "metadata": {
    "id": "6d5d4b51"
   },
   "outputs": [],
   "source": [
    "input1 = Input(shape=(1,))\n",
    "input2 = Input(shape=(1,))\n",
    "\n",
    "dense1_1 = Dense(64, activation='relu')(input1)\n",
    "dense1_2 = Dense(32, activation='relu')(dense1_1)\n",
    "dense1_3 = Dense(16, activation='relu')(dense1_2)\n",
    "dense2_1 = Dense(64, activation='relu')(input2)\n",
    "dense2_2 = Dense(32, activation='relu')(dense2_1)\n",
    "\n",
    "concat = concatenate([dense1_3, dense2_2])\n",
    "\n",
    "dense3 = Dense(1, activation='relu')(concat)\n",
    "dense4 = Dense(1, activation='relu')(dense3)\n",
    "\n",
    "output1 = Dense(1, activation='linear')(dense4)\n",
    "output2 = Dense(1, activation='linear')(dense4)\n",
    "\n",
    "model = Model(inputs=[input1, input2], outputs=[output1, output2])\n",
    "# model.summary()\n",
    "plot_model(model)"
   ]
  },
  {
   "cell_type": "markdown",
   "id": "8d851d7c",
   "metadata": {
    "id": "8d851d7c"
   },
   "source": [
    "Data generators are useful tools for neural network training. It allows to create data separately for each batch. Thanks to that there is no need to load all the data to the memory, which can be an issue for example when dealing with images. Also when we don't have data but a function creating data then instead of generating a fixed number of rows in advance a data generator can be used. It's also useful for the data augmentation process."
   ]
  },
  {
   "cell_type": "code",
   "execution_count": null,
   "id": "446f549a",
   "metadata": {
    "id": "446f549a"
   },
   "outputs": [],
   "source": [
    "class DataGenerator(Sequence):\n",
    "    def __init__(self, x, y, batch_size, shuffle=True):\n",
    "        self.x = x\n",
    "        self.y = y\n",
    "        self.indexes = np.arange(len(y))\n",
    "        self.batch_size = batch_size\n",
    "        self.shuffle = shuffle\n",
    "        self.on_epoch_end()\n",
    "\n",
    "    def __len__(self):\n",
    "        'Denotes the number of batches per epoch'\n",
    "        return int(np.floor(len(self.indexes) / self.batch_size))\n",
    "\n",
    "    def __getitem__(self, index):\n",
    "        'Generate one batch of data'\n",
    "        # Generate indexes of the batch.\n",
    "        # During training and prediction this function will be called in range(0, __len__())\n",
    "        indexes = self.indexes[index*self.batch_size:(index+1)*self.batch_size]\n",
    "\n",
    "        # Generate data\n",
    "        X, y = self.__data_generation(indexes)\n",
    "\n",
    "        return X, y\n",
    "\n",
    "    def on_epoch_end(self):\n",
    "        'Updates indexes after each epoch'\n",
    "        if self.shuffle == True:\n",
    "            np.random.shuffle(self.indexes)\n",
    "\n",
    "    def __data_generation(self, idx):\n",
    "        X = np.empty((self.batch_size, 1))\n",
    "        y = np.empty((self.batch_size), )\n",
    "\n",
    "        for i, ID in enumerate(idx):\n",
    "            # Store sample\n",
    "            X[i,] = self.x[ID]\n",
    "\n",
    "            # Store class\n",
    "            y[i] = self.y[ID]\n",
    "\n",
    "        return X, y"
   ]
  },
  {
   "cell_type": "code",
   "execution_count": null,
   "id": "2d621e9f",
   "metadata": {
    "id": "2d621e9f"
   },
   "outputs": [],
   "source": [
    "trainGenerator = DataGenerator(train_x, train_y, 16)\n",
    "valGenerator = DataGenerator(val_x, val_y, 1, shuffle=False)"
   ]
  },
  {
   "cell_type": "code",
   "execution_count": null,
   "id": "ae76a3e8",
   "metadata": {
    "id": "ae76a3e8"
   },
   "outputs": [],
   "source": [
    "model = Sequential()\n",
    "model.add(Dense(64, activation='relu', input_shape=(1,)))\n",
    "model.add(Dense(1, activation='linear'))\n",
    "\n",
    "model.compile(loss='mse', metrics=['mae'])\n",
    "\n",
    "early = EarlyStopping(patience=15, restore_best_weights=True) # we don't specify monitor, by default it's val_loss\n",
    "reduce = ReduceLROnPlateau(patience=6)\n",
    "\n",
    "model.fit(trainGenerator, validation_data=valGenerator, epochs=500, batch_size=16, callbacks=[early, reduce])"
   ]
  },
  {
   "cell_type": "code",
   "execution_count": null,
   "id": "19e83f6f",
   "metadata": {
    "id": "19e83f6f"
   },
   "outputs": [],
   "source": [
    "plt.plot(test_x,test_y, '.', label='data')\n",
    "plt.plot(np.sort(test_x, 0), model.predict(np.sort(test_x, 0)), label='prediction')\n",
    "plt.legend()\n",
    "plt.grid()\n",
    "plt.show()"
   ]
  },
  {
   "cell_type": "markdown",
   "id": "34890d07",
   "metadata": {
    "id": "34890d07"
   },
   "source": [
    "Of course, this generator doesn't make much sense since the data are already in the memory and we don't do anything with them. It's just a template you can use later when it's really needed."
   ]
  },
  {
   "cell_type": "markdown",
   "id": "2e45ea08",
   "metadata": {
    "id": "2e45ea08"
   },
   "source": [
    "# Task 4\n",
    "Predict the quality of wine using neural network.\n",
    " - Treat target as continuous.\n",
    " - Treat target as discrete classes."
   ]
  },
  {
   "cell_type": "code",
   "execution_count": 60,
   "id": "7e5c252d",
   "metadata": {
    "id": "7e5c252d"
   },
   "outputs": [],
   "source": [
    "data = load_wine()"
   ]
  },
  {
   "cell_type": "code",
   "execution_count": 61,
   "id": "cfb56e2a",
   "metadata": {
    "id": "cfb56e2a"
   },
   "outputs": [],
   "source": [
    "X = data['data']\n",
    "y = data['target']"
   ]
  },
  {
   "cell_type": "code",
   "execution_count": 62,
   "id": "9abc92fe",
   "metadata": {
    "id": "9abc92fe"
   },
   "outputs": [
    {
     "data": {
      "text/plain": [
       "array([[1.423e+01, 1.710e+00, 2.430e+00, ..., 1.040e+00, 3.920e+00,\n",
       "        1.065e+03],\n",
       "       [1.320e+01, 1.780e+00, 2.140e+00, ..., 1.050e+00, 3.400e+00,\n",
       "        1.050e+03],\n",
       "       [1.316e+01, 2.360e+00, 2.670e+00, ..., 1.030e+00, 3.170e+00,\n",
       "        1.185e+03],\n",
       "       ...,\n",
       "       [1.327e+01, 4.280e+00, 2.260e+00, ..., 5.900e-01, 1.560e+00,\n",
       "        8.350e+02],\n",
       "       [1.317e+01, 2.590e+00, 2.370e+00, ..., 6.000e-01, 1.620e+00,\n",
       "        8.400e+02],\n",
       "       [1.413e+01, 4.100e+00, 2.740e+00, ..., 6.100e-01, 1.600e+00,\n",
       "        5.600e+02]])"
      ]
     },
     "execution_count": 62,
     "metadata": {},
     "output_type": "execute_result"
    }
   ],
   "source": [
    "x"
   ]
  },
  {
   "cell_type": "code",
   "execution_count": 63,
   "id": "086aeb2f",
   "metadata": {
    "id": "086aeb2f"
   },
   "outputs": [
    {
     "data": {
      "text/plain": [
       "array([0, 0, 0, 0, 0, 0, 0, 0, 0, 0, 0, 0, 0, 0, 0, 0, 0, 0, 0, 0, 0, 0,\n",
       "       0, 0, 0, 0, 0, 0, 0, 0, 0, 0, 0, 0, 0, 0, 0, 0, 0, 0, 0, 0, 0, 0,\n",
       "       0, 0, 0, 0, 0, 0, 0, 0, 0, 0, 0, 0, 0, 0, 0, 1, 1, 1, 1, 1, 1, 1,\n",
       "       1, 1, 1, 1, 1, 1, 1, 1, 1, 1, 1, 1, 1, 1, 1, 1, 1, 1, 1, 1, 1, 1,\n",
       "       1, 1, 1, 1, 1, 1, 1, 1, 1, 1, 1, 1, 1, 1, 1, 1, 1, 1, 1, 1, 1, 1,\n",
       "       1, 1, 1, 1, 1, 1, 1, 1, 1, 1, 1, 1, 1, 1, 1, 1, 1, 1, 1, 1, 2, 2,\n",
       "       2, 2, 2, 2, 2, 2, 2, 2, 2, 2, 2, 2, 2, 2, 2, 2, 2, 2, 2, 2, 2, 2,\n",
       "       2, 2, 2, 2, 2, 2, 2, 2, 2, 2, 2, 2, 2, 2, 2, 2, 2, 2, 2, 2, 2, 2,\n",
       "       2, 2])"
      ]
     },
     "execution_count": 63,
     "metadata": {},
     "output_type": "execute_result"
    }
   ],
   "source": [
    "y"
   ]
  },
  {
   "cell_type": "markdown",
   "id": "e3c15f70",
   "metadata": {
    "id": "e3c15f70"
   },
   "source": [
    "Here spliting into train, val, and test sets without shuffling might not be the best idea"
   ]
  },
  {
   "cell_type": "code",
   "execution_count": 72,
   "id": "bfd10b21",
   "metadata": {
    "id": "bfd10b21"
   },
   "outputs": [
    {
     "data": {
      "text/plain": [
       "array([117, 131,  89, 127,  10, 105,  74, 163,  68, 171, 121, 164,  95,\n",
       "       142,  12, 130,  64,  41,  45,  43,  77,  80, 109,  88,  65,  71,\n",
       "        54,  47,  37, 132,  48,  96,  72, 149,  62, 154, 168,  33,  13,\n",
       "        15, 175, 177, 133, 134, 125,  17,  21,  55, 100, 174, 158,   8,\n",
       "       123,  23,  67, 139,  35, 147,   2, 118,  36,  19, 136,  14,  49,\n",
       "        66, 108,  63,  59,   0,  84, 166,  73,  79,  32, 153,  57,   3,\n",
       "       110,  38, 102,   7, 143, 129,  39,  31, 101, 137,  34, 170,  44,\n",
       "        85,  27,  78,  86,  20,  61, 135,  22,  60, 124,  30,  91,  18,\n",
       "        83,  75,  53, 144,  94, 155,  90, 176, 145,  50,  56, 114, 161,\n",
       "        42, 148,  69,   4,   9,  93,  70,   5,  29,  40, 128,  51, 150,\n",
       "       141,  26, 104, 115, 112, 159,  11, 157, 167, 119,  24, 140,  76,\n",
       "        97,   1, 172, 116, 162,  52, 106, 120, 111, 103, 152, 165, 160,\n",
       "        99, 169, 113, 138, 156, 107, 173,  81,  25, 146,  82,   6,  46,\n",
       "       122,  92,  28,  58, 151,  98, 126,  16,  87])"
      ]
     },
     "execution_count": 72,
     "metadata": {},
     "output_type": "execute_result"
    }
   ],
   "source": [
    "np.random.seed(31)\n",
    "idx = np.arange(len(X))\n",
    "np.random.shuffle(idx)\n",
    "idx"
   ]
  },
  {
   "cell_type": "code",
   "execution_count": null,
   "id": "82c191cf",
   "metadata": {
    "id": "82c191cf",
    "vscode": {
     "languageId": "julia"
    }
   },
   "outputs": [],
   "source": [
    "# ss_x = StandardScaler()\n",
    "# ss_y = StandardScaler()\n",
    "\n",
    "# #Train on train set\n",
    "# train_x = ss_x.fit_transform(train_x)\n",
    "# train_y = ss_y.fit_transform(train_y)\n",
    "\n",
    "# #Apply to val and test\n",
    "# val_x = ss_x.transform(val_x)\n",
    "# val_y = ss_y.transform(val_y)\n",
    "# test_x = ss_x.transform(test_x)\n",
    "# test_y = ss_y.transform(test_y)\n",
    "\n",
    "\n",
    "from sklearn.model_selection import train_test_split\n",
    "\n",
    "X_train_temp, X_temp, y_train_temp, y_temp = train_test_split(X, y, test_size=0.3, random_state=42)\n",
    "X_val, X_test, y_val, y_test = train_test_split(X_temp, y_temp, test_size=0.5, random_state=42)\n",
    "print(X_train_temp.size())\n"
   ]
  },
  {
   "cell_type": "code",
   "execution_count": null,
   "id": "32125902",
   "metadata": {
    "id": "32125902"
   },
   "outputs": [],
   "source": []
  },
  {
   "cell_type": "code",
   "execution_count": null,
   "id": "61e6bcbd",
   "metadata": {
    "id": "61e6bcbd"
   },
   "outputs": [],
   "source": []
  },
  {
   "cell_type": "code",
   "execution_count": 73,
   "id": "819228bc",
   "metadata": {
    "id": "819228bc"
   },
   "outputs": [],
   "source": [
    "#try also this model\n",
    "#check why and how it works\n",
    "model = Sequential()\n",
    "model.add(Dense(16, 'relu', input_shape=(13,)))\n",
    "model.add(Dense(3, 'softmax'))\n",
    "model.compile(loss='sparse_categorical_crossentropy', metrics=['acc'])"
   ]
  },
  {
   "cell_type": "code",
   "execution_count": null,
   "id": "2kgmYSNb81O6",
   "metadata": {
    "id": "2kgmYSNb81O6"
   },
   "outputs": [],
   "source": []
  },
  {
   "cell_type": "markdown",
   "id": "c4b39b3f",
   "metadata": {
    "id": "c4b39b3f"
   },
   "source": [
    "# Project\n"
   ]
  },
  {
   "cell_type": "code",
   "execution_count": 74,
   "id": "465c0080",
   "metadata": {
    "id": "465c0080"
   },
   "outputs": [
    {
     "data": {
      "text/html": [
       "<div>\n",
       "<style scoped>\n",
       "    .dataframe tbody tr th:only-of-type {\n",
       "        vertical-align: middle;\n",
       "    }\n",
       "\n",
       "    .dataframe tbody tr th {\n",
       "        vertical-align: top;\n",
       "    }\n",
       "\n",
       "    .dataframe thead th {\n",
       "        text-align: right;\n",
       "    }\n",
       "</style>\n",
       "<table border=\"1\" class=\"dataframe\">\n",
       "  <thead>\n",
       "    <tr style=\"text-align: right;\">\n",
       "      <th></th>\n",
       "      <th>pActive</th>\n",
       "      <th>popularity</th>\n",
       "    </tr>\n",
       "  </thead>\n",
       "  <tbody>\n",
       "    <tr>\n",
       "      <th>0</th>\n",
       "      <td>0.7</td>\n",
       "      <td>0.1</td>\n",
       "    </tr>\n",
       "    <tr>\n",
       "      <th>1</th>\n",
       "      <td>0.2</td>\n",
       "      <td>0.4</td>\n",
       "    </tr>\n",
       "  </tbody>\n",
       "</table>\n",
       "</div>"
      ],
      "text/plain": [
       "   pActive  popularity\n",
       "0      0.7         0.1\n",
       "1      0.2         0.4"
      ]
     },
     "execution_count": 74,
     "metadata": {},
     "output_type": "execute_result"
    }
   ],
   "source": [
    "df = pd.DataFrame({'pActive': [0.7, 0.2], 'popularity': [0.1, 0.4]})\n",
    "df"
   ]
  },
  {
   "cell_type": "markdown",
   "id": "f2d45e96",
   "metadata": {
    "id": "f2d45e96"
   },
   "source": [
    "Consider a simplified model for the election of, for example, the mayor of a city. In our case we have 12 potential candidates. Each of them has assigned a probability $pActive$ determining the chances of running in the election - this consists of, for example the chance of collecting signatures, being nominated by their party, etc.\n",
    "\n",
    "In addition, we also determined the popularity of each candidate.\n",
    "The probability of winning an election is equal to the ratio of its\n",
    "popularity to the sum of the popularity of all active candidates\n",
    "participating in the election.\n",
    "\n",
    "Example:\n",
    "\n",
    "With two candidates having $pActive$ 0.7 and 0.2 and $popularity$ 0.1 and 0.4 respectively there are 4 possible sceanrios:\n",
    "\n",
    " - nobody participaring in the elections p = (1-0.7) * (1-0.2) = 0.24\n",
    " - just candidate A p = 0.7 * (1-0.2) = 0.56\n",
    " - just candidate B p = (1-0.7) * 0.2 = 0.06\n",
    " - both candidates p = 0.7 * 0.2 = 0.14\n",
    "\n",
    "In the first scenario there are no candidates so nobody wins the election. In the second and third case there is just once candidate so with 100% probability she/he wins. The last scenario is the most complex and we have to account for popularity and candidate A has 20% chances of wining and B 80%. Combining all scenarios\n",
    "\n",
    " - candidate A: 0.56 * 100% + 0.14 * 20% = 58.8%\n",
    " - candidate B: 0.06 * 100% + 0.14 * 80% = 17.2%\n",
    "\n",
    "We can write a function to calculate it\n"
   ]
  },
  {
   "cell_type": "code",
   "execution_count": 75,
   "id": "5d1d332b",
   "metadata": {
    "id": "5d1d332b"
   },
   "outputs": [],
   "source": [
    "def getProbability(df):\n",
    "    combinations = np.indices((2,) * len(df)).reshape(len(df), -1).T.astype(int)\n",
    "    p = np.maximum((1-combinations)*(1-df.pActive.values), (combinations*df.pActive.values)).prod(1)\n",
    "    prob = (combinations * df.popularity.values)[1:] / (combinations * df.popularity.values).sum(1).reshape((-1,1))[1:]\n",
    "    x=(p.reshape((-1,1))[1:] * prob)\n",
    "\n",
    "    return x.sum(axis=0)"
   ]
  },
  {
   "cell_type": "code",
   "execution_count": 76,
   "id": "b78e9ce8",
   "metadata": {
    "id": "b78e9ce8"
   },
   "outputs": [
    {
     "data": {
      "text/plain": [
       "array([0.588, 0.172])"
      ]
     },
     "execution_count": 76,
     "metadata": {},
     "output_type": "execute_result"
    }
   ],
   "source": [
    "getProbability(df)"
   ]
  },
  {
   "cell_type": "code",
   "execution_count": 77,
   "id": "e4fc6298",
   "metadata": {
    "id": "e4fc6298"
   },
   "outputs": [
    {
     "data": {
      "text/html": [
       "<div>\n",
       "<style scoped>\n",
       "    .dataframe tbody tr th:only-of-type {\n",
       "        vertical-align: middle;\n",
       "    }\n",
       "\n",
       "    .dataframe tbody tr th {\n",
       "        vertical-align: top;\n",
       "    }\n",
       "\n",
       "    .dataframe thead th {\n",
       "        text-align: right;\n",
       "    }\n",
       "</style>\n",
       "<table border=\"1\" class=\"dataframe\">\n",
       "  <thead>\n",
       "    <tr style=\"text-align: right;\">\n",
       "      <th></th>\n",
       "      <th>pActive</th>\n",
       "      <th>popularity</th>\n",
       "    </tr>\n",
       "  </thead>\n",
       "  <tbody>\n",
       "    <tr>\n",
       "      <th>0</th>\n",
       "      <td>0.834842</td>\n",
       "      <td>0.873863</td>\n",
       "    </tr>\n",
       "    <tr>\n",
       "      <th>1</th>\n",
       "      <td>0.104796</td>\n",
       "      <td>0.258450</td>\n",
       "    </tr>\n",
       "    <tr>\n",
       "      <th>2</th>\n",
       "      <td>0.744640</td>\n",
       "      <td>0.664851</td>\n",
       "    </tr>\n",
       "    <tr>\n",
       "      <th>3</th>\n",
       "      <td>0.360501</td>\n",
       "      <td>0.862674</td>\n",
       "    </tr>\n",
       "    <tr>\n",
       "      <th>4</th>\n",
       "      <td>0.359311</td>\n",
       "      <td>0.148848</td>\n",
       "    </tr>\n",
       "    <tr>\n",
       "      <th>5</th>\n",
       "      <td>0.609238</td>\n",
       "      <td>0.562950</td>\n",
       "    </tr>\n",
       "    <tr>\n",
       "      <th>6</th>\n",
       "      <td>0.393780</td>\n",
       "      <td>0.159155</td>\n",
       "    </tr>\n",
       "    <tr>\n",
       "      <th>7</th>\n",
       "      <td>0.409073</td>\n",
       "      <td>0.172895</td>\n",
       "    </tr>\n",
       "    <tr>\n",
       "      <th>8</th>\n",
       "      <td>0.509902</td>\n",
       "      <td>0.104023</td>\n",
       "    </tr>\n",
       "    <tr>\n",
       "      <th>9</th>\n",
       "      <td>0.710148</td>\n",
       "      <td>0.202938</td>\n",
       "    </tr>\n",
       "    <tr>\n",
       "      <th>10</th>\n",
       "      <td>0.960526</td>\n",
       "      <td>0.455189</td>\n",
       "    </tr>\n",
       "    <tr>\n",
       "      <th>11</th>\n",
       "      <td>0.456621</td>\n",
       "      <td>0.794575</td>\n",
       "    </tr>\n",
       "    <tr>\n",
       "      <th>12</th>\n",
       "      <td>0.427652</td>\n",
       "      <td>0.990823</td>\n",
       "    </tr>\n",
       "    <tr>\n",
       "      <th>13</th>\n",
       "      <td>0.113464</td>\n",
       "      <td>0.805017</td>\n",
       "    </tr>\n",
       "    <tr>\n",
       "      <th>14</th>\n",
       "      <td>0.217899</td>\n",
       "      <td>0.377415</td>\n",
       "    </tr>\n",
       "    <tr>\n",
       "      <th>15</th>\n",
       "      <td>0.957472</td>\n",
       "      <td>0.515737</td>\n",
       "    </tr>\n",
       "    <tr>\n",
       "      <th>16</th>\n",
       "      <td>0.943351</td>\n",
       "      <td>0.058899</td>\n",
       "    </tr>\n",
       "    <tr>\n",
       "      <th>17</th>\n",
       "      <td>0.881824</td>\n",
       "      <td>0.711096</td>\n",
       "    </tr>\n",
       "    <tr>\n",
       "      <th>18</th>\n",
       "      <td>0.646411</td>\n",
       "      <td>0.072508</td>\n",
       "    </tr>\n",
       "    <tr>\n",
       "      <th>19</th>\n",
       "      <td>0.213825</td>\n",
       "      <td>0.882612</td>\n",
       "    </tr>\n",
       "    <tr>\n",
       "      <th>20</th>\n",
       "      <td>0.636832</td>\n",
       "      <td>0.726058</td>\n",
       "    </tr>\n",
       "    <tr>\n",
       "      <th>21</th>\n",
       "      <td>0.139146</td>\n",
       "      <td>0.833366</td>\n",
       "    </tr>\n",
       "    <tr>\n",
       "      <th>22</th>\n",
       "      <td>0.458704</td>\n",
       "      <td>0.710231</td>\n",
       "    </tr>\n",
       "  </tbody>\n",
       "</table>\n",
       "</div>"
      ],
      "text/plain": [
       "     pActive  popularity\n",
       "0   0.834842    0.873863\n",
       "1   0.104796    0.258450\n",
       "2   0.744640    0.664851\n",
       "3   0.360501    0.862674\n",
       "4   0.359311    0.148848\n",
       "5   0.609238    0.562950\n",
       "6   0.393780    0.159155\n",
       "7   0.409073    0.172895\n",
       "8   0.509902    0.104023\n",
       "9   0.710148    0.202938\n",
       "10  0.960526    0.455189\n",
       "11  0.456621    0.794575\n",
       "12  0.427652    0.990823\n",
       "13  0.113464    0.805017\n",
       "14  0.217899    0.377415\n",
       "15  0.957472    0.515737\n",
       "16  0.943351    0.058899\n",
       "17  0.881824    0.711096\n",
       "18  0.646411    0.072508\n",
       "19  0.213825    0.882612\n",
       "20  0.636832    0.726058\n",
       "21  0.139146    0.833366\n",
       "22  0.458704    0.710231"
      ]
     },
     "execution_count": 77,
     "metadata": {},
     "output_type": "execute_result"
    }
   ],
   "source": [
    "np.random.seed(44)\n",
    "df = pd.DataFrame({'pActive': np.random.rand(23), 'popularity': np.random.rand(23)})\n",
    "df"
   ]
  },
  {
   "cell_type": "code",
   "execution_count": 78,
   "id": "1348f5a4",
   "metadata": {
    "id": "1348f5a4"
   },
   "outputs": [
    {
     "data": {
      "text/plain": [
       "array([0.12346936, 0.00453064, 0.08349038, 0.04904437, 0.00916577,\n",
       "       0.05735424, 0.01073811, 0.01210526, 0.00916428, 0.02485904,\n",
       "       0.07598179, 0.05837941, 0.06652927, 0.01407193, 0.01359698,\n",
       "       0.08574232, 0.00968469, 0.1074852 , 0.00813592, 0.02911976,\n",
       "       0.07661866, 0.01784639, 0.05288623])"
      ]
     },
     "execution_count": 78,
     "metadata": {},
     "output_type": "execute_result"
    }
   ],
   "source": [
    "getProbability(df)"
   ]
  },
  {
   "cell_type": "markdown",
   "id": "11154ecf",
   "metadata": {
    "id": "11154ecf"
   },
   "source": [
    "It might take longer when more candidates are considered. Imagine you are a party leader and you want to determine who shall be your candidate. You have to solve an optimization problem where this function will be executed hundreds of times thus we want to make it faster.\n",
    "\n",
    "Your task is to create a neural network estimating function $getProbability$, while being much faster. You can assume the maximum number of candidates is 16 and the minimal is 1. $pActive$ is in range from 0 to 1 $popularity$ is greater than 0 without an upper limit. Keep in mind it's possible no candidate will participate in the election (scenario 1 in the example above).\n",
    "Try to avoide using pre- and post-processing and do as much computations as possible inside the neural network\n",
    "\n",
    "You can test your results here https://www.kaggle.com/t/0ab6861855f141969f4755129a6c5bca\n",
    "\n",
    "Send your result by 4th November to grzegorz.miebs@cs.put.poznan.pl, start the email subject with [DL], there should be a function that reads a pickled list of DataFrames and produces a .csv file with probabilities.\n"
   ]
  },
  {
   "cell_type": "code",
   "execution_count": 79,
   "id": "68a3f1ed",
   "metadata": {
    "id": "68a3f1ed"
   },
   "outputs": [
    {
     "ename": "SyntaxError",
     "evalue": "invalid syntax (242410844.py, line 1)",
     "output_type": "error",
     "traceback": [
      "\u001b[1;36m  Cell \u001b[1;32mIn[79], line 1\u001b[1;36m\u001b[0m\n\u001b[1;33m    in/output size. propper output acivation that will model probability not summing to 1. time complexity important.\u001b[0m\n\u001b[1;37m    ^\u001b[0m\n\u001b[1;31mSyntaxError\u001b[0m\u001b[1;31m:\u001b[0m invalid syntax\n"
     ]
    }
   ],
   "source": [
    "in/output size. propper output acivation that will model probability not summing to 1. time complexity important. "
   ]
  },
  {
   "cell_type": "code",
   "execution_count": null,
   "id": "6b24d4a2",
   "metadata": {
    "id": "6b24d4a2"
   },
   "outputs": [],
   "source": []
  }
 ],
 "metadata": {
  "colab": {
   "provenance": []
  },
  "kernelspec": {
   "display_name": "cv_lab",
   "language": "python",
   "name": "python3"
  },
  "language_info": {
   "codemirror_mode": {
    "name": "ipython",
    "version": 3
   },
   "file_extension": ".py",
   "mimetype": "text/x-python",
   "name": "python",
   "nbconvert_exporter": "python",
   "pygments_lexer": "ipython3",
   "version": "3.8.19"
  }
 },
 "nbformat": 4,
 "nbformat_minor": 5
}
