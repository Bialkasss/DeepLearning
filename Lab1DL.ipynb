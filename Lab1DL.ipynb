{
 "cells": [
  {
   "cell_type": "code",
   "execution_count": null,
   "id": "93304745",
   "metadata": {
    "id": "93304745"
   },
   "outputs": [],
   "source": [
    "import numpy as np\n",
    "import pandas as pd\n",
    "import tensorflow as tf\n",
    "from tensorflow.keras.layers import Dense, Input, concatenate, Concatenate\n",
    "from tensorflow.keras.models import Model, Sequential\n",
    "from tensorflow.keras.utils import Sequence, plot_model\n",
    "from tensorflow.keras.callbacks import EarlyStopping, ReduceLROnPlateau\n",
    "import matplotlib.pyplot as plt\n",
    "import itertools\n",
    "\n",
    "from sklearn.preprocessing import StandardScaler\n",
    "from sklearn.datasets import load_wine"
   ]
  },
  {
   "cell_type": "markdown",
   "id": "f0d4a88c",
   "metadata": {
    "id": "f0d4a88c"
   },
   "source": [
    "In our classes we will use TensorFlow and Keras, however, a project can be done with any technology you want. You can even use pure NumPy and implement neural networks by yourself or write it in C or Assembler."
   ]
  },
  {
   "cell_type": "markdown",
   "id": "f4a2f032",
   "metadata": {
    "id": "f4a2f032"
   },
   "source": [
    "TensorFlow by default allocates nearly all available memory on the GPU. It's wise to set the memory_growth parameter then it will take just as much memory as needed."
   ]
  },
  {
   "cell_type": "code",
   "execution_count": null,
   "id": "c09b116c",
   "metadata": {
    "id": "c09b116c"
   },
   "outputs": [],
   "source": [
    "physical_devices = tf.config.list_physical_devices('GPU')\n",
    "print(physical_devices)\n",
    "for gpu in physical_devices:\n",
    "    tf.config.experimental.set_memory_growth(gpu, enable=True)"
   ]
  },
  {
   "cell_type": "markdown",
   "id": "455fa82f",
   "metadata": {
    "id": "455fa82f"
   },
   "source": [
    "Before we jump to neural networks let's start with a single perceptron. It's a simple mathematical model that calculates a weighted sum and applies a selected function called an activation function."
   ]
  },
  {
   "cell_type": "code",
   "execution_count": null,
   "id": "10b4546e",
   "metadata": {
    "id": "10b4546e"
   },
   "outputs": [],
   "source": [
    "model = Sequential()\n",
    "model.add(Dense(1, input_shape=(2,)))\n",
    "# that's how we create a single layer. First parameter specifies how many neurons we want, since we want to have\n",
    "# a single perceptron we use 1. Then we specify the input shape so bascially the number of variables\n",
    "model.summary()"
   ]
  },
  {
   "cell_type": "markdown",
   "id": "9aeb9cc6",
   "metadata": {
    "id": "9aeb9cc6"
   },
   "source": [
    "Above we created a simple neural network with just one neuron accepting input consisting of two values. As you can see such a network/perceptron has 3 parameters. Two of them are the weights associated with each input. Additionally, there is one more parameter called bias. It can be treated as a weight associated with an additional constant input equal to one.\n",
    "\n",
    "The formula for a single perceptron looks as follows.\n",
    "$$ \\sum (x_i*w_i) + bias$$\n",
    "\n",
    "Let's check if it really works"
   ]
  },
  {
   "cell_type": "code",
   "execution_count": null,
   "id": "52ae8466",
   "metadata": {
    "id": "52ae8466"
   },
   "outputs": [],
   "source": [
    "model.weights"
   ]
  },
  {
   "cell_type": "markdown",
   "id": "6c4f5cc7",
   "metadata": {
    "id": "6c4f5cc7"
   },
   "source": [
    "Above you should see two weights as kernel and one bias. These weights are randomly initialized. Let's see if the formula is correct."
   ]
  },
  {
   "cell_type": "code",
   "execution_count": null,
   "id": "e311cd82",
   "metadata": {
    "id": "e311cd82"
   },
   "outputs": [],
   "source": [
    "x = np.array([[2,1]]) # dummy input for calculations\n",
    "print(\"Model prediction:\", model.predict(x))\n",
    "print(\"Manual calculations:\", x @ model.weights[0].numpy() + model.weights[1].numpy())"
   ]
  },
  {
   "cell_type": "markdown",
   "id": "77b73b40",
   "metadata": {
    "id": "77b73b40"
   },
   "source": [
    "Method predict simply run neural network with given input.\n",
    "\n",
    "Seems it works since the results are the same, btw @ is an operator for matrix multiplication. If you don't trust it you can write it step by step with scalar multiplication."
   ]
  },
  {
   "cell_type": "markdown",
   "id": "4dfb4103",
   "metadata": {
    "id": "4dfb4103"
   },
   "source": [
    "OK but what about an activation function?\n",
    "\n",
    "That's right, here we just used linear function f(x) = x, but in general, you can use whatever function you want e.g. tanh. It's applied after the weighted sum. So let's update our formula and try it once again.\n",
    "$$ f(\\sum (x_i*w_i) + bias)$$"
   ]
  },
  {
   "cell_type": "code",
   "execution_count": null,
   "id": "a0cb8f2b",
   "metadata": {
    "id": "a0cb8f2b"
   },
   "outputs": [],
   "source": [
    "model = Sequential()\n",
    "model.add(Dense(1, 'tanh', input_shape=(2,))) # the second parameter specifies the activation function\n",
    "model.summary()"
   ]
  },
  {
   "cell_type": "code",
   "execution_count": null,
   "id": "875894fc",
   "metadata": {
    "id": "875894fc"
   },
   "outputs": [],
   "source": [
    "model.weights"
   ]
  },
  {
   "cell_type": "code",
   "execution_count": null,
   "id": "83ad6cf4",
   "metadata": {
    "id": "83ad6cf4"
   },
   "outputs": [],
   "source": [
    "x = np.array([[2,1]]) # dummy input for calculations\n",
    "print(\"Model prediction:\", model.predict(x))\n",
    "print(\"Manual calculations:\", x @ model.weights[0].numpy() + model.weights[1].numpy())"
   ]
  },
  {
   "cell_type": "markdown",
   "id": "e77db638",
   "metadata": {
    "id": "e77db638"
   },
   "source": [
    "Now result of predict is different than our manual computations. That's because in predict a tanh activation function is used. Let's add tanh to our formula and see if the results match"
   ]
  },
  {
   "cell_type": "code",
   "execution_count": null,
   "id": "068f461b",
   "metadata": {
    "id": "068f461b"
   },
   "outputs": [],
   "source": [
    "print(\"Improved manual calculations:\", np.tanh(x @ model.weights[0].numpy() + model.weights[1].numpy()))"
   ]
  },
  {
   "cell_type": "markdown",
   "id": "3c94068c",
   "metadata": {
    "id": "3c94068c"
   },
   "source": [
    "The results might not be exactly the same due to numerical errors and the implementation of tanh, but it's clear it works.\n",
    "\n",
    "So why do we want to use different activation functions and which of them to use?\n",
    "\n",
    "We will return to that question later on.\n"
   ]
  },
  {
   "cell_type": "markdown",
   "id": "c1868c9e",
   "metadata": {
    "id": "c1868c9e"
   },
   "source": [
    "Now let's talk about those weights and how to obtain them.\n",
    "Well, the idea is simple. Firstly you need a training set with predictors ($x$) and target ($y$). In our example let's try to predict the price of a flat ($y$) based on its area ($x$). Of course, more than one feature can and should be used e.g. floor, year, district, ..., but for clarity, let's use a single feature."
   ]
  },
  {
   "cell_type": "code",
   "execution_count": null,
   "id": "a7d07231",
   "metadata": {
    "id": "a7d07231",
    "scrolled": true
   },
   "outputs": [],
   "source": [
    "np.random.seed(41)\n",
    "x = np.random.rand(200,1)*20+50"
   ]
  },
  {
   "cell_type": "code",
   "execution_count": null,
   "id": "2b22068e",
   "metadata": {
    "id": "2b22068e",
    "scrolled": true
   },
   "outputs": [],
   "source": [
    "np.random.seed(27)\n",
    "y = .5*x + np.random.rand(*x.shape)*3 + np.log(x-49)*2"
   ]
  },
  {
   "cell_type": "code",
   "execution_count": null,
   "id": "a642c697",
   "metadata": {
    "id": "a642c697"
   },
   "outputs": [],
   "source": [
    "plt.plot(x,y, '.')\n",
    "plt.xlabel(\"$m^2$\")\n",
    "plt.ylabel(\"price in bitcoins\")\n",
    "plt.show()"
   ]
  },
  {
   "cell_type": "markdown",
   "id": "b7d6689f",
   "metadata": {
    "id": "b7d6689f"
   },
   "source": [
    "Ok, we created a dataset (a fake one, but perfect for this exercise). Now let's create a perceptron that will solve this task. Which activation function should be used?"
   ]
  },
  {
   "cell_type": "code",
   "execution_count": null,
   "id": "c7b59edd",
   "metadata": {
    "id": "c7b59edd"
   },
   "outputs": [],
   "source": [
    "np.random.seed(0)\n",
    "model = Sequential()\n",
    "model.add(Dense(1, input_shape=(1,))) #now we have only one input parameter\n",
    "model.summary()"
   ]
  },
  {
   "cell_type": "code",
   "execution_count": null,
   "id": "00a0170d",
   "metadata": {
    "id": "00a0170d",
    "scrolled": true
   },
   "outputs": [],
   "source": [
    "model.predict(x)"
   ]
  },
  {
   "cell_type": "code",
   "execution_count": null,
   "id": "c2deab8c",
   "metadata": {
    "id": "c2deab8c"
   },
   "outputs": [],
   "source": [
    "plt.plot(x,y, '.', label='data')\n",
    "plt.plot(np.sort(x,0), model.predict(np.sort(x,0)), label='prediction')\n",
    "plt.legend()\n",
    "plt.grid()\n",
    "plt.show()"
   ]
  },
  {
   "cell_type": "markdown",
   "id": "6b8e57d7",
   "metadata": {
    "id": "6b8e57d7"
   },
   "source": [
    "That's our prediction. Probably we are not even close. It's not strange, weights are initialized in a randomized way. What we need now is a measure of this error called a loss function. Once it's defined, the process of training weights is just an optimization task and the goal is to find such weights that minimize the loss function. In fact, any optimization algorithm can be used here including random search - try a lot of random weights and choose the best ones. But in most cases, stochastic gradient descent is used - in this algorithm using derivative iteratively the weights are updated"
   ]
  },
  {
   "cell_type": "markdown",
   "id": "afe24098",
   "metadata": {
    "id": "afe24098"
   },
   "source": [
    "The first idea might be simply to calculate $prediction - y$. Do you know why it fails? The problem is we will keep a sign so positive and negative errors will cancel each other. We can improve this approach by taking an absolute of it. This metric is called a mean absolute error and again there is one problem. It's not differentiable and some algorithms for optimization require the loss function to be differentiable. That's why we will use the so-called mean squared error $(prediction - y)^2$. It works more or less like mean absolute error + it's differentiable + lower impact of small errors and higher impact of big errors.\n"
   ]
  },
  {
   "cell_type": "code",
   "execution_count": null,
   "id": "ee6d979b",
   "metadata": {
    "id": "ee6d979b"
   },
   "outputs": [],
   "source": [
    "mse = lambda x,y: ((y - x)**2).mean() # our loss function"
   ]
  },
  {
   "cell_type": "markdown",
   "id": "bfeca8e3",
   "metadata": {
    "id": "bfeca8e3"
   },
   "source": [
    "I said you can use even random search so let's give it a try"
   ]
  },
  {
   "cell_type": "code",
   "execution_count": null,
   "id": "ebd76d4b",
   "metadata": {
    "id": "ebd76d4b"
   },
   "outputs": [],
   "source": [
    "bestWeights = model.get_weights()\n",
    "pred = model.predict(x, verbose=0)\n",
    "bestError = mse(y, pred)\n",
    "bestError\n",
    "\n",
    "for _ in range(200):\n",
    "    # generate random weights\n",
    "    weights = [np.random.randn(1,1), np.random.randn(1)]\n",
    "    # use them in the model\n",
    "    model.set_weights(weights)\n",
    "    pred = model.predict(x, verbose=0)\n",
    "    # evaluate the weights\n",
    "    err = mse(y, pred)\n",
    "    if err < bestError:\n",
    "        bestError = err\n",
    "        bestWeights = model.get_weights()\n",
    "        print(\"Best score so far:\", err)\n"
   ]
  },
  {
   "cell_type": "code",
   "execution_count": null,
   "id": "83a93991",
   "metadata": {
    "id": "83a93991"
   },
   "outputs": [],
   "source": [
    "model.set_weights(bestWeights)\n",
    "plt.plot(x,y, '.', label='data')\n",
    "plt.plot(np.sort(x,0), model.predict(np.sort(x,0)), label='prediction')\n",
    "plt.legend()\n",
    "plt.grid()\n",
    "plt.show()"
   ]
  },
  {
   "cell_type": "markdown",
   "id": "03f789d7",
   "metadata": {
    "id": "03f789d7"
   },
   "source": [
    "Ok, it looks better but there should be a better way than a random search. Of course, there is. As I said before, any optimization technique can be used here but in most cases, a version of stochastic gradient descent is used. Here we take advantage of a differentiable loss function and iteratively step by step change the weights in a direction set by gradient descent."
   ]
  },
  {
   "cell_type": "markdown",
   "id": "7b43b5f6",
   "metadata": {
    "id": "7b43b5f6"
   },
   "source": [
    "There are two parameters related to optimizing neural network weights using this algorithm: number of epochs and batch size. The batch size determines the number of rows used for one update of weights. The general rule is the higher the better. The number of epochs determines how many times we will go through the whole dataset in the training process. The total number of weights updates is size of data / batch size * number of epochs"
   ]
  },
  {
   "cell_type": "markdown",
   "id": "b2c810b9",
   "metadata": {
    "id": "b2c810b9"
   },
   "source": [
    "This function is already implemented so we just have to call the fit function. Before we have to call a compile method where we say which loss function should be used and if we want to collect some additional metrics"
   ]
  },
  {
   "cell_type": "code",
   "execution_count": null,
   "id": "adb372be",
   "metadata": {
    "id": "adb372be"
   },
   "outputs": [],
   "source": [
    "model = Sequential()\n",
    "model.add(Dense(1, input_shape=(1,)))\n",
    "model.compile(loss='mse', metrics=['mae'])\n",
    "history = model.fit(x,y, epochs=300, batch_size=16)\n",
    "pd.DataFrame(history.history).plot()\n",
    "plt.grid()\n",
    "plt.yscale('log')\n",
    "plt.show()"
   ]
  },
  {
   "cell_type": "markdown",
   "id": "e6629144",
   "metadata": {
    "id": "e6629144"
   },
   "source": [
    "How to adjust the number of epochs? When you look at the history you should be able to determine when it doesn't make much sense to continue the optimization process. At some point, there is no longer any progress. We can use so-called callbacks - functions executed at various stages of the model training e.g. after each epoch. We can monitor the progress and stop learning when it's not progressing anymore. Such a callback is already implemented and is called EarlyStopping. It can be used together with the ReduceLROnPlateau callback. Before stopping the learning phase first it reduces the learning rate allowing the reduction of loss function even more."
   ]
  },
  {
   "cell_type": "code",
   "execution_count": null,
   "id": "1de1301e",
   "metadata": {
    "id": "1de1301e"
   },
   "outputs": [],
   "source": [
    "early = EarlyStopping(monitor='loss', patience=15, restore_best_weights=True)\n",
    "reduce = ReduceLROnPlateau(monitor='loss', patience=6)\n",
    "\n",
    "model = Sequential()\n",
    "model.add(Dense(1, input_shape=(1,)))\n",
    "model.compile(loss='mse', metrics=['mae'])\n",
    "history=model.fit(x,y, epochs=1000, batch_size=16, callbacks=[early, reduce])\n",
    "history = pd.DataFrame(history.history).plot()\n",
    "plt.grid()\n",
    "plt.yscale('log')\n",
    "plt.show()"
   ]
  },
  {
   "cell_type": "code",
   "execution_count": null,
   "id": "2fbd1acc",
   "metadata": {
    "id": "2fbd1acc"
   },
   "outputs": [],
   "source": [
    "plt.plot(x,y, '.', label='data')\n",
    "plt.plot(np.sort(x,0), model.predict(np.sort(x,0)), label='prediction')\n",
    "plt.legend()\n",
    "plt.grid()\n",
    "plt.show()"
   ]
  },
  {
   "cell_type": "markdown",
   "id": "6d3ed606",
   "metadata": {
    "id": "6d3ed606"
   },
   "source": [
    "The result is not perfect but with such a model it cannot be better. This model can return only linear output and there isn't a line that will fit much better to the data we have. What we have to do is to extend the model. Let's create a neural network with more than one neuron. Typically in classical neural networks neurons are organized in layers. Outputs of the previous layer is an input for the next layer. All inputs are connected to each neuron from a given layer thus we call such architecture fully connected or dense.\n"
   ]
  },
  {
   "cell_type": "markdown",
   "id": "380db2e4",
   "metadata": {
    "id": "380db2e4"
   },
   "source": [
    "Here we can return to the activation functions.\n",
    "\n",
    "First, let's list the most popular functions"
   ]
  },
  {
   "cell_type": "code",
   "execution_count": null,
   "id": "b1bd2fa3",
   "metadata": {
    "id": "b1bd2fa3",
    "scrolled": false
   },
   "outputs": [],
   "source": [
    "print(\"linear\")\n",
    "r = np.linspace(-7,7)\n",
    "plt.plot(r,r)\n",
    "plt.grid()\n",
    "plt.show()\n",
    "print(\"tanh\")\n",
    "plt.plot(r, np.tanh(r))\n",
    "plt.grid()\n",
    "plt.show()\n",
    "print(\"sigmoid\")\n",
    "plt.plot(r, 1/(1 + np.exp(-r)))\n",
    "plt.grid()\n",
    "plt.show()\n",
    "print(\"relu\")\n",
    "plt.plot(r, np.where(r<0,0,r))\n",
    "plt.grid()\n",
    "plt.show()\n",
    "print(\"leakyrelu\")\n",
    "plt.plot(r, np.where(r<0,r*.1,r))\n",
    "plt.grid()\n",
    "plt.show()"
   ]
  },
  {
   "cell_type": "markdown",
   "id": "2029aa65",
   "metadata": {
    "id": "2029aa65"
   },
   "source": [
    "Now how to decide which one to use. As you probably noticed some functions have a limited range of values e.g. sigmoid returns values from 0 to 1 hence it's a perfect option when the output should be treated as a probability.\n",
    "\n",
    "In dense layers it doesn't make much sense to use linear activation. Do you know why? What's a linear transformation of linear transformation?\n",
    "\n",
    "Good default choice is relu"
   ]
  },
  {
   "cell_type": "markdown",
   "id": "0afcc60a",
   "metadata": {
    "id": "0afcc60a"
   },
   "source": [
    "The process of weight selection uses the derivative of an activation function. As you probably noticed for most of them derivative is close to zero for big positive and negative values. That's why we want to stay close to 0. To achieve that it's a good practice to introduce a data scaling process. It's a good idea to try different options, but classical standardization should be enough in most cases"
   ]
  },
  {
   "cell_type": "code",
   "execution_count": null,
   "id": "b6dbc625",
   "metadata": {
    "id": "b6dbc625",
    "scrolled": true
   },
   "outputs": [],
   "source": [
    "ss_x = StandardScaler()\n",
    "ss_y = StandardScaler()\n",
    "\n",
    "transformed_x = ss_x.fit_transform(x)\n",
    "transformed_y = ss_y.fit_transform(y)"
   ]
  },
  {
   "cell_type": "code",
   "execution_count": null,
   "id": "d022528f",
   "metadata": {
    "id": "d022528f",
    "scrolled": true
   },
   "outputs": [],
   "source": [
    "model = Sequential()\n",
    "model.add(Dense(64, activation='relu', input_shape=(1,))) # 64 neurons in the first layer\n",
    "model.add(Dense(1)) # no need to specify input shape. Why?   -> the each next layer is directly connected with previous ones. program knows that input here is the output from previous\n",
    "\n",
    "model.compile(loss='mse', metrics=['mae'])\n",
    "\n",
    "early = EarlyStopping(monitor='loss', patience=15, restore_best_weights=True)  #If after  15 epochs theres no improvement, stop, restore to weights since which it stopped improving\n",
    "reduce = ReduceLROnPlateau(monitor='loss', patience=6)  #Reduce learning rate after 6 epochs of no improvement\n",
    "\n",
    "model.fit(transformed_x,transformed_y, epochs=500, batch_size=16, callbacks=[early, reduce])"
   ]
  },
  {
   "cell_type": "code",
   "execution_count": null,
   "id": "77a731df",
   "metadata": {
    "id": "77a731df"
   },
   "outputs": [],
   "source": [
    "plt.plot(transformed_x,transformed_y, '.', label='data')\n",
    "plt.plot(np.sort(transformed_x, 0), model.predict(np.sort(transformed_x, 0)), label='prediction')\n",
    "plt.legend()\n",
    "plt.grid()\n",
    "plt.show()"
   ]
  },
  {
   "cell_type": "markdown",
   "id": "1e6e3ede",
   "metadata": {
    "id": "1e6e3ede"
   },
   "source": [
    "You might wonder why do we use sort for plotting the prediction. Well it's just to draw a nice line. When the points are in a random order and we plot lines between them it might be quite chaotic."
   ]
  },
  {
   "cell_type": "code",
   "execution_count": null,
   "id": "e64b87a5",
   "metadata": {
    "id": "e64b87a5"
   },
   "outputs": [],
   "source": [
    "plt.plot(transformed_x,transformed_y, '.', label='data')\n",
    "plt.plot(transformed_x, model.predict(transformed_x), label='prediction')\n",
    "plt.legend()\n",
    "plt.grid()\n",
    "plt.show()"
   ]
  },
  {
   "cell_type": "markdown",
   "id": "725a5528",
   "metadata": {
    "id": "725a5528"
   },
   "source": [
    "To avoid it we can just plot points, but a line looks better"
   ]
  },
  {
   "cell_type": "code",
   "execution_count": null,
   "id": "f976bbec",
   "metadata": {
    "id": "f976bbec"
   },
   "outputs": [],
   "source": [
    "plt.plot(transformed_x,transformed_y, '.', label='data')\n",
    "plt.plot(transformed_x, model.predict(transformed_x), '.', label='prediction')\n",
    "plt.legend()\n",
    "plt.grid()\n",
    "plt.show()"
   ]
  },
  {
   "cell_type": "markdown",
   "id": "0c826308",
   "metadata": {
    "id": "0c826308"
   },
   "source": [
    "# Task 1\n",
    "What's the best architecture? Play here https://playground.tensorflow.org/"
   ]
  },
  {
   "cell_type": "markdown",
   "id": "f2621030",
   "metadata": {},
   "source": [
    "Depends on dataset. For more clearly defined and convex, the less layers the better. For spiral it works only with more neurons and first layers that are more complicated, so that points have a chance of getting to the right classification by small change. Sigmoid didnt work well, mostly tanh and relu.\n"
   ]
  },
  {
   "cell_type": "markdown",
   "id": "2180a5f3",
   "metadata": {
    "id": "2180a5f3"
   },
   "source": [
    "# Task 2\n",
    "Try different architectures. Use different number of layers, neurons, activation functions"
   ]
  },
  {
   "cell_type": "code",
   "execution_count": null,
   "id": "967903a5",
   "metadata": {
    "id": "967903a5"
   },
   "outputs": [],
   "source": [
    "model = Sequential()\n",
    "model.add(Dense(128, activation='tanh', input_shape=(1,))) # 64 neurons in the first layer\n",
    "model.add(Dense(64, activation='leaky_relu')) # 64 neurons in the first layer\n",
    "model.add(Dense(1)) # no need to specify input shape. Why?   -> the each next layer is directly connected with previous ones. program knows that input here is the output from previous\n",
    "\n",
    "model.compile(loss='poisson', metrics=['mae'])  \n",
    "\n",
    "early = EarlyStopping(monitor='loss', patience=15, restore_best_weights=True)  #If after  15 epochs theres no improvement, stop, restore to weights since which it stopped improving\n",
    "reduce = ReduceLROnPlateau(monitor='loss', patience=6)  #Reduce learning rate after 6 epochs of no improvement\n",
    "\n",
    "model.fit(transformed_x,transformed_y, epochs=500, batch_size=16, callbacks=[early, reduce])\n",
    "plt.plot(transformed_x,transformed_y, '.', label='data')\n",
    "plt.plot(np.sort(transformed_x, 0), model.predict(np.sort(transformed_x, 0)), label='prediction')\n",
    "plt.legend()\n",
    "plt.grid()\n",
    "plt.show()"
   ]
  },
  {
   "cell_type": "markdown",
   "id": "a7b8ab48",
   "metadata": {},
   "source": [
    "## Overfitting \n",
    "- no callbacks\n",
    "- too many layers for so simple data"
   ]
  },
  {
   "cell_type": "code",
   "execution_count": null,
   "id": "8a54637f",
   "metadata": {
    "id": "8a54637f"
   },
   "outputs": [],
   "source": [
    "model = Sequential()\n",
    "model.add(Dense(128, activation='tanh', input_shape=(1,))) # 64 neurons in the first layer\n",
    "model.add(Dense(64, activation='leaky_relu')) # 64 neurons in the first layer\n",
    "model.add(Dense(64, activation='sigmoid')) # 64 neurons in the first layer\n",
    "model.add(Dense(64, activation='tanh')) # 64 neurons in the first layer\n",
    "model.add(Dense(64, activation='relu')) # 64 neurons in the first layer\n",
    "model.add(Dense(1)) # no need to specify input shape. Why?   -> the each next layer is directly connected with previous ones. program knows that input here is the output from previous\n",
    "\n",
    "model.compile(loss='mse', metrics=['mae'])  \n",
    "\n",
    "model.fit(transformed_x,transformed_y, epochs=500, batch_size=16, verbose=0)\n",
    "plt.plot(transformed_x,transformed_y, '.', label='data')\n",
    "plt.plot(np.sort(transformed_x, 0), model.predict(np.sort(transformed_x, 0)), label='prediction')\n",
    "plt.legend()\n",
    "plt.grid()\n",
    "plt.show()"
   ]
  },
  {
   "cell_type": "code",
   "execution_count": null,
   "id": "3ed9dbad",
   "metadata": {
    "id": "3ed9dbad"
   },
   "outputs": [],
   "source": []
  },
  {
   "cell_type": "markdown",
   "id": "d2bdc31e",
   "metadata": {
    "id": "d2bdc31e"
   },
   "source": [
    "Selecting the best number of layers and neurons is an optimization task itself. There are no strict rules. In general, you should increase the number of neurons as long as it improves the results. Be aware of overfitting - model learning noise in the data. Always split dataset to train, validation and training.\n",
    "\n",
    "Remember even the most complex network works still like a single perceptron - it's just an equation with weights determined using an optimization algorithm.\n",
    "\n",
    "Lifehack: since selecting architecture is an optimization task we can use an optimization algorithm to solve it. The most obvious representation would be a vector of size equal to the maximum number of layers we want and each element representing the number of neurons in such a layer. There are a few problems with this approach - it doesn't make sense to have neurons in the next layer if we have 0 neurons in the previous which is allowed in this representation. Removing 0 from the considered range is an option but then we will fix the number of layers. Also in most cases, it's not recommended to increase the number of neurons in the next layer. To avoid these issues we can change the representation. The first element will still be the number of neurons in the first layer, but all remainings will be the number from 0 to 1 meaning the fraction of neurons from the previous layer used in this layer. For example $[64, 1, .5, .5, 0, 0]$ would mean architecture with 4 layers with 64, 64, 32, and 16 neurons."
   ]
  },
  {
   "cell_type": "markdown",
   "id": "143a36d2",
   "metadata": {
    "id": "143a36d2"
   },
   "source": [
    "To avoid overfitting we split our dataset to training, validation, and test sets. It's a good practice in most cases to shuffle the data  since the initial order might have some problems. For example data can be sorted by a target value. Then if we split it in half, the testing set might contains target that are not in the training set"
   ]
  },
  {
   "cell_type": "code",
   "execution_count": null,
   "id": "b2164e31",
   "metadata": {
    "id": "b2164e31"
   },
   "outputs": [],
   "source": [
    "np.random.seed(31)\n",
    "idx = np.arange(len(x))\n",
    "np.random.shuffle(idx)\n",
    "idx"
   ]
  },
  {
   "cell_type": "code",
   "execution_count": null,
   "id": "50911996",
   "metadata": {
    "id": "50911996"
   },
   "outputs": [],
   "source": [
    "train = idx[:int(.8*len(x))]\n",
    "val = idx[int(.8*len(x)):int(.9*len(x))]\n",
    "test = idx[int(.9*len(x)):]"
   ]
  },
  {
   "cell_type": "code",
   "execution_count": null,
   "id": "bda7f44f",
   "metadata": {
    "id": "bda7f44f"
   },
   "outputs": [],
   "source": [
    "train_x, train_y = transformed_x[train], transformed_y[train]\n",
    "val_x, val_y = transformed_x[val], transformed_y[val]\n",
    "test_x, test_y = transformed_x[test], transformed_y[test]"
   ]
  },
  {
   "cell_type": "markdown",
   "id": "432061e0",
   "metadata": {
    "id": "432061e0"
   },
   "source": [
    "What's the problem here? Well it's not a big issue, but data from validation and test sets should not be used to determine scaling parameters. So the scaler should be fit on the training data and then applied to validation and test datasets. Can you do it now?"
   ]
  },
  {
   "cell_type": "code",
   "execution_count": null,
   "id": "846b33ac",
   "metadata": {
    "id": "846b33ac"
   },
   "outputs": [],
   "source": [
    "ss_x = StandardScaler()\n",
    "ss_y = StandardScaler()\n",
    "\n",
    "#Train on train set\n",
    "train_x = ss_x.fit_transform(train_x)\n",
    "train_y = ss_y.fit_transform(train_y)\n",
    "\n",
    "#Apply to val and test\n",
    "val_x = ss_x.transform(val_x)\n",
    "val_y = ss_y.transform(val_y)\n",
    "test_x = ss_x.transform(test_x)\n",
    "test_y = ss_y.transform(test_y)"
   ]
  },
  {
   "cell_type": "code",
   "execution_count": null,
   "id": "62d9c533",
   "metadata": {
    "id": "62d9c533"
   },
   "outputs": [],
   "source": [
    "model = Sequential()\n",
    "model.add(Dense(64, activation='relu', input_shape=(1,)))\n",
    "model.add(Dense(1, activation='linear'))\n",
    "\n",
    "model.compile(loss='mse', metrics=['mae'])\n",
    "\n",
    "early = EarlyStopping(patience=15, restore_best_weights=True) # we don't specify monitor, by default it's val_loss\n",
    "reduce = ReduceLROnPlateau(patience=6)\n",
    "\n",
    "model.fit(train_x,train_y, validation_data=(val_x, val_y), epochs=500, batch_size=16, callbacks=[early, reduce])"
   ]
  },
  {
   "cell_type": "code",
   "execution_count": null,
   "id": "cdd6ad20",
   "metadata": {
    "id": "cdd6ad20"
   },
   "outputs": [],
   "source": [
    "\n",
    "plt.plot(test_x,test_y, '.', label='data')\n",
    "plt.plot(np.sort(test_x, 0), model.predict(np.sort(test_x, 0)), label='prediction')\n",
    "plt.legend()\n",
    "plt.grid()\n",
    "plt.show()"
   ]
  },
  {
   "cell_type": "markdown",
   "id": "688f8d7f",
   "metadata": {
    "id": "688f8d7f"
   },
   "source": [
    "There are two popular functions to create a neural network model. For simple architectures Sequential can be used. For more complex Model is a suitable choice.\n",
    "\n",
    "\n",
    "In the sequential model, we assume layers are executed sequentially one by one. In Model, we can create architectures with different connections, multiple inputs or outputs."
   ]
  },
  {
   "cell_type": "code",
   "execution_count": null,
   "id": "44aeb2d4",
   "metadata": {
    "id": "44aeb2d4"
   },
   "outputs": [],
   "source": [
    "model = Sequential()\n",
    "model.add(Dense(64, activation='relu', input_shape=(1,)))\n",
    "model.add(Dense(32, activation='relu', input_shape=(1,)))\n",
    "model.add(Dense(16, activation='relu', input_shape=(1,)))\n",
    "model.add(Dense(1, activation='linear'))"
   ]
  },
  {
   "cell_type": "code",
   "execution_count": null,
   "id": "e85206c5",
   "metadata": {
    "id": "e85206c5"
   },
   "outputs": [],
   "source": [
    "plot_model(model)"
   ]
  },
  {
   "cell_type": "code",
   "execution_count": null,
   "id": "30fcfaff",
   "metadata": {
    "id": "30fcfaff"
   },
   "outputs": [],
   "source": [
    "inputLayer = Input(shape=(1,))\n",
    "dense1 = Dense(64, activation='relu')(inputLayer)\n",
    "dense2 = Dense(32, activation='relu')(dense1)\n",
    "dense3 = Dense(16, activation='relu')(dense2)\n",
    "dense4 = Dense(1, activation='relu')(dense3)\n",
    "model = Model(inputs=inputLayer, outputs=dense4)"
   ]
  },
  {
   "cell_type": "code",
   "execution_count": null,
   "id": "b1916b12",
   "metadata": {
    "id": "b1916b12"
   },
   "outputs": [],
   "source": [
    "plot_model(model)"
   ]
  },
  {
   "cell_type": "code",
   "execution_count": null,
   "id": "5aeb6004",
   "metadata": {
    "id": "5aeb6004"
   },
   "outputs": [],
   "source": [
    "inputLayer = Input(shape=(1,))\n",
    "dense1 = Dense(64, activation='relu')(inputLayer)\n",
    "dense2 = Dense(32, activation='relu')(dense1)\n",
    "concat = Concatenate()([dense1, dense2])\n",
    "dense3 = Dense(16, activation='relu')(concat)\n",
    "dense4 = Dense(1, activation='relu')(dense3)\n",
    "model = Model(inputs=inputLayer, outputs=dense4)"
   ]
  },
  {
   "cell_type": "code",
   "execution_count": null,
   "id": "240c8a14",
   "metadata": {
    "id": "240c8a14"
   },
   "outputs": [],
   "source": [
    "plot_model(model)"
   ]
  },
  {
   "cell_type": "markdown",
   "id": "44142fc3",
   "metadata": {
    "id": "44142fc3"
   },
   "source": [
    "# Task 3\n",
    "Create a model with two inputs, first processed by three Dense layers, second by two Dense layers, then concatenat them, process by two Dense layers and split it to two outputs"
   ]
  },
  {
   "cell_type": "code",
   "execution_count": null,
   "id": "6d5d4b51",
   "metadata": {
    "id": "6d5d4b51"
   },
   "outputs": [],
   "source": [
    "input1 = Input(shape=(1,))\n",
    "input2 = Input(shape=(1,))\n",
    "\n",
    "dense1_1 = Dense(64, activation='relu')(input1)\n",
    "dense1_2 = Dense(32, activation='relu')(dense1_1)\n",
    "dense1_3 = Dense(16, activation='relu')(dense1_2)\n",
    "dense2_1 = Dense(64, activation='relu')(input2)\n",
    "dense2_2 = Dense(32, activation='relu')(dense2_1)\n",
    "\n",
    "concat = concatenate([dense1_3, dense2_2])\n",
    "\n",
    "dense3 = Dense(1, activation='relu')(concat)\n",
    "dense4 = Dense(1, activation='relu')(dense3)\n",
    "\n",
    "output1 = Dense(1, activation='linear')(dense4)\n",
    "output2 = Dense(1, activation='linear')(dense4)\n",
    "\n",
    "model = Model(inputs=[input1, input2], outputs=[output1, output2])\n",
    "# model.summary()\n",
    "plot_model(model)"
   ]
  },
  {
   "cell_type": "markdown",
   "id": "8d851d7c",
   "metadata": {
    "id": "8d851d7c"
   },
   "source": [
    "Data generators are useful tools for neural network training. It allows to create data separately for each batch. Thanks to that there is no need to load all the data to the memory, which can be an issue for example when dealing with images. Also when we don't have data but a function creating data then instead of generating a fixed number of rows in advance a data generator can be used. It's also useful for the data augmentation process."
   ]
  },
  {
   "cell_type": "code",
   "execution_count": null,
   "id": "446f549a",
   "metadata": {
    "id": "446f549a"
   },
   "outputs": [],
   "source": [
    "class DataGenerator(Sequence):\n",
    "    def __init__(self, x, y, batch_size, shuffle=True):\n",
    "        self.x = x\n",
    "        self.y = y\n",
    "        self.indexes = np.arange(len(y))\n",
    "        self.batch_size = batch_size\n",
    "        self.shuffle = shuffle\n",
    "        self.on_epoch_end()\n",
    "\n",
    "    def __len__(self):\n",
    "        'Denotes the number of batches per epoch'\n",
    "        return int(np.floor(len(self.indexes) / self.batch_size))\n",
    "\n",
    "    def __getitem__(self, index):\n",
    "        'Generate one batch of data'\n",
    "        # Generate indexes of the batch.\n",
    "        # During training and prediction this function will be called in range(0, __len__())\n",
    "        indexes = self.indexes[index*self.batch_size:(index+1)*self.batch_size]\n",
    "\n",
    "        # Generate data\n",
    "        X, y = self.__data_generation(indexes)\n",
    "\n",
    "        return X, y\n",
    "\n",
    "    def on_epoch_end(self):\n",
    "        'Updates indexes after each epoch'\n",
    "        if self.shuffle == True:\n",
    "            np.random.shuffle(self.indexes)\n",
    "\n",
    "    def __data_generation(self, idx):\n",
    "        X = np.empty((self.batch_size, 1))\n",
    "        y = np.empty((self.batch_size), )\n",
    "\n",
    "        for i, ID in enumerate(idx):\n",
    "            # Store sample\n",
    "            X[i,] = self.x[ID]\n",
    "\n",
    "            # Store class\n",
    "            y[i] = self.y[ID]\n",
    "\n",
    "        return X, y"
   ]
  },
  {
   "cell_type": "code",
   "execution_count": null,
   "id": "2d621e9f",
   "metadata": {
    "id": "2d621e9f"
   },
   "outputs": [],
   "source": [
    "trainGenerator = DataGenerator(train_x, train_y, 16)\n",
    "valGenerator = DataGenerator(val_x, val_y, 1, shuffle=False)"
   ]
  },
  {
   "cell_type": "code",
   "execution_count": null,
   "id": "ae76a3e8",
   "metadata": {
    "id": "ae76a3e8"
   },
   "outputs": [],
   "source": [
    "model = Sequential()\n",
    "model.add(Dense(64, activation='relu', input_shape=(1,)))\n",
    "model.add(Dense(1, activation='linear'))\n",
    "\n",
    "model.compile(loss='mse', metrics=['mae'])\n",
    "\n",
    "early = EarlyStopping(patience=15, restore_best_weights=True) # we don't specify monitor, by default it's val_loss\n",
    "reduce = ReduceLROnPlateau(patience=6)\n",
    "\n",
    "model.fit(trainGenerator, validation_data=valGenerator, epochs=500, batch_size=16, callbacks=[early, reduce])"
   ]
  },
  {
   "cell_type": "code",
   "execution_count": null,
   "id": "19e83f6f",
   "metadata": {
    "id": "19e83f6f"
   },
   "outputs": [],
   "source": [
    "plt.plot(test_x,test_y, '.', label='data')\n",
    "plt.plot(np.sort(test_x, 0), model.predict(np.sort(test_x, 0)), label='prediction')\n",
    "plt.legend()\n",
    "plt.grid()\n",
    "plt.show()"
   ]
  },
  {
   "cell_type": "markdown",
   "id": "34890d07",
   "metadata": {
    "id": "34890d07"
   },
   "source": [
    "Of course, this generator doesn't make much sense since the data are already in the memory and we don't do anything with them. It's just a template you can use later when it's really needed."
   ]
  },
  {
   "cell_type": "markdown",
   "id": "2e45ea08",
   "metadata": {
    "id": "2e45ea08"
   },
   "source": [
    "# Task 4\n",
    "Predict the quality of wine using neural network.\n",
    " - Treat target as continuous.\n",
    " - Treat target as discrete classes."
   ]
  },
  {
   "cell_type": "code",
   "execution_count": null,
   "id": "7e5c252d",
   "metadata": {
    "id": "7e5c252d"
   },
   "outputs": [],
   "source": [
    "data = load_wine()"
   ]
  },
  {
   "cell_type": "code",
   "execution_count": null,
   "id": "cfb56e2a",
   "metadata": {
    "id": "cfb56e2a"
   },
   "outputs": [],
   "source": [
    "X = data['data']\n",
    "y = data['target']\n",
    "# y.value_counts(normalize=True).round(3)"
   ]
  },
  {
   "cell_type": "code",
   "execution_count": null,
   "id": "9abc92fe",
   "metadata": {
    "id": "9abc92fe"
   },
   "outputs": [],
   "source": [
    "np.isnan(X).sum()\n",
    "np.bincount(y)/len(y)"
   ]
  },
  {
   "cell_type": "code",
   "execution_count": null,
   "id": "086aeb2f",
   "metadata": {
    "id": "086aeb2f"
   },
   "outputs": [],
   "source": [
    "y"
   ]
  },
  {
   "cell_type": "markdown",
   "id": "e3c15f70",
   "metadata": {
    "id": "e3c15f70"
   },
   "source": [
    "Here spliting into train, val, and test sets without shuffling might not be the best idea"
   ]
  },
  {
   "cell_type": "code",
   "execution_count": null,
   "id": "bfd10b21",
   "metadata": {
    "id": "bfd10b21"
   },
   "outputs": [],
   "source": []
  },
  {
   "cell_type": "code",
   "execution_count": null,
   "id": "82c191cf",
   "metadata": {
    "id": "82c191cf"
   },
   "outputs": [],
   "source": [
    "\n"
   ]
  },
  {
   "cell_type": "code",
   "execution_count": null,
   "id": "819228bc",
   "metadata": {
    "id": "819228bc"
   },
   "outputs": [],
   "source": [
    "from sklearn.model_selection import train_test_split\n",
    "from sklearn.preprocessing import StandardScaler\n",
    "from sklearn.metrics import mean_squared_error\n",
    "from tensorflow.keras.models import Sequential\n",
    "from tensorflow.keras.layers import Dense\n",
    "from tensorflow.keras.callbacks import EarlyStopping, ReduceLROnPlateau\n",
    "\n",
    "\n",
    "X_train, X_test, y_train, y_test = train_test_split(X, y, test_size=0.3, random_state=42, shuffle=True)\n",
    "print(X_train.shape, X_test.shape)\n",
    "\n",
    "\n",
    "ss_x = StandardScaler()\n",
    "#Train on train set, apply to test\n",
    "X_train = ss_x.fit_transform(X_train)\n",
    "X_test = ss_x.transform(X_test)\n",
    "\n",
    "\n",
    "model = Sequential()\n",
    "model.add(Dense(32, activation='relu', input_shape=(13,)))\n",
    "model.add(Dense(16, activation='relu'))\n",
    "model.add(Dense(16, activation='relu'))\n",
    "model.add(Dense(8, activation='relu'))\n",
    "model.add(Dense(1, activation='sigmoid'))\n",
    "\n",
    "model.compile(optimizer= 'adam', loss='mse', metrics=['accuracy'])\n",
    "\n",
    "early = EarlyStopping(patience=50, restore_best_weights=True, monitor='accuracy') # we don't specify monitor, by default it's val_loss\n",
    "reduce = ReduceLROnPlateau(patience=50, monitor='loss')\n",
    "\n",
    "model.fit(X_train, y_train, epochs=500, batch_size=16, callbacks=[early, reduce])\n",
    "#, validation_data=(X_val, y_val)\n",
    "y_pred = model.predict(X_test)\n",
    "mse = mean_squared_error(y_test, y_pred)\n",
    "print(f\"Mean Squared Error: {mse}\")"
   ]
  },
  {
   "cell_type": "markdown",
   "id": "c4b39b3f",
   "metadata": {
    "id": "c4b39b3f"
   },
   "source": [
    "# Project\n"
   ]
  },
  {
   "cell_type": "code",
   "execution_count": null,
   "id": "465c0080",
   "metadata": {
    "id": "465c0080"
   },
   "outputs": [],
   "source": [
    "df = pd.DataFrame({'pActive': [0.7, 0.2], 'popularity': [0.1, 0.4]})\n",
    "df"
   ]
  },
  {
   "cell_type": "markdown",
   "id": "f2d45e96",
   "metadata": {
    "id": "f2d45e96"
   },
   "source": [
    "Consider a simplified model for the election of, for example, the mayor of a city. In our case we have 12 potential candidates. Each of them has assigned a probability $pActive$ determining the chances of running in the election - this consists of, for example the chance of collecting signatures, being nominated by their party, etc.\n",
    "\n",
    "In addition, we also determined the popularity of each candidate.\n",
    "The probability of winning an election is equal to the ratio of its\n",
    "popularity to the sum of the popularity of all active candidates\n",
    "participating in the election.\n",
    "\n",
    "Example:\n",
    "\n",
    "With two candidates having $pActive$ 0.7 and 0.2 and $popularity$ 0.1 and 0.4 respectively there are 4 possible sceanrios:\n",
    "\n",
    " - nobody participaring in the elections p = (1-0.7) * (1-0.2) = 0.24\n",
    " - just candidate A p = 0.7 * (1-0.2) = 0.56\n",
    " - just candidate B p = (1-0.7) * 0.2 = 0.06\n",
    " - both candidates p = 0.7 * 0.2 = 0.14\n",
    "\n",
    "In the first scenario there are no candidates so nobody wins the election. In the second and third case there is just once candidate so with 100% probability she/he wins. The last scenario is the most complex and we have to account for popularity and candidate A has 20% chances of wining and B 80%. Combining all scenarios\n",
    "\n",
    " - candidate A: 0.56 * 100% + 0.14 * 20% = 58.8%\n",
    " - candidate B: 0.06 * 100% + 0.14 * 80% = 17.2%\n",
    "\n",
    "We can write a function to calculate it\n"
   ]
  },
  {
   "cell_type": "code",
   "execution_count": null,
   "id": "5d1d332b",
   "metadata": {
    "id": "5d1d332b"
   },
   "outputs": [],
   "source": [
    "def getProbability(df):\n",
    "    combinations = np.indices((2,) * len(df)).reshape(len(df), -1).T.astype(int)\n",
    "    p = np.maximum((1-combinations)*(1-df.pActive.values), (combinations*df.pActive.values)).prod(1)\n",
    "    prob = (combinations * df.popularity.values)[1:] / (combinations * df.popularity.values).sum(1).reshape((-1,1))[1:]\n",
    "    x=(p.reshape((-1,1))[1:] * prob)\n",
    "\n",
    "    return x.sum(axis=0)"
   ]
  },
  {
   "cell_type": "code",
   "execution_count": null,
   "id": "b78e9ce8",
   "metadata": {
    "id": "b78e9ce8"
   },
   "outputs": [],
   "source": [
    "getProbability(df)"
   ]
  },
  {
   "cell_type": "code",
   "execution_count": null,
   "id": "e4fc6298",
   "metadata": {
    "id": "e4fc6298"
   },
   "outputs": [],
   "source": [
    "np.random.seed(44)\n",
    "df = pd.DataFrame({'pActive': np.random.rand(23), 'popularity': np.random.rand(23)})\n",
    "df"
   ]
  },
  {
   "cell_type": "code",
   "execution_count": null,
   "id": "1348f5a4",
   "metadata": {
    "id": "1348f5a4"
   },
   "outputs": [],
   "source": [
    "getProbability(df)"
   ]
  },
  {
   "cell_type": "markdown",
   "id": "11154ecf",
   "metadata": {
    "id": "11154ecf"
   },
   "source": [
    "It might take longer when more candidates are considered. Imagine you are a party leader and you want to determine who shall be your candidate. You have to solve an optimization problem where this function will be executed hundreds of times thus we want to make it faster.\n",
    "\n",
    "Your task is to create a neural network estimating function $getProbability$, while being much faster. You can assume the maximum number of candidates is 16 and the minimal is 1. $pActive$ is in range from 0 to 1 $popularity$ is greater than 0 without an upper limit. Keep in mind it's possible no candidate will participate in the election (scenario 1 in the example above).\n",
    "Try to avoide using pre- and post-processing and do as much computations as possible inside the neural network\n",
    "\n",
    "You can test your results here https://www.kaggle.com/t/0ab6861855f141969f4755129a6c5bca\n",
    "\n",
    "Send your result by 4th November to grzegorz.miebs@cs.put.poznan.pl, start the email subject with [DL], there should be a function that reads a pickled list of DataFrames and produces a .csv file with probabilities.\n"
   ]
  },
  {
   "cell_type": "code",
   "execution_count": null,
   "id": "68a3f1ed",
   "metadata": {
    "id": "68a3f1ed"
   },
   "outputs": [],
   "source": [
    "# in/output size. propper output acivation that will model probability not summing to 1. time complexity important. "
   ]
  },
  {
   "cell_type": "markdown",
   "id": "82e085b2",
   "metadata": {},
   "source": [
    "#### Data generator for handling computations in batches"
   ]
  },
  {
   "cell_type": "code",
   "execution_count": 1,
   "id": "47d9cd6c",
   "metadata": {},
   "outputs": [
    {
     "name": "stderr",
     "output_type": "stream",
     "text": [
      "c:\\Users\\mary9\\anaconda3\\lib\\site-packages\\pandas\\core\\computation\\expressions.py:21: UserWarning: Pandas requires version '2.8.4' or newer of 'numexpr' (version '2.8.3' currently installed).\n",
      "  from pandas.core.computation.check import NUMEXPR_INSTALLED\n",
      "c:\\Users\\mary9\\anaconda3\\lib\\site-packages\\pandas\\core\\arrays\\masked.py:60: UserWarning: Pandas requires version '1.3.6' or newer of 'bottleneck' (version '1.3.5' currently installed).\n",
      "  from pandas.core import (\n"
     ]
    }
   ],
   "source": [
    "import numpy as np\n",
    "import pandas as pd\n",
    "import matplotlib.pyplot as plt\n",
    "from tensorflow.keras.layers import Dense, Input\n",
    "from tensorflow.keras.models import Model\n",
    "from tensorflow.keras.callbacks import EarlyStopping\n",
    "from tensorflow.keras.optimizers import Adam\n",
    "from sklearn.model_selection import train_test_split\n",
    "from sklearn.preprocessing import StandardScaler\n",
    "from tensorflow.keras.utils import Sequence, plot_model\n",
    "from sklearn.metrics import mean_absolute_error, mean_squared_error, r2_score\n",
    "from tensorflow.keras.layers import Dropout\n"
   ]
  },
  {
   "cell_type": "code",
   "execution_count": 2,
   "id": "7e64163a",
   "metadata": {},
   "outputs": [],
   "source": [
    "def getProbability(df):\n",
    "    combinations = np.indices((2,) * len(df)).reshape(len(df), -1).T.astype(int)\n",
    "    p = np.maximum((1 - combinations) * (1 - df.pActive.values), (combinations * df.pActive.values)).prod(1)\n",
    "    prob = (combinations * df.popularity.values)[1:] / (combinations * df.popularity.values).sum(1).reshape((-1, 1))[1:]\n",
    "    x = (p.reshape((-1, 1))[1:] * prob)\n",
    "\n",
    "    return x.sum(axis=0)\n",
    "\n",
    "class DataGenerator(Sequence):\n",
    "    def __init__(self, x, batch_size=32, shuffle=True):\n",
    "        self.x = x  # Features: assumes shape (num_samples, 2)\n",
    "        self.indexes = np.arange(len(x))\n",
    "        self.batch_size = batch_size\n",
    "        self.shuffle = shuffle\n",
    "        self.on_epoch_end()\n",
    "\n",
    "    def __len__(self):\n",
    "        'Denotes the number of batches per epoch'\n",
    "        return int(np.floor(len(self.indexes) / self.batch_size))\n",
    "\n",
    "    def __getitem__(self, index):\n",
    "        'Generate one batch of data'\n",
    "        # Generate indexes of the batch\n",
    "        indexes = self.indexes[index * self.batch_size:(index + 1) * self.batch_size]\n",
    "        \n",
    "        # Generate data\n",
    "        X, y = self.__data_generation(indexes)\n",
    "\n",
    "        return X, y\n",
    "\n",
    "    def on_epoch_end(self):\n",
    "        'Updates indexes after each epoch'\n",
    "        if self.shuffle:\n",
    "            np.random.shuffle(self.indexes)\n",
    "\n",
    "    def __data_generation(self, idx):\n",
    "        # Create empty arrays for the batch\n",
    "        X = np.empty((self.batch_size, 2))  # Assuming 2 features: pActive and popularity\n",
    "        y = np.empty((self.batch_size,))     # Assuming y is one-dimensional (continuous probabilities)\n",
    "\n",
    "        for i, ID in enumerate(idx):\n",
    "            # Store sample\n",
    "            X[i, :] = self.x[ID]\n",
    "\n",
    "        # Generate probabilities for the entire batch using getProbability\n",
    "        df_batch = pd.DataFrame(X, columns=['pActive', 'popularity'])  # Create DataFrame from current batch\n",
    "        y = getProbability(df_batch)  # Get probabilities for the batch\n",
    "\n",
    "        return X, y\n"
   ]
  },
  {
   "cell_type": "markdown",
   "id": "c328d395",
   "metadata": {},
   "source": [
    "##### Creating train data"
   ]
  },
  {
   "cell_type": "code",
   "execution_count": 3,
   "id": "3dbd7734",
   "metadata": {},
   "outputs": [],
   "source": [
    "np.random.seed(44)\n",
    "num_rows = 1000\n",
    "X = pd.DataFrame({\n",
    "    'pActive': np.random.rand(num_rows),  # Random values between 0 and 1\n",
    "    'popularity': np.random.rand(num_rows)   # Random values for popularity (0 to 100)\n",
    "}).values\n",
    "\n",
    "\n",
    "train_gen = DataGenerator(X[:int(0.8*num_rows)], batch_size=16, shuffle=False)\n",
    "val_gen = DataGenerator(X[int(0.8*num_rows):], batch_size=16, shuffle=False)\n",
    "# print(train_gen.__getitem__(0))\n",
    "# print(val_gen.__getitem__(0))"
   ]
  },
  {
   "cell_type": "markdown",
   "id": "e573901c",
   "metadata": {},
   "source": [
    "##### Model"
   ]
  },
  {
   "cell_type": "code",
   "execution_count": 21,
   "id": "6b24d4a2",
   "metadata": {
    "id": "6b24d4a2"
   },
   "outputs": [],
   "source": [
    "inputLayer = Input(shape=(2,), name='input1')\n",
    "\n",
    "hidden1 = Dense(96, activation='relu')(inputLayer)\n",
    "hidden2 = Dense(96, activation='relu')(hidden1)\n",
    "dropout1 = Dropout(0.5)(hidden2)\n",
    "hidden3 = Dense(48, activation='relu')(dropout1)\n",
    "# hidden4 = Dense(8, activation='relu')(hidden3)\n",
    "# hidden3 = Dense(4, activation='relu')(hidden2)\n",
    "\n",
    "output = Dense(1, activation='sigmoid')(hidden3)\n",
    "model = Model(inputs=inputLayer, outputs=output)\n",
    "\n",
    "model.compile(optimizer=Adam(learning_rate=0.001), loss='mean_squared_error', metrics=['mae', 'mse'])\n"
   ]
  },
  {
   "cell_type": "markdown",
   "id": "c1b6b671",
   "metadata": {},
   "source": [
    "##### Fitting with early stopping patience 15"
   ]
  },
  {
   "cell_type": "code",
   "execution_count": 22,
   "id": "c94f8974",
   "metadata": {},
   "outputs": [
    {
     "name": "stdout",
     "output_type": "stream",
     "text": [
      "Epoch 1/100\n",
      "\u001b[1m50/50\u001b[0m \u001b[32m━━━━━━━━━━━━━━━━━━━━\u001b[0m\u001b[37m\u001b[0m \u001b[1m3s\u001b[0m 37ms/step - loss: 0.1187 - mae: 0.3136 - mse: 0.1187 - val_loss: 0.0081 - val_mae: 0.0701 - val_mse: 0.0081\n",
      "Epoch 2/100\n",
      "\u001b[1m50/50\u001b[0m \u001b[32m━━━━━━━━━━━━━━━━━━━━\u001b[0m\u001b[37m\u001b[0m \u001b[1m2s\u001b[0m 32ms/step - loss: 0.0076 - mae: 0.0686 - mse: 0.0076 - val_loss: 0.0071 - val_mae: 0.0645 - val_mse: 0.0071\n",
      "Epoch 3/100\n",
      "\u001b[1m50/50\u001b[0m \u001b[32m━━━━━━━━━━━━━━━━━━━━\u001b[0m\u001b[37m\u001b[0m \u001b[1m2s\u001b[0m 33ms/step - loss: 0.0065 - mae: 0.0618 - mse: 0.0065 - val_loss: 0.0069 - val_mae: 0.0628 - val_mse: 0.0069\n",
      "Epoch 4/100\n",
      "\u001b[1m50/50\u001b[0m \u001b[32m━━━━━━━━━━━━━━━━━━━━\u001b[0m\u001b[37m\u001b[0m \u001b[1m2s\u001b[0m 32ms/step - loss: 0.0066 - mae: 0.0621 - mse: 0.0066 - val_loss: 0.0065 - val_mae: 0.0603 - val_mse: 0.0065\n",
      "Epoch 5/100\n",
      "\u001b[1m50/50\u001b[0m \u001b[32m━━━━━━━━━━━━━━━━━━━━\u001b[0m\u001b[37m\u001b[0m \u001b[1m2s\u001b[0m 31ms/step - loss: 0.0058 - mae: 0.0566 - mse: 0.0058 - val_loss: 0.0057 - val_mae: 0.0539 - val_mse: 0.0057\n",
      "Epoch 6/100\n",
      "\u001b[1m50/50\u001b[0m \u001b[32m━━━━━━━━━━━━━━━━━━━━\u001b[0m\u001b[37m\u001b[0m \u001b[1m2s\u001b[0m 33ms/step - loss: 0.0050 - mae: 0.0521 - mse: 0.0050 - val_loss: 0.0030 - val_mae: 0.0356 - val_mse: 0.0030\n",
      "Epoch 7/100\n",
      "\u001b[1m50/50\u001b[0m \u001b[32m━━━━━━━━━━━━━━━━━━━━\u001b[0m\u001b[37m\u001b[0m \u001b[1m2s\u001b[0m 33ms/step - loss: 0.0025 - mae: 0.0356 - mse: 0.0025 - val_loss: 9.7141e-04 - val_mae: 0.0200 - val_mse: 9.7141e-04\n",
      "Epoch 8/100\n",
      "\u001b[1m50/50\u001b[0m \u001b[32m━━━━━━━━━━━━━━━━━━━━\u001b[0m\u001b[37m\u001b[0m \u001b[1m2s\u001b[0m 32ms/step - loss: 0.0013 - mae: 0.0249 - mse: 0.0013 - val_loss: 6.1670e-04 - val_mae: 0.0144 - val_mse: 6.1670e-04\n",
      "Epoch 9/100\n",
      "\u001b[1m50/50\u001b[0m \u001b[32m━━━━━━━━━━━━━━━━━━━━\u001b[0m\u001b[37m\u001b[0m \u001b[1m2s\u001b[0m 33ms/step - loss: 0.0010 - mae: 0.0220 - mse: 0.0010 - val_loss: 6.1100e-04 - val_mae: 0.0144 - val_mse: 6.1100e-04\n",
      "Epoch 10/100\n",
      "\u001b[1m50/50\u001b[0m \u001b[32m━━━━━━━━━━━━━━━━━━━━\u001b[0m\u001b[37m\u001b[0m \u001b[1m2s\u001b[0m 33ms/step - loss: 9.0007e-04 - mae: 0.0207 - mse: 9.0007e-04 - val_loss: 5.9148e-04 - val_mae: 0.0139 - val_mse: 5.9148e-04\n",
      "Epoch 11/100\n",
      "\u001b[1m50/50\u001b[0m \u001b[32m━━━━━━━━━━━━━━━━━━━━\u001b[0m\u001b[37m\u001b[0m \u001b[1m2s\u001b[0m 33ms/step - loss: 8.8981e-04 - mae: 0.0206 - mse: 8.8981e-04 - val_loss: 6.1413e-04 - val_mae: 0.0149 - val_mse: 6.1413e-04\n",
      "Epoch 12/100\n",
      "\u001b[1m50/50\u001b[0m \u001b[32m━━━━━━━━━━━━━━━━━━━━\u001b[0m\u001b[37m\u001b[0m \u001b[1m2s\u001b[0m 32ms/step - loss: 8.0451e-04 - mae: 0.0201 - mse: 8.0451e-04 - val_loss: 7.4785e-04 - val_mae: 0.0150 - val_mse: 7.4785e-04\n",
      "Epoch 13/100\n",
      "\u001b[1m50/50\u001b[0m \u001b[32m━━━━━━━━━━━━━━━━━━━━\u001b[0m\u001b[37m\u001b[0m \u001b[1m2s\u001b[0m 33ms/step - loss: 6.8176e-04 - mae: 0.0189 - mse: 6.8176e-04 - val_loss: 5.8998e-04 - val_mae: 0.0137 - val_mse: 5.8998e-04\n",
      "Epoch 14/100\n",
      "\u001b[1m50/50\u001b[0m \u001b[32m━━━━━━━━━━━━━━━━━━━━\u001b[0m\u001b[37m\u001b[0m \u001b[1m2s\u001b[0m 34ms/step - loss: 8.4932e-04 - mae: 0.0207 - mse: 8.4932e-04 - val_loss: 5.8953e-04 - val_mae: 0.0144 - val_mse: 5.8953e-04\n",
      "Epoch 15/100\n",
      "\u001b[1m50/50\u001b[0m \u001b[32m━━━━━━━━━━━━━━━━━━━━\u001b[0m\u001b[37m\u001b[0m \u001b[1m2s\u001b[0m 35ms/step - loss: 9.9596e-04 - mae: 0.0211 - mse: 9.9596e-04 - val_loss: 5.7174e-04 - val_mae: 0.0140 - val_mse: 5.7174e-04\n",
      "Epoch 16/100\n",
      "\u001b[1m50/50\u001b[0m \u001b[32m━━━━━━━━━━━━━━━━━━━━\u001b[0m\u001b[37m\u001b[0m \u001b[1m2s\u001b[0m 33ms/step - loss: 8.5263e-04 - mae: 0.0197 - mse: 8.5263e-04 - val_loss: 5.8410e-04 - val_mae: 0.0142 - val_mse: 5.8410e-04\n",
      "Epoch 17/100\n",
      "\u001b[1m50/50\u001b[0m \u001b[32m━━━━━━━━━━━━━━━━━━━━\u001b[0m\u001b[37m\u001b[0m \u001b[1m2s\u001b[0m 34ms/step - loss: 6.8349e-04 - mae: 0.0179 - mse: 6.8349e-04 - val_loss: 5.8054e-04 - val_mae: 0.0135 - val_mse: 5.8054e-04\n",
      "Epoch 18/100\n",
      "\u001b[1m50/50\u001b[0m \u001b[32m━━━━━━━━━━━━━━━━━━━━\u001b[0m\u001b[37m\u001b[0m \u001b[1m2s\u001b[0m 34ms/step - loss: 6.5415e-04 - mae: 0.0180 - mse: 6.5415e-04 - val_loss: 5.6545e-04 - val_mae: 0.0133 - val_mse: 5.6545e-04\n",
      "Epoch 19/100\n",
      "\u001b[1m50/50\u001b[0m \u001b[32m━━━━━━━━━━━━━━━━━━━━\u001b[0m\u001b[37m\u001b[0m \u001b[1m2s\u001b[0m 34ms/step - loss: 7.1759e-04 - mae: 0.0182 - mse: 7.1759e-04 - val_loss: 6.7836e-04 - val_mae: 0.0147 - val_mse: 6.7836e-04\n",
      "Epoch 20/100\n",
      "\u001b[1m50/50\u001b[0m \u001b[32m━━━━━━━━━━━━━━━━━━━━\u001b[0m\u001b[37m\u001b[0m \u001b[1m2s\u001b[0m 33ms/step - loss: 9.5238e-04 - mae: 0.0210 - mse: 9.5238e-04 - val_loss: 6.1008e-04 - val_mae: 0.0138 - val_mse: 6.1008e-04\n",
      "Epoch 21/100\n",
      "\u001b[1m50/50\u001b[0m \u001b[32m━━━━━━━━━━━━━━━━━━━━\u001b[0m\u001b[37m\u001b[0m \u001b[1m2s\u001b[0m 35ms/step - loss: 8.7088e-04 - mae: 0.0207 - mse: 8.7088e-04 - val_loss: 6.4298e-04 - val_mae: 0.0138 - val_mse: 6.4298e-04\n",
      "Epoch 22/100\n",
      "\u001b[1m50/50\u001b[0m \u001b[32m━━━━━━━━━━━━━━━━━━━━\u001b[0m\u001b[37m\u001b[0m \u001b[1m2s\u001b[0m 36ms/step - loss: 7.8225e-04 - mae: 0.0186 - mse: 7.8225e-04 - val_loss: 5.6784e-04 - val_mae: 0.0131 - val_mse: 5.6784e-04\n",
      "Epoch 23/100\n",
      "\u001b[1m50/50\u001b[0m \u001b[32m━━━━━━━━━━━━━━━━━━━━\u001b[0m\u001b[37m\u001b[0m \u001b[1m2s\u001b[0m 34ms/step - loss: 7.8263e-04 - mae: 0.0194 - mse: 7.8263e-04 - val_loss: 6.4165e-04 - val_mae: 0.0158 - val_mse: 6.4165e-04\n",
      "Epoch 24/100\n",
      "\u001b[1m50/50\u001b[0m \u001b[32m━━━━━━━━━━━━━━━━━━━━\u001b[0m\u001b[37m\u001b[0m \u001b[1m2s\u001b[0m 37ms/step - loss: 8.0287e-04 - mae: 0.0191 - mse: 8.0287e-04 - val_loss: 5.7063e-04 - val_mae: 0.0140 - val_mse: 5.7063e-04\n",
      "Epoch 25/100\n",
      "\u001b[1m50/50\u001b[0m \u001b[32m━━━━━━━━━━━━━━━━━━━━\u001b[0m\u001b[37m\u001b[0m \u001b[1m2s\u001b[0m 36ms/step - loss: 7.5418e-04 - mae: 0.0185 - mse: 7.5418e-04 - val_loss: 6.9939e-04 - val_mae: 0.0171 - val_mse: 6.9939e-04\n",
      "Epoch 26/100\n",
      "\u001b[1m50/50\u001b[0m \u001b[32m━━━━━━━━━━━━━━━━━━━━\u001b[0m\u001b[37m\u001b[0m \u001b[1m2s\u001b[0m 33ms/step - loss: 6.7965e-04 - mae: 0.0179 - mse: 6.7965e-04 - val_loss: 6.9935e-04 - val_mae: 0.0172 - val_mse: 6.9935e-04\n",
      "Epoch 27/100\n",
      "\u001b[1m50/50\u001b[0m \u001b[32m━━━━━━━━━━━━━━━━━━━━\u001b[0m\u001b[37m\u001b[0m \u001b[1m2s\u001b[0m 32ms/step - loss: 5.9219e-04 - mae: 0.0170 - mse: 5.9219e-04 - val_loss: 5.5399e-04 - val_mae: 0.0135 - val_mse: 5.5399e-04\n",
      "Epoch 28/100\n",
      "\u001b[1m50/50\u001b[0m \u001b[32m━━━━━━━━━━━━━━━━━━━━\u001b[0m\u001b[37m\u001b[0m \u001b[1m2s\u001b[0m 32ms/step - loss: 7.2732e-04 - mae: 0.0191 - mse: 7.2732e-04 - val_loss: 9.7642e-04 - val_mae: 0.0212 - val_mse: 9.7642e-04\n",
      "Epoch 29/100\n",
      "\u001b[1m50/50\u001b[0m \u001b[32m━━━━━━━━━━━━━━━━━━━━\u001b[0m\u001b[37m\u001b[0m \u001b[1m2s\u001b[0m 32ms/step - loss: 6.9298e-04 - mae: 0.0183 - mse: 6.9298e-04 - val_loss: 6.4403e-04 - val_mae: 0.0156 - val_mse: 6.4403e-04\n",
      "Epoch 30/100\n",
      "\u001b[1m50/50\u001b[0m \u001b[32m━━━━━━━━━━━━━━━━━━━━\u001b[0m\u001b[37m\u001b[0m \u001b[1m2s\u001b[0m 32ms/step - loss: 6.7253e-04 - mae: 0.0177 - mse: 6.7253e-04 - val_loss: 6.9271e-04 - val_mae: 0.0168 - val_mse: 6.9271e-04\n",
      "Epoch 31/100\n",
      "\u001b[1m50/50\u001b[0m \u001b[32m━━━━━━━━━━━━━━━━━━━━\u001b[0m\u001b[37m\u001b[0m \u001b[1m2s\u001b[0m 33ms/step - loss: 6.6835e-04 - mae: 0.0181 - mse: 6.6835e-04 - val_loss: 5.7922e-04 - val_mae: 0.0134 - val_mse: 5.7922e-04\n",
      "Epoch 32/100\n",
      "\u001b[1m50/50\u001b[0m \u001b[32m━━━━━━━━━━━━━━━━━━━━\u001b[0m\u001b[37m\u001b[0m \u001b[1m2s\u001b[0m 32ms/step - loss: 5.3633e-04 - mae: 0.0159 - mse: 5.3633e-04 - val_loss: 7.2244e-04 - val_mae: 0.0177 - val_mse: 7.2244e-04\n",
      "Epoch 33/100\n",
      "\u001b[1m50/50\u001b[0m \u001b[32m━━━━━━━━━━━━━━━━━━━━\u001b[0m\u001b[37m\u001b[0m \u001b[1m2s\u001b[0m 33ms/step - loss: 6.3442e-04 - mae: 0.0176 - mse: 6.3442e-04 - val_loss: 7.1940e-04 - val_mae: 0.0151 - val_mse: 7.1940e-04\n",
      "Epoch 34/100\n",
      "\u001b[1m50/50\u001b[0m \u001b[32m━━━━━━━━━━━━━━━━━━━━\u001b[0m\u001b[37m\u001b[0m \u001b[1m2s\u001b[0m 32ms/step - loss: 7.2062e-04 - mae: 0.0189 - mse: 7.2062e-04 - val_loss: 5.9090e-04 - val_mae: 0.0132 - val_mse: 5.9090e-04\n",
      "Epoch 35/100\n",
      "\u001b[1m50/50\u001b[0m \u001b[32m━━━━━━━━━━━━━━━━━━━━\u001b[0m\u001b[37m\u001b[0m \u001b[1m2s\u001b[0m 32ms/step - loss: 6.2163e-04 - mae: 0.0174 - mse: 6.2163e-04 - val_loss: 6.9179e-04 - val_mae: 0.0169 - val_mse: 6.9179e-04\n",
      "Epoch 36/100\n",
      "\u001b[1m50/50\u001b[0m \u001b[32m━━━━━━━━━━━━━━━━━━━━\u001b[0m\u001b[37m\u001b[0m \u001b[1m2s\u001b[0m 33ms/step - loss: 6.5423e-04 - mae: 0.0174 - mse: 6.5423e-04 - val_loss: 5.6556e-04 - val_mae: 0.0140 - val_mse: 5.6556e-04\n",
      "Epoch 37/100\n",
      "\u001b[1m50/50\u001b[0m \u001b[32m━━━━━━━━━━━━━━━━━━━━\u001b[0m\u001b[37m\u001b[0m \u001b[1m2s\u001b[0m 32ms/step - loss: 5.1312e-04 - mae: 0.0157 - mse: 5.1312e-04 - val_loss: 6.7218e-04 - val_mae: 0.0162 - val_mse: 6.7218e-04\n"
     ]
    }
   ],
   "source": [
    "early = EarlyStopping(patience=10, restore_best_weights=True, monitor='val_mse')\n",
    "\n",
    "history = model.fit(train_gen, validation_data=val_gen, epochs=100, batch_size=16, callbacks=[early], verbose=1)"
   ]
  },
  {
   "cell_type": "markdown",
   "id": "d6d05e70",
   "metadata": {},
   "source": [
    "#### Visualize the training history"
   ]
  },
  {
   "cell_type": "code",
   "execution_count": 15,
   "id": "6f1cb62e",
   "metadata": {},
   "outputs": [
    {
     "data": {
      "text/plain": [
       "<matplotlib.legend.Legend at 0x18093848520>"
      ]
     },
     "execution_count": 15,
     "metadata": {},
     "output_type": "execute_result"
    },
    {
     "data": {
      "image/png": "[encoded data removed]",
      "text/plain": [
       "<Figure size 1200x500 with 1 Axes>"
      ]
     },
     "metadata": {},
     "output_type": "display_data"
    }
   ],
   "source": [
    "\n",
    "plt.figure(figsize=(12, 5))\n",
    "\n",
    "# Loss Plot\n",
    "plt.subplot(1, 2, 1)\n",
    "# plt.plot(history.history['loss'], label='Training Loss')\n",
    "plt.plot(history.history['mae'], label='Training mae')\n",
    "plt.plot(history.history['val_mae'], label='Validation mae')\n",
    "# plt.plot(history.history['mse'], label='mse mae')\n",
    "plt.title('Training vs validation loss')\n",
    "plt.ylabel('MAE')\n",
    "plt.xlabel('Epoch')\n",
    "plt.legend()"
   ]
  },
  {
   "cell_type": "markdown",
   "id": "efc3e0f0",
   "metadata": {},
   "source": [
    "#### Check performance of the model"
   ]
  },
  {
   "cell_type": "code",
   "execution_count": 16,
   "id": "75c771f6",
   "metadata": {},
   "outputs": [
    {
     "name": "stdout",
     "output_type": "stream",
     "text": [
      "\u001b[1m1/1\u001b[0m \u001b[32m━━━━━━━━━━━━━━━━━━━━\u001b[0m\u001b[37m\u001b[0m \u001b[1m0s\u001b[0m 66ms/step\n",
      "    Predicted Probabilities  Actual Probabilities  Difference\n",
      "0                  0.022296              0.027900    0.005605\n",
      "1                  0.063183              0.086632    0.023449\n",
      "2                  0.029682              0.037169    0.007487\n",
      "3                  0.131545              0.177764    0.046219\n",
      "4                  0.063501              0.088718    0.025217\n",
      "5                  0.037925              0.053293    0.015369\n",
      "6                  0.051989              0.072443    0.020454\n",
      "7                  0.029994              0.042798    0.012804\n",
      "8                  0.022564              0.030446    0.007882\n",
      "9                  0.005708              0.008844    0.003136\n",
      "10                 0.002918              0.004315    0.001398\n",
      "11                 0.152937              0.216584    0.063646\n",
      "12                 0.092119              0.118086    0.025967\n",
      "13                 0.006136              0.009601    0.003465\n",
      "14                 0.011507              0.007304    0.004203\n",
      "15                 0.011432              0.018102    0.006670\n",
      "MAE: 0.0171\n",
      "MSE: 0.0006\n",
      "RMSE: 0.0239\n",
      "R²: 0.8455\n"
     ]
    }
   ],
   "source": [
    "np.random.seed(5)\n",
    "X = pd.DataFrame({'pActive': np.random.rand(16), \n",
    "                  'popularity': np.random.rand(16)})\n",
    "\n",
    "\n",
    "y_true = getProbability(X)\n",
    "y_pred = model.predict(X)\n",
    "diff = np.abs(y_pred.flatten() - y_true.flatten())\n",
    "\n",
    "\n",
    "comparison_df = pd.DataFrame({\n",
    "    'Predicted Probabilities': y_pred.flatten(),\n",
    "    'Actual Probabilities': y_true.flatten(),\n",
    "    'Difference': diff\n",
    "})\n",
    "print(comparison_df)\n",
    "\n",
    "\n",
    "# Calculate metrics\n",
    "mae = mean_absolute_error(y_true, y_pred)\n",
    "mse = mean_squared_error(y_true, y_pred)\n",
    "rmse = np.sqrt(mse)\n",
    "r2 = r2_score(y_true, y_pred)\n",
    "\n",
    "# Print metrics\n",
    "print(f'MAE: {mae:.4f}')\n",
    "print(f'MSE: {mse:.4f}')\n",
    "print(f'RMSE: {rmse:.4f}')\n",
    "print(f'R²: {r2:.4f}')"
   ]
  },
  {
   "cell_type": "code",
   "execution_count": 17,
   "id": "085114c4",
   "metadata": {},
   "outputs": [
    {
     "data": {
      "image/png": "[encoded data removed]",
      "text/plain": [
       "<Figure size 1000x500 with 1 Axes>"
      ]
     },
     "metadata": {},
     "output_type": "display_data"
    }
   ],
   "source": [
    "plt.figure(figsize=(10, 5))\n",
    "plt.scatter(X.index ,y_true, label='Actual')\n",
    "plt.scatter(X.index, y_pred, label='Predicted')\n",
    "plt.xlabel('index')\n",
    "plt.ylabel('Probability')\n",
    "plt.legend()\n",
    "plt.show()"
   ]
  },
  {
   "cell_type": "markdown",
   "id": "980884cc",
   "metadata": {},
   "source": [
    "## Pickle problem"
   ]
  },
  {
   "cell_type": "code",
   "execution_count": 18,
   "id": "ed30967e",
   "metadata": {},
   "outputs": [],
   "source": [
    "import pickle\n",
    "\n",
    "# Replace 'your_file.dat' with the path to your .dat file\n",
    "with open('test_x.dat', 'rb') as file:\n",
    "    data = pickle.load(file)\n",
    "\n",
    "# Now, 'data' contains the deserialized object from the .dat file\n",
    "# print(data)\n",
    "for i, df in enumerate(data):\n",
    "    globals()[f'test_{i}'] = df[['pActive', 'popularity']]"
   ]
  },
  {
   "cell_type": "code",
   "execution_count": 19,
   "id": "fe38e834",
   "metadata": {},
   "outputs": [
    {
     "name": "stdout",
     "output_type": "stream",
     "text": [
      "\u001b[1m1/1\u001b[0m \u001b[32m━━━━━━━━━━━━━━━━━━━━\u001b[0m\u001b[37m\u001b[0m \u001b[1m0s\u001b[0m 62ms/step\n"
     ]
    },
    {
     "data": {
      "image/png": "[encoded data removed]",
      "text/plain": [
       "<Figure size 1000x500 with 1 Axes>"
      ]
     },
     "metadata": {},
     "output_type": "display_data"
    },
    {
     "name": "stdout",
     "output_type": "stream",
     "text": [
      "\u001b[1m1/1\u001b[0m \u001b[32m━━━━━━━━━━━━━━━━━━━━\u001b[0m\u001b[37m\u001b[0m \u001b[1m0s\u001b[0m 24ms/step\n"
     ]
    },
    {
     "data": {
      "image/png": "[encoded data removed]",
      "text/plain": [
       "<Figure size 1000x500 with 1 Axes>"
      ]
     },
     "metadata": {},
     "output_type": "display_data"
    }
   ],
   "source": [
    "y_pred = model.predict(test_0)\n",
    "y_true = getProbability(test_0)\n",
    "\n",
    "plt.figure(figsize=(10, 5))\n",
    "plt.scatter(test_0.index ,y_true, label='Actual')\n",
    "plt.scatter(test_0.index, y_pred, label='Predicted')\n",
    "plt.xlabel('index')\n",
    "plt.ylabel('Probability')\n",
    "plt.legend()\n",
    "plt.show()\n",
    "y_pred = model.predict(test_3)\n",
    "y_true = getProbability(test_3)\n",
    "\n",
    "plt.figure(figsize=(10, 5))\n",
    "plt.scatter(test_3.index ,y_true, label='Actual')\n",
    "plt.scatter(test_3.index, y_pred, label='Predicted')\n",
    "plt.xlabel('index')\n",
    "plt.ylabel('Probability')\n",
    "plt.legend()\n",
    "plt.show()"
   ]
  },
  {
   "cell_type": "code",
   "execution_count": null,
   "id": "ab1a48c8",
   "metadata": {},
   "outputs": [],
   "source": [
    "# import keras_tuner as kt\n",
    "# from tensorflow.keras.models import Sequential\n",
    "# from tensorflow.keras.layers import Dense, Dropout, Input\n",
    "# from tensorflow.keras.optimizers import Adam\n",
    "# from tensorflow.keras.callbacks import EarlyStopping\n",
    "\n",
    "# # Define a function to build the model, taking hyperparameters as input\n",
    "# def build_model(hp):\n",
    "#     model = Sequential()\n",
    "#     model.add(Input(shape=(2,), name='input1'))\n",
    "\n",
    "#     # Tune number of units in each dense layer\n",
    "#     units1 = hp.Int('units1', min_value=32, max_value=128, step=32)\n",
    "#     model.add(Dense(units1, activation='relu'))\n",
    "    \n",
    "#     units2 = hp.Int('units2', min_value=32, max_value=128, step=32)\n",
    "#     model.add(Dense(units2, activation='relu'))\n",
    "    \n",
    "#     # Tune dropout rate\n",
    "#     dropout_rate = hp.Float('dropout_rate', min_value=0.1, max_value=0.5, step=0.1)\n",
    "#     model.add(Dropout(dropout_rate))\n",
    "\n",
    "#     units3 = hp.Int('units3', min_value=16, max_value=64, step=16)\n",
    "#     model.add(Dense(units3, activation='relu'))\n",
    "    \n",
    "#     model.add(Dense(1, activation='sigmoid'))\n",
    "\n",
    "#     # Tune learning rate\n",
    "#     learning_rate = hp.Choice('learning_rate', values=[1e-2, 1e-3, 1e-4])\n",
    "#     model.compile(optimizer=Adam(learning_rate=learning_rate), loss='mae', metrics=['mae', 'mse'])\n",
    "    \n",
    "#     return model\n",
    "\n",
    "# # Instantiate the tuner\n",
    "# tuner = kt.RandomSearch(\n",
    "#     build_model,\n",
    "#     objective='val_mae',\n",
    "#     max_trials=20,\n",
    "#     executions_per_trial=1,\n",
    "#     directory='hyperparam_tuning',\n",
    "#     project_name='nonlinear_function_approximation'\n",
    "# )\n",
    "\n",
    "# # Define early stopping callback\n",
    "# early_stop = EarlyStopping(monitor='val_mae', patience=10, restore_best_weights=True)\n",
    "\n",
    "# # Perform hyperparameter search\n",
    "# tuner.search(train_gen, validation_data=val_gen, epochs=50, callbacks=[early_stop], verbose=1)\n",
    "\n",
    "# # Retrieve the best model\n",
    "# best_hp = tuner.get_best_hyperparameters()[0]\n",
    "# print(f\"Best hyperparameters: {best_hp.values}\")\n",
    "\n",
    "# # Train the best model\n",
    "# best_model = tuner.hypermodel.build(best_hp)\n",
    "# history = best_model.fit(train_gen, validation_data=val_gen, epochs=100, callbacks=[early_stop], verbose=1)\n",
    "#96->128->0.5 drop->48->1, 0.001 lr\n"
   ]
  }
 ],
 "metadata": {
  "colab": {
   "provenance": []
  },
  "kernelspec": {
   "display_name": "base",
   "language": "python",
   "name": "python3"
  },
  "language_info": {
   "codemirror_mode": {
    "name": "ipython",
    "version": 3
   },
   "file_extension": ".py",
   "mimetype": "text/x-python",
   "name": "python",
   "nbconvert_exporter": "python",
   "pygments_lexer": "ipython3",
   "version": "3.9.13"
  }
 },
 "nbformat": 4,
 "nbformat_minor": 5
}
