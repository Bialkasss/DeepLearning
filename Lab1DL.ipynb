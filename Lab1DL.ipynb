{
 "cells": [
  {
   "cell_type": "code",
   "execution_count": null,
   "id": "93304745",
   "metadata": {
    "id": "93304745"
   },
   "outputs": [],
   "source": [
    "import numpy as np\n",
    "import pandas as pd\n",
    "import tensorflow as tf\n",
    "from tensorflow.keras.layers import Dense, Input, concatenate, Concatenate\n",
    "from tensorflow.keras.models import Model, Sequential\n",
    "from tensorflow.keras.utils import Sequence, plot_model\n",
    "from tensorflow.keras.callbacks import EarlyStopping, ReduceLROnPlateau\n",
    "import matplotlib.pyplot as plt\n",
    "import itertools\n",
    "\n",
    "from sklearn.preprocessing import StandardScaler\n",
    "from sklearn.datasets import load_wine"
   ]
  },
  {
   "cell_type": "markdown",
   "id": "f0d4a88c",
   "metadata": {
    "id": "f0d4a88c"
   },
   "source": [
    "In our classes we will use TensorFlow and Keras, however, a project can be done with any technology you want. You can even use pure NumPy and implement neural networks by yourself or write it in C or Assembler."
   ]
  },
  {
   "cell_type": "markdown",
   "id": "f4a2f032",
   "metadata": {
    "id": "f4a2f032"
   },
   "source": [
    "TensorFlow by default allocates nearly all available memory on the GPU. It's wise to set the memory_growth parameter then it will take just as much memory as needed."
   ]
  },
  {
   "cell_type": "code",
   "execution_count": null,
   "id": "c09b116c",
   "metadata": {
    "id": "c09b116c"
   },
   "outputs": [],
   "source": [
    "physical_devices = tf.config.list_physical_devices('GPU')\n",
    "print(physical_devices)\n",
    "for gpu in physical_devices:\n",
    "    tf.config.experimental.set_memory_growth(gpu, enable=True)"
   ]
  },
  {
   "cell_type": "markdown",
   "id": "455fa82f",
   "metadata": {
    "id": "455fa82f"
   },
   "source": [
    "Before we jump to neural networks let's start with a single perceptron. It's a simple mathematical model that calculates a weighted sum and applies a selected function called an activation function."
   ]
  },
  {
   "cell_type": "code",
   "execution_count": null,
   "id": "10b4546e",
   "metadata": {
    "id": "10b4546e"
   },
   "outputs": [],
   "source": [
    "model = Sequential()\n",
    "model.add(Dense(1, input_shape=(2,)))\n",
    "# that's how we create a single layer. First parameter specifies how many neurons we want, since we want to have\n",
    "# a single perceptron we use 1. Then we specify the input shape so bascially the number of variables\n",
    "model.summary()"
   ]
  },
  {
   "cell_type": "markdown",
   "id": "9aeb9cc6",
   "metadata": {
    "id": "9aeb9cc6"
   },
   "source": [
    "Above we created a simple neural network with just one neuron accepting input consisting of two values. As you can see such a network/perceptron has 3 parameters. Two of them are the weights associated with each input. Additionally, there is one more parameter called bias. It can be treated as a weight associated with an additional constant input equal to one.\n",
    "\n",
    "The formula for a single perceptron looks as follows.\n",
    "$$ \\sum (x_i*w_i) + bias$$\n",
    "\n",
    "Let's check if it really works"
   ]
  },
  {
   "cell_type": "code",
   "execution_count": null,
   "id": "52ae8466",
   "metadata": {
    "id": "52ae8466"
   },
   "outputs": [],
   "source": [
    "model.weights"
   ]
  },
  {
   "cell_type": "markdown",
   "id": "6c4f5cc7",
   "metadata": {
    "id": "6c4f5cc7"
   },
   "source": [
    "Above you should see two weights as kernel and one bias. These weights are randomly initialized. Let's see if the formula is correct."
   ]
  },
  {
   "cell_type": "code",
   "execution_count": null,
   "id": "e311cd82",
   "metadata": {
    "id": "e311cd82"
   },
   "outputs": [],
   "source": [
    "x = np.array([[2,1]]) # dummy input for calculations\n",
    "print(\"Model prediction:\", model.predict(x))\n",
    "print(\"Manual calculations:\", x @ model.weights[0].numpy() + model.weights[1].numpy())"
   ]
  },
  {
   "cell_type": "markdown",
   "id": "77b73b40",
   "metadata": {
    "id": "77b73b40"
   },
   "source": [
    "Method predict simply run neural network with given input.\n",
    "\n",
    "Seems it works since the results are the same, btw @ is an operator for matrix multiplication. If you don't trust it you can write it step by step with scalar multiplication."
   ]
  },
  {
   "cell_type": "markdown",
   "id": "4dfb4103",
   "metadata": {
    "id": "4dfb4103"
   },
   "source": [
    "OK but what about an activation function?\n",
    "\n",
    "That's right, here we just used linear function f(x) = x, but in general, you can use whatever function you want e.g. tanh. It's applied after the weighted sum. So let's update our formula and try it once again.\n",
    "$$ f(\\sum (x_i*w_i) + bias)$$"
   ]
  },
  {
   "cell_type": "code",
   "execution_count": null,
   "id": "a0cb8f2b",
   "metadata": {
    "id": "a0cb8f2b"
   },
   "outputs": [],
   "source": [
    "model = Sequential()\n",
    "model.add(Dense(1, 'tanh', input_shape=(2,))) # the second parameter specifies the activation function\n",
    "model.summary()"
   ]
  },
  {
   "cell_type": "code",
   "execution_count": null,
   "id": "875894fc",
   "metadata": {
    "id": "875894fc"
   },
   "outputs": [],
   "source": [
    "model.weights"
   ]
  },
  {
   "cell_type": "code",
   "execution_count": null,
   "id": "83ad6cf4",
   "metadata": {
    "id": "83ad6cf4"
   },
   "outputs": [],
   "source": [
    "x = np.array([[2,1]]) # dummy input for calculations\n",
    "print(\"Model prediction:\", model.predict(x))\n",
    "print(\"Manual calculations:\", x @ model.weights[0].numpy() + model.weights[1].numpy())"
   ]
  },
  {
   "cell_type": "markdown",
   "id": "e77db638",
   "metadata": {
    "id": "e77db638"
   },
   "source": [
    "Now result of predict is different than our manual computations. That's because in predict a tanh activation function is used. Let's add tanh to our formula and see if the results match"
   ]
  },
  {
   "cell_type": "code",
   "execution_count": null,
   "id": "068f461b",
   "metadata": {
    "id": "068f461b"
   },
   "outputs": [],
   "source": [
    "print(\"Improved manual calculations:\", np.tanh(x @ model.weights[0].numpy() + model.weights[1].numpy()))"
   ]
  },
  {
   "cell_type": "markdown",
   "id": "3c94068c",
   "metadata": {
    "id": "3c94068c"
   },
   "source": [
    "The results might not be exactly the same due to numerical errors and the implementation of tanh, but it's clear it works.\n",
    "\n",
    "So why do we want to use different activation functions and which of them to use?\n",
    "\n",
    "We will return to that question later on.\n"
   ]
  },
  {
   "cell_type": "markdown",
   "id": "c1868c9e",
   "metadata": {
    "id": "c1868c9e"
   },
   "source": [
    "Now let's talk about those weights and how to obtain them.\n",
    "Well, the idea is simple. Firstly you need a training set with predictors ($x$) and target ($y$). In our example let's try to predict the price of a flat ($y$) based on its area ($x$). Of course, more than one feature can and should be used e.g. floor, year, district, ..., but for clarity, let's use a single feature."
   ]
  },
  {
   "cell_type": "code",
   "execution_count": null,
   "id": "a7d07231",
   "metadata": {
    "id": "a7d07231",
    "scrolled": true
   },
   "outputs": [],
   "source": [
    "np.random.seed(41)\n",
    "x = np.random.rand(200,1)*20+50"
   ]
  },
  {
   "cell_type": "code",
   "execution_count": null,
   "id": "2b22068e",
   "metadata": {
    "id": "2b22068e",
    "scrolled": true
   },
   "outputs": [],
   "source": [
    "np.random.seed(27)\n",
    "y = .5*x + np.random.rand(*x.shape)*3 + np.log(x-49)*2"
   ]
  },
  {
   "cell_type": "code",
   "execution_count": null,
   "id": "a642c697",
   "metadata": {
    "id": "a642c697"
   },
   "outputs": [],
   "source": [
    "plt.plot(x,y, '.')\n",
    "plt.xlabel(\"$m^2$\")\n",
    "plt.ylabel(\"price in bitcoins\")\n",
    "plt.show()"
   ]
  },
  {
   "cell_type": "markdown",
   "id": "b7d6689f",
   "metadata": {
    "id": "b7d6689f"
   },
   "source": [
    "Ok, we created a dataset (a fake one, but perfect for this exercise). Now let's create a perceptron that will solve this task. Which activation function should be used?"
   ]
  },
  {
   "cell_type": "code",
   "execution_count": null,
   "id": "c7b59edd",
   "metadata": {
    "id": "c7b59edd"
   },
   "outputs": [],
   "source": [
    "np.random.seed(0)\n",
    "model = Sequential()\n",
    "model.add(Dense(1, input_shape=(1,))) #now we have only one input parameter\n",
    "model.summary()"
   ]
  },
  {
   "cell_type": "code",
   "execution_count": null,
   "id": "00a0170d",
   "metadata": {
    "id": "00a0170d",
    "scrolled": true
   },
   "outputs": [],
   "source": [
    "model.predict(x)"
   ]
  },
  {
   "cell_type": "code",
   "execution_count": null,
   "id": "c2deab8c",
   "metadata": {
    "id": "c2deab8c"
   },
   "outputs": [],
   "source": [
    "plt.plot(x,y, '.', label='data')\n",
    "plt.plot(np.sort(x,0), model.predict(np.sort(x,0)), label='prediction')\n",
    "plt.legend()\n",
    "plt.grid()\n",
    "plt.show()"
   ]
  },
  {
   "cell_type": "markdown",
   "id": "6b8e57d7",
   "metadata": {
    "id": "6b8e57d7"
   },
   "source": [
    "That's our prediction. Probably we are not even close. It's not strange, weights are initialized in a randomized way. What we need now is a measure of this error called a loss function. Once it's defined, the process of training weights is just an optimization task and the goal is to find such weights that minimize the loss function. In fact, any optimization algorithm can be used here including random search - try a lot of random weights and choose the best ones. But in most cases, stochastic gradient descent is used - in this algorithm using derivative iteratively the weights are updated"
   ]
  },
  {
   "cell_type": "markdown",
   "id": "afe24098",
   "metadata": {
    "id": "afe24098"
   },
   "source": [
    "The first idea might be simply to calculate $prediction - y$. Do you know why it fails? The problem is we will keep a sign so positive and negative errors will cancel each other. We can improve this approach by taking an absolute of it. This metric is called a mean absolute error and again there is one problem. It's not differentiable and some algorithms for optimization require the loss function to be differentiable. That's why we will use the so-called mean squared error $(prediction - y)^2$. It works more or less like mean absolute error + it's differentiable + lower impact of small errors and higher impact of big errors.\n"
   ]
  },
  {
   "cell_type": "code",
   "execution_count": null,
   "id": "ee6d979b",
   "metadata": {
    "id": "ee6d979b"
   },
   "outputs": [],
   "source": [
    "mse = lambda x,y: ((y - x)**2).mean() # our loss function"
   ]
  },
  {
   "cell_type": "markdown",
   "id": "bfeca8e3",
   "metadata": {
    "id": "bfeca8e3"
   },
   "source": [
    "I said you can use even random search so let's give it a try"
   ]
  },
  {
   "cell_type": "code",
   "execution_count": null,
   "id": "ebd76d4b",
   "metadata": {
    "id": "ebd76d4b"
   },
   "outputs": [],
   "source": [
    "bestWeights = model.get_weights()\n",
    "pred = model.predict(x, verbose=0)\n",
    "bestError = mse(y, pred)\n",
    "bestError\n",
    "\n",
    "for _ in range(200):\n",
    "    # generate random weights\n",
    "    weights = [np.random.randn(1,1), np.random.randn(1)]\n",
    "    # use them in the model\n",
    "    model.set_weights(weights)\n",
    "    pred = model.predict(x, verbose=0)\n",
    "    # evaluate the weights\n",
    "    err = mse(y, pred)\n",
    "    if err < bestError:\n",
    "        bestError = err\n",
    "        bestWeights = model.get_weights()\n",
    "        print(\"Best score so far:\", err)\n"
   ]
  },
  {
   "cell_type": "code",
   "execution_count": null,
   "id": "83a93991",
   "metadata": {
    "id": "83a93991"
   },
   "outputs": [],
   "source": [
    "model.set_weights(bestWeights)\n",
    "plt.plot(x,y, '.', label='data')\n",
    "plt.plot(np.sort(x,0), model.predict(np.sort(x,0)), label='prediction')\n",
    "plt.legend()\n",
    "plt.grid()\n",
    "plt.show()"
   ]
  },
  {
   "cell_type": "markdown",
   "id": "03f789d7",
   "metadata": {
    "id": "03f789d7"
   },
   "source": [
    "Ok, it looks better but there should be a better way than a random search. Of course, there is. As I said before, any optimization technique can be used here but in most cases, a version of stochastic gradient descent is used. Here we take advantage of a differentiable loss function and iteratively step by step change the weights in a direction set by gradient descent."
   ]
  },
  {
   "cell_type": "markdown",
   "id": "7b43b5f6",
   "metadata": {
    "id": "7b43b5f6"
   },
   "source": [
    "There are two parameters related to optimizing neural network weights using this algorithm: number of epochs and batch size. The batch size determines the number of rows used for one update of weights. The general rule is the higher the better. The number of epochs determines how many times we will go through the whole dataset in the training process. The total number of weights updates is size of data / batch size * number of epochs"
   ]
  },
  {
   "cell_type": "markdown",
   "id": "b2c810b9",
   "metadata": {
    "id": "b2c810b9"
   },
   "source": [
    "This function is already implemented so we just have to call the fit function. Before we have to call a compile method where we say which loss function should be used and if we want to collect some additional metrics"
   ]
  },
  {
   "cell_type": "code",
   "execution_count": null,
   "id": "adb372be",
   "metadata": {
    "id": "adb372be"
   },
   "outputs": [],
   "source": [
    "model = Sequential()\n",
    "model.add(Dense(1, input_shape=(1,)))\n",
    "model.compile(loss='mse', metrics=['mae'])\n",
    "history = model.fit(x,y, epochs=300, batch_size=16)\n",
    "pd.DataFrame(history.history).plot()\n",
    "plt.grid()\n",
    "plt.yscale('log')\n",
    "plt.show()"
   ]
  },
  {
   "cell_type": "markdown",
   "id": "e6629144",
   "metadata": {
    "id": "e6629144"
   },
   "source": [
    "How to adjust the number of epochs? When you look at the history you should be able to determine when it doesn't make much sense to continue the optimization process. At some point, there is no longer any progress. We can use so-called callbacks - functions executed at various stages of the model training e.g. after each epoch. We can monitor the progress and stop learning when it's not progressing anymore. Such a callback is already implemented and is called EarlyStopping. It can be used together with the ReduceLROnPlateau callback. Before stopping the learning phase first it reduces the learning rate allowing the reduction of loss function even more."
   ]
  },
  {
   "cell_type": "code",
   "execution_count": null,
   "id": "1de1301e",
   "metadata": {
    "id": "1de1301e"
   },
   "outputs": [],
   "source": [
    "early = EarlyStopping(monitor='loss', patience=15, restore_best_weights=True)\n",
    "reduce = ReduceLROnPlateau(monitor='loss', patience=6)\n",
    "\n",
    "model = Sequential()\n",
    "model.add(Dense(1, input_shape=(1,)))\n",
    "model.compile(loss='mse', metrics=['mae'])\n",
    "history=model.fit(x,y, epochs=1000, batch_size=16, callbacks=[early, reduce])\n",
    "history = pd.DataFrame(history.history).plot()\n",
    "plt.grid()\n",
    "plt.yscale('log')\n",
    "plt.show()"
   ]
  },
  {
   "cell_type": "code",
   "execution_count": null,
   "id": "2fbd1acc",
   "metadata": {
    "id": "2fbd1acc"
   },
   "outputs": [],
   "source": [
    "plt.plot(x,y, '.', label='data')\n",
    "plt.plot(np.sort(x,0), model.predict(np.sort(x,0)), label='prediction')\n",
    "plt.legend()\n",
    "plt.grid()\n",
    "plt.show()"
   ]
  },
  {
   "cell_type": "markdown",
   "id": "6d3ed606",
   "metadata": {
    "id": "6d3ed606"
   },
   "source": [
    "The result is not perfect but with such a model it cannot be better. This model can return only linear output and there isn't a line that will fit much better to the data we have. What we have to do is to extend the model. Let's create a neural network with more than one neuron. Typically in classical neural networks neurons are organized in layers. Outputs of the previous layer is an input for the next layer. All inputs are connected to each neuron from a given layer thus we call such architecture fully connected or dense.\n"
   ]
  },
  {
   "cell_type": "markdown",
   "id": "380db2e4",
   "metadata": {
    "id": "380db2e4"
   },
   "source": [
    "Here we can return to the activation functions.\n",
    "\n",
    "First, let's list the most popular functions"
   ]
  },
  {
   "cell_type": "code",
   "execution_count": null,
   "id": "b1bd2fa3",
   "metadata": {
    "id": "b1bd2fa3",
    "scrolled": false
   },
   "outputs": [],
   "source": [
    "print(\"linear\")\n",
    "r = np.linspace(-7,7)\n",
    "plt.plot(r,r)\n",
    "plt.grid()\n",
    "plt.show()\n",
    "print(\"tanh\")\n",
    "plt.plot(r, np.tanh(r))\n",
    "plt.grid()\n",
    "plt.show()\n",
    "print(\"sigmoid\")\n",
    "plt.plot(r, 1/(1 + np.exp(-r)))\n",
    "plt.grid()\n",
    "plt.show()\n",
    "print(\"relu\")\n",
    "plt.plot(r, np.where(r<0,0,r))\n",
    "plt.grid()\n",
    "plt.show()\n",
    "print(\"leakyrelu\")\n",
    "plt.plot(r, np.where(r<0,r*.1,r))\n",
    "plt.grid()\n",
    "plt.show()"
   ]
  },
  {
   "cell_type": "markdown",
   "id": "2029aa65",
   "metadata": {
    "id": "2029aa65"
   },
   "source": [
    "Now how to decide which one to use. As you probably noticed some functions have a limited range of values e.g. sigmoid returns values from 0 to 1 hence it's a perfect option when the output should be treated as a probability.\n",
    "\n",
    "In dense layers it doesn't make much sense to use linear activation. Do you know why? What's a linear transformation of linear transformation?\n",
    "\n",
    "Good default choice is relu"
   ]
  },
  {
   "cell_type": "markdown",
   "id": "0afcc60a",
   "metadata": {
    "id": "0afcc60a"
   },
   "source": [
    "The process of weight selection uses the derivative of an activation function. As you probably noticed for most of them derivative is close to zero for big positive and negative values. That's why we want to stay close to 0. To achieve that it's a good practice to introduce a data scaling process. It's a good idea to try different options, but classical standardization should be enough in most cases"
   ]
  },
  {
   "cell_type": "code",
   "execution_count": null,
   "id": "b6dbc625",
   "metadata": {
    "id": "b6dbc625",
    "scrolled": true
   },
   "outputs": [],
   "source": [
    "ss_x = StandardScaler()\n",
    "ss_y = StandardScaler()\n",
    "\n",
    "transformed_x = ss_x.fit_transform(x)\n",
    "transformed_y = ss_y.fit_transform(y)"
   ]
  },
  {
   "cell_type": "code",
   "execution_count": null,
   "id": "d022528f",
   "metadata": {
    "id": "d022528f",
    "scrolled": true
   },
   "outputs": [],
   "source": [
    "model = Sequential()\n",
    "model.add(Dense(64, activation='relu', input_shape=(1,))) # 64 neurons in the first layer\n",
    "model.add(Dense(1)) # no need to specify input shape. Why?   -> the each next layer is directly connected with previous ones. program knows that input here is the output from previous\n",
    "\n",
    "model.compile(loss='mse', metrics=['mae'])\n",
    "\n",
    "early = EarlyStopping(monitor='loss', patience=15, restore_best_weights=True)  #If after  15 epochs theres no improvement, stop, restore to weights since which it stopped improving\n",
    "reduce = ReduceLROnPlateau(monitor='loss', patience=6)  #Reduce learning rate after 6 epochs of no improvement\n",
    "\n",
    "model.fit(transformed_x,transformed_y, epochs=500, batch_size=16, callbacks=[early, reduce])"
   ]
  },
  {
   "cell_type": "code",
   "execution_count": null,
   "id": "77a731df",
   "metadata": {
    "id": "77a731df"
   },
   "outputs": [],
   "source": [
    "plt.plot(transformed_x,transformed_y, '.', label='data')\n",
    "plt.plot(np.sort(transformed_x, 0), model.predict(np.sort(transformed_x, 0)), label='prediction')\n",
    "plt.legend()\n",
    "plt.grid()\n",
    "plt.show()"
   ]
  },
  {
   "cell_type": "markdown",
   "id": "1e6e3ede",
   "metadata": {
    "id": "1e6e3ede"
   },
   "source": [
    "You might wonder why do we use sort for plotting the prediction. Well it's just to draw a nice line. When the points are in a random order and we plot lines between them it might be quite chaotic."
   ]
  },
  {
   "cell_type": "code",
   "execution_count": null,
   "id": "e64b87a5",
   "metadata": {
    "id": "e64b87a5"
   },
   "outputs": [],
   "source": [
    "plt.plot(transformed_x,transformed_y, '.', label='data')\n",
    "plt.plot(transformed_x, model.predict(transformed_x), label='prediction')\n",
    "plt.legend()\n",
    "plt.grid()\n",
    "plt.show()"
   ]
  },
  {
   "cell_type": "markdown",
   "id": "725a5528",
   "metadata": {
    "id": "725a5528"
   },
   "source": [
    "To avoid it we can just plot points, but a line looks better"
   ]
  },
  {
   "cell_type": "code",
   "execution_count": null,
   "id": "f976bbec",
   "metadata": {
    "id": "f976bbec"
   },
   "outputs": [],
   "source": [
    "plt.plot(transformed_x,transformed_y, '.', label='data')\n",
    "plt.plot(transformed_x, model.predict(transformed_x), '.', label='prediction')\n",
    "plt.legend()\n",
    "plt.grid()\n",
    "plt.show()"
   ]
  },
  {
   "cell_type": "markdown",
   "id": "0c826308",
   "metadata": {
    "id": "0c826308"
   },
   "source": [
    "# Task 1\n",
    "What's the best architecture? Play here https://playground.tensorflow.org/"
   ]
  },
  {
   "cell_type": "markdown",
   "id": "f2621030",
   "metadata": {},
   "source": [
    "Depends on dataset. For more clearly defined and convex, the less layers the better. For spiral it works only with more neurons and first layers that are more complicated, so that points have a chance of getting to the right classification by small change. Sigmoid didnt work well, mostly tanh and relu.\n"
   ]
  },
  {
   "cell_type": "markdown",
   "id": "2180a5f3",
   "metadata": {
    "id": "2180a5f3"
   },
   "source": [
    "# Task 2\n",
    "Try different architectures. Use different number of layers, neurons, activation functions"
   ]
  },
  {
   "cell_type": "code",
   "execution_count": null,
   "id": "967903a5",
   "metadata": {
    "id": "967903a5"
   },
   "outputs": [],
   "source": [
    "model = Sequential()\n",
    "model.add(Dense(128, activation='tanh', input_shape=(1,))) # 64 neurons in the first layer\n",
    "model.add(Dense(64, activation='leaky_relu')) # 64 neurons in the first layer\n",
    "model.add(Dense(1)) # no need to specify input shape. Why?   -> the each next layer is directly connected with previous ones. program knows that input here is the output from previous\n",
    "\n",
    "model.compile(loss='poisson', metrics=['mae'])  \n",
    "\n",
    "early = EarlyStopping(monitor='loss', patience=15, restore_best_weights=True)  #If after  15 epochs theres no improvement, stop, restore to weights since which it stopped improving\n",
    "reduce = ReduceLROnPlateau(monitor='loss', patience=6)  #Reduce learning rate after 6 epochs of no improvement\n",
    "\n",
    "model.fit(transformed_x,transformed_y, epochs=500, batch_size=16, callbacks=[early, reduce])\n",
    "plt.plot(transformed_x,transformed_y, '.', label='data')\n",
    "plt.plot(np.sort(transformed_x, 0), model.predict(np.sort(transformed_x, 0)), label='prediction')\n",
    "plt.legend()\n",
    "plt.grid()\n",
    "plt.show()"
   ]
  },
  {
   "cell_type": "markdown",
   "id": "a7b8ab48",
   "metadata": {},
   "source": [
    "## Overfitting \n",
    "- no callbacks\n",
    "- too many layers for so simple data"
   ]
  },
  {
   "cell_type": "code",
   "execution_count": null,
   "id": "8a54637f",
   "metadata": {
    "id": "8a54637f"
   },
   "outputs": [],
   "source": [
    "model = Sequential()\n",
    "model.add(Dense(128, activation='tanh', input_shape=(1,))) # 64 neurons in the first layer\n",
    "model.add(Dense(64, activation='leaky_relu')) # 64 neurons in the first layer\n",
    "model.add(Dense(64, activation='sigmoid')) # 64 neurons in the first layer\n",
    "model.add(Dense(64, activation='tanh')) # 64 neurons in the first layer\n",
    "model.add(Dense(64, activation='relu')) # 64 neurons in the first layer\n",
    "model.add(Dense(1)) # no need to specify input shape. Why?   -> the each next layer is directly connected with previous ones. program knows that input here is the output from previous\n",
    "\n",
    "model.compile(loss='mse', metrics=['mae'])  \n",
    "\n",
    "model.fit(transformed_x,transformed_y, epochs=500, batch_size=16, verbose=0)\n",
    "plt.plot(transformed_x,transformed_y, '.', label='data')\n",
    "plt.plot(np.sort(transformed_x, 0), model.predict(np.sort(transformed_x, 0)), label='prediction')\n",
    "plt.legend()\n",
    "plt.grid()\n",
    "plt.show()"
   ]
  },
  {
   "cell_type": "code",
   "execution_count": null,
   "id": "3ed9dbad",
   "metadata": {
    "id": "3ed9dbad"
   },
   "outputs": [],
   "source": []
  },
  {
   "cell_type": "markdown",
   "id": "d2bdc31e",
   "metadata": {
    "id": "d2bdc31e"
   },
   "source": [
    "Selecting the best number of layers and neurons is an optimization task itself. There are no strict rules. In general, you should increase the number of neurons as long as it improves the results. Be aware of overfitting - model learning noise in the data. Always split dataset to train, validation and training.\n",
    "\n",
    "Remember even the most complex network works still like a single perceptron - it's just an equation with weights determined using an optimization algorithm.\n",
    "\n",
    "Lifehack: since selecting architecture is an optimization task we can use an optimization algorithm to solve it. The most obvious representation would be a vector of size equal to the maximum number of layers we want and each element representing the number of neurons in such a layer. There are a few problems with this approach - it doesn't make sense to have neurons in the next layer if we have 0 neurons in the previous which is allowed in this representation. Removing 0 from the considered range is an option but then we will fix the number of layers. Also in most cases, it's not recommended to increase the number of neurons in the next layer. To avoid these issues we can change the representation. The first element will still be the number of neurons in the first layer, but all remainings will be the number from 0 to 1 meaning the fraction of neurons from the previous layer used in this layer. For example $[64, 1, .5, .5, 0, 0]$ would mean architecture with 4 layers with 64, 64, 32, and 16 neurons."
   ]
  },
  {
   "cell_type": "markdown",
   "id": "143a36d2",
   "metadata": {
    "id": "143a36d2"
   },
   "source": [
    "To avoid overfitting we split our dataset to training, validation, and test sets. It's a good practice in most cases to shuffle the data  since the initial order might have some problems. For example data can be sorted by a target value. Then if we split it in half, the testing set might contains target that are not in the training set"
   ]
  },
  {
   "cell_type": "code",
   "execution_count": null,
   "id": "b2164e31",
   "metadata": {
    "id": "b2164e31"
   },
   "outputs": [],
   "source": [
    "np.random.seed(31)\n",
    "idx = np.arange(len(x))\n",
    "np.random.shuffle(idx)\n",
    "idx"
   ]
  },
  {
   "cell_type": "code",
   "execution_count": null,
   "id": "50911996",
   "metadata": {
    "id": "50911996"
   },
   "outputs": [],
   "source": [
    "train = idx[:int(.8*len(x))]\n",
    "val = idx[int(.8*len(x)):int(.9*len(x))]\n",
    "test = idx[int(.9*len(x)):]"
   ]
  },
  {
   "cell_type": "code",
   "execution_count": null,
   "id": "bda7f44f",
   "metadata": {
    "id": "bda7f44f"
   },
   "outputs": [],
   "source": [
    "train_x, train_y = transformed_x[train], transformed_y[train]\n",
    "val_x, val_y = transformed_x[val], transformed_y[val]\n",
    "test_x, test_y = transformed_x[test], transformed_y[test]"
   ]
  },
  {
   "cell_type": "markdown",
   "id": "432061e0",
   "metadata": {
    "id": "432061e0"
   },
   "source": [
    "What's the problem here? Well it's not a big issue, but data from validation and test sets should not be used to determine scaling parameters. So the scaler should be fit on the training data and then applied to validation and test datasets. Can you do it now?"
   ]
  },
  {
   "cell_type": "code",
   "execution_count": null,
   "id": "846b33ac",
   "metadata": {
    "id": "846b33ac"
   },
   "outputs": [],
   "source": [
    "ss_x = StandardScaler()\n",
    "ss_y = StandardScaler()\n",
    "\n",
    "#Train on train set\n",
    "train_x = ss_x.fit_transform(train_x)\n",
    "train_y = ss_y.fit_transform(train_y)\n",
    "\n",
    "#Apply to val and test\n",
    "val_x = ss_x.transform(val_x)\n",
    "val_y = ss_y.transform(val_y)\n",
    "test_x = ss_x.transform(test_x)\n",
    "test_y = ss_y.transform(test_y)"
   ]
  },
  {
   "cell_type": "code",
   "execution_count": null,
   "id": "62d9c533",
   "metadata": {
    "id": "62d9c533"
   },
   "outputs": [],
   "source": [
    "model = Sequential()\n",
    "model.add(Dense(64, activation='relu', input_shape=(1,)))\n",
    "model.add(Dense(1, activation='linear'))\n",
    "\n",
    "model.compile(loss='mse', metrics=['mae'])\n",
    "\n",
    "early = EarlyStopping(patience=15, restore_best_weights=True) # we don't specify monitor, by default it's val_loss\n",
    "reduce = ReduceLROnPlateau(patience=6)\n",
    "\n",
    "model.fit(train_x,train_y, validation_data=(val_x, val_y), epochs=500, batch_size=16, callbacks=[early, reduce])"
   ]
  },
  {
   "cell_type": "code",
   "execution_count": null,
   "id": "cdd6ad20",
   "metadata": {
    "id": "cdd6ad20"
   },
   "outputs": [],
   "source": [
    "\n",
    "plt.plot(test_x,test_y, '.', label='data')\n",
    "plt.plot(np.sort(test_x, 0), model.predict(np.sort(test_x, 0)), label='prediction')\n",
    "plt.legend()\n",
    "plt.grid()\n",
    "plt.show()"
   ]
  },
  {
   "cell_type": "markdown",
   "id": "688f8d7f",
   "metadata": {
    "id": "688f8d7f"
   },
   "source": [
    "There are two popular functions to create a neural network model. For simple architectures Sequential can be used. For more complex Model is a suitable choice.\n",
    "\n",
    "\n",
    "In the sequential model, we assume layers are executed sequentially one by one. In Model, we can create architectures with different connections, multiple inputs or outputs."
   ]
  },
  {
   "cell_type": "code",
   "execution_count": null,
   "id": "44aeb2d4",
   "metadata": {
    "id": "44aeb2d4"
   },
   "outputs": [],
   "source": [
    "model = Sequential()\n",
    "model.add(Dense(64, activation='relu', input_shape=(1,)))\n",
    "model.add(Dense(32, activation='relu', input_shape=(1,)))\n",
    "model.add(Dense(16, activation='relu', input_shape=(1,)))\n",
    "model.add(Dense(1, activation='linear'))"
   ]
  },
  {
   "cell_type": "code",
   "execution_count": null,
   "id": "e85206c5",
   "metadata": {
    "id": "e85206c5"
   },
   "outputs": [],
   "source": [
    "plot_model(model)"
   ]
  },
  {
   "cell_type": "code",
   "execution_count": null,
   "id": "30fcfaff",
   "metadata": {
    "id": "30fcfaff"
   },
   "outputs": [],
   "source": [
    "inputLayer = Input(shape=(1,))\n",
    "dense1 = Dense(64, activation='relu')(inputLayer)\n",
    "dense2 = Dense(32, activation='relu')(dense1)\n",
    "dense3 = Dense(16, activation='relu')(dense2)\n",
    "dense4 = Dense(1, activation='relu')(dense3)\n",
    "model = Model(inputs=inputLayer, outputs=dense4)"
   ]
  },
  {
   "cell_type": "code",
   "execution_count": null,
   "id": "b1916b12",
   "metadata": {
    "id": "b1916b12"
   },
   "outputs": [],
   "source": [
    "plot_model(model)"
   ]
  },
  {
   "cell_type": "code",
   "execution_count": null,
   "id": "5aeb6004",
   "metadata": {
    "id": "5aeb6004"
   },
   "outputs": [],
   "source": [
    "inputLayer = Input(shape=(1,))\n",
    "dense1 = Dense(64, activation='relu')(inputLayer)\n",
    "dense2 = Dense(32, activation='relu')(dense1)\n",
    "concat = Concatenate()([dense1, dense2])\n",
    "dense3 = Dense(16, activation='relu')(concat)\n",
    "dense4 = Dense(1, activation='relu')(dense3)\n",
    "model = Model(inputs=inputLayer, outputs=dense4)"
   ]
  },
  {
   "cell_type": "code",
   "execution_count": null,
   "id": "240c8a14",
   "metadata": {
    "id": "240c8a14"
   },
   "outputs": [],
   "source": [
    "plot_model(model)"
   ]
  },
  {
   "cell_type": "markdown",
   "id": "44142fc3",
   "metadata": {
    "id": "44142fc3"
   },
   "source": [
    "# Task 3\n",
    "Create a model with two inputs, first processed by three Dense layers, second by two Dense layers, then concatenat them, process by two Dense layers and split it to two outputs"
   ]
  },
  {
   "cell_type": "code",
   "execution_count": null,
   "id": "6d5d4b51",
   "metadata": {
    "id": "6d5d4b51"
   },
   "outputs": [],
   "source": [
    "input1 = Input(shape=(1,))\n",
    "input2 = Input(shape=(1,))\n",
    "\n",
    "dense1_1 = Dense(64, activation='relu')(input1)\n",
    "dense1_2 = Dense(32, activation='relu')(dense1_1)\n",
    "dense1_3 = Dense(16, activation='relu')(dense1_2)\n",
    "dense2_1 = Dense(64, activation='relu')(input2)\n",
    "dense2_2 = Dense(32, activation='relu')(dense2_1)\n",
    "\n",
    "concat = concatenate([dense1_3, dense2_2])\n",
    "\n",
    "dense3 = Dense(1, activation='relu')(concat)\n",
    "dense4 = Dense(1, activation='relu')(dense3)\n",
    "\n",
    "output1 = Dense(1, activation='linear')(dense4)\n",
    "output2 = Dense(1, activation='linear')(dense4)\n",
    "\n",
    "model = Model(inputs=[input1, input2], outputs=[output1, output2])\n",
    "# model.summary()\n",
    "plot_model(model)"
   ]
  },
  {
   "cell_type": "markdown",
   "id": "8d851d7c",
   "metadata": {
    "id": "8d851d7c"
   },
   "source": [
    "Data generators are useful tools for neural network training. It allows to create data separately for each batch. Thanks to that there is no need to load all the data to the memory, which can be an issue for example when dealing with images. Also when we don't have data but a function creating data then instead of generating a fixed number of rows in advance a data generator can be used. It's also useful for the data augmentation process."
   ]
  },
  {
   "cell_type": "code",
   "execution_count": null,
   "id": "446f549a",
   "metadata": {
    "id": "446f549a"
   },
   "outputs": [],
   "source": [
    "class DataGenerator(Sequence):\n",
    "    def __init__(self, x, y, batch_size, shuffle=True):\n",
    "        self.x = x\n",
    "        self.y = y\n",
    "        self.indexes = np.arange(len(y))\n",
    "        self.batch_size = batch_size\n",
    "        self.shuffle = shuffle\n",
    "        self.on_epoch_end()\n",
    "\n",
    "    def __len__(self):\n",
    "        'Denotes the number of batches per epoch'\n",
    "        return int(np.floor(len(self.indexes) / self.batch_size))\n",
    "\n",
    "    def __getitem__(self, index):\n",
    "        'Generate one batch of data'\n",
    "        # Generate indexes of the batch.\n",
    "        # During training and prediction this function will be called in range(0, __len__())\n",
    "        indexes = self.indexes[index*self.batch_size:(index+1)*self.batch_size]\n",
    "\n",
    "        # Generate data\n",
    "        X, y = self.__data_generation(indexes)\n",
    "\n",
    "        return X, y\n",
    "\n",
    "    def on_epoch_end(self):\n",
    "        'Updates indexes after each epoch'\n",
    "        if self.shuffle == True:\n",
    "            np.random.shuffle(self.indexes)\n",
    "\n",
    "    def __data_generation(self, idx):\n",
    "        X = np.empty((self.batch_size, 1))\n",
    "        y = np.empty((self.batch_size), )\n",
    "\n",
    "        for i, ID in enumerate(idx):\n",
    "            # Store sample\n",
    "            X[i,] = self.x[ID]\n",
    "\n",
    "            # Store class\n",
    "            y[i] = self.y[ID]\n",
    "\n",
    "        return X, y"
   ]
  },
  {
   "cell_type": "code",
   "execution_count": null,
   "id": "2d621e9f",
   "metadata": {
    "id": "2d621e9f"
   },
   "outputs": [],
   "source": [
    "trainGenerator = DataGenerator(train_x, train_y, 16)\n",
    "valGenerator = DataGenerator(val_x, val_y, 1, shuffle=False)"
   ]
  },
  {
   "cell_type": "code",
   "execution_count": null,
   "id": "ae76a3e8",
   "metadata": {
    "id": "ae76a3e8"
   },
   "outputs": [],
   "source": [
    "model = Sequential()\n",
    "model.add(Dense(64, activation='relu', input_shape=(1,)))\n",
    "model.add(Dense(1, activation='linear'))\n",
    "\n",
    "model.compile(loss='mse', metrics=['mae'])\n",
    "\n",
    "early = EarlyStopping(patience=15, restore_best_weights=True) # we don't specify monitor, by default it's val_loss\n",
    "reduce = ReduceLROnPlateau(patience=6)\n",
    "\n",
    "model.fit(trainGenerator, validation_data=valGenerator, epochs=500, batch_size=16, callbacks=[early, reduce])"
   ]
  },
  {
   "cell_type": "code",
   "execution_count": null,
   "id": "19e83f6f",
   "metadata": {
    "id": "19e83f6f"
   },
   "outputs": [],
   "source": [
    "plt.plot(test_x,test_y, '.', label='data')\n",
    "plt.plot(np.sort(test_x, 0), model.predict(np.sort(test_x, 0)), label='prediction')\n",
    "plt.legend()\n",
    "plt.grid()\n",
    "plt.show()"
   ]
  },
  {
   "cell_type": "markdown",
   "id": "34890d07",
   "metadata": {
    "id": "34890d07"
   },
   "source": [
    "Of course, this generator doesn't make much sense since the data are already in the memory and we don't do anything with them. It's just a template you can use later when it's really needed."
   ]
  },
  {
   "cell_type": "markdown",
   "id": "2e45ea08",
   "metadata": {
    "id": "2e45ea08"
   },
   "source": [
    "# Task 4\n",
    "Predict the quality of wine using neural network.\n",
    " - Treat target as continuous.\n",
    " - Treat target as discrete classes."
   ]
  },
  {
   "cell_type": "code",
   "execution_count": 76,
   "id": "7e5c252d",
   "metadata": {
    "id": "7e5c252d"
   },
   "outputs": [],
   "source": [
    "data = load_wine()"
   ]
  },
  {
   "cell_type": "code",
   "execution_count": 77,
   "id": "cfb56e2a",
   "metadata": {
    "id": "cfb56e2a"
   },
   "outputs": [],
   "source": [
    "X = data['data']\n",
    "y = data['target']\n",
    "# y.value_counts(normalize=True).round(3)"
   ]
  },
  {
   "cell_type": "code",
   "execution_count": 78,
   "id": "9abc92fe",
   "metadata": {
    "id": "9abc92fe"
   },
   "outputs": [
    {
     "data": {
      "text/plain": [
       "array([0.33146067, 0.3988764 , 0.26966292])"
      ]
     },
     "execution_count": 78,
     "metadata": {},
     "output_type": "execute_result"
    }
   ],
   "source": [
    "np.isnan(X).sum()\n",
    "np.bincount(y)/len(y)"
   ]
  },
  {
   "cell_type": "code",
   "execution_count": 79,
   "id": "086aeb2f",
   "metadata": {
    "id": "086aeb2f"
   },
   "outputs": [
    {
     "data": {
      "text/plain": [
       "array([0, 0, 0, 0, 0, 0, 0, 0, 0, 0, 0, 0, 0, 0, 0, 0, 0, 0, 0, 0, 0, 0,\n",
       "       0, 0, 0, 0, 0, 0, 0, 0, 0, 0, 0, 0, 0, 0, 0, 0, 0, 0, 0, 0, 0, 0,\n",
       "       0, 0, 0, 0, 0, 0, 0, 0, 0, 0, 0, 0, 0, 0, 0, 1, 1, 1, 1, 1, 1, 1,\n",
       "       1, 1, 1, 1, 1, 1, 1, 1, 1, 1, 1, 1, 1, 1, 1, 1, 1, 1, 1, 1, 1, 1,\n",
       "       1, 1, 1, 1, 1, 1, 1, 1, 1, 1, 1, 1, 1, 1, 1, 1, 1, 1, 1, 1, 1, 1,\n",
       "       1, 1, 1, 1, 1, 1, 1, 1, 1, 1, 1, 1, 1, 1, 1, 1, 1, 1, 1, 1, 2, 2,\n",
       "       2, 2, 2, 2, 2, 2, 2, 2, 2, 2, 2, 2, 2, 2, 2, 2, 2, 2, 2, 2, 2, 2,\n",
       "       2, 2, 2, 2, 2, 2, 2, 2, 2, 2, 2, 2, 2, 2, 2, 2, 2, 2, 2, 2, 2, 2,\n",
       "       2, 2])"
      ]
     },
     "execution_count": 79,
     "metadata": {},
     "output_type": "execute_result"
    }
   ],
   "source": [
    "y"
   ]
  },
  {
   "cell_type": "markdown",
   "id": "e3c15f70",
   "metadata": {
    "id": "e3c15f70"
   },
   "source": [
    "Here spliting into train, val, and test sets without shuffling might not be the best idea"
   ]
  },
  {
   "cell_type": "code",
   "execution_count": null,
   "id": "bfd10b21",
   "metadata": {
    "id": "bfd10b21"
   },
   "outputs": [
    {
     "name": "stdout",
     "output_type": "stream",
     "text": [
      "(124, 13) (54, 13)\n"
     ]
    }
   ],
   "source": []
  },
  {
   "cell_type": "code",
   "execution_count": null,
   "id": "82c191cf",
   "metadata": {
    "id": "82c191cf"
   },
   "outputs": [],
   "source": [
    "\n"
   ]
  },
  {
   "cell_type": "code",
   "execution_count": null,
   "id": "819228bc",
   "metadata": {
    "id": "819228bc"
   },
   "outputs": [
    {
     "name": "stdout",
     "output_type": "stream",
     "text": [
      "(124, 13) (54, 13)\n",
      "Epoch 1/500\n",
      "7/7 [==============================] - 1s 34ms/step - loss: 0.6156 - accuracy: 0.3939 - val_loss: 0.6325 - val_accuracy: 0.4400 - lr: 0.0010\n",
      "Epoch 2/500\n",
      "7/7 [==============================] - 0s 9ms/step - loss: 0.5880 - accuracy: 0.3939 - val_loss: 0.6006 - val_accuracy: 0.4400 - lr: 0.0010\n",
      "Epoch 3/500\n",
      "7/7 [==============================] - 0s 9ms/step - loss: 0.5629 - accuracy: 0.3939 - val_loss: 0.5710 - val_accuracy: 0.4400 - lr: 0.0010\n",
      "Epoch 4/500\n",
      "7/7 [==============================] - 0s 9ms/step - loss: 0.5509 - accuracy: 0.3939 - val_loss: 0.5452 - val_accuracy: 0.4400 - lr: 0.0010\n",
      "Epoch 5/500\n",
      "7/7 [==============================] - 0s 9ms/step - loss: 0.5285 - accuracy: 0.3838 - val_loss: 0.5208 - val_accuracy: 0.4400 - lr: 0.0010\n",
      "Epoch 6/500\n",
      "7/7 [==============================] - 0s 10ms/step - loss: 0.4959 - accuracy: 0.3939 - val_loss: 0.5007 - val_accuracy: 0.4400 - lr: 0.0010\n",
      "Epoch 7/500\n",
      "7/7 [==============================] - 0s 9ms/step - loss: 0.4747 - accuracy: 0.3939 - val_loss: 0.4837 - val_accuracy: 0.4400 - lr: 0.0010\n",
      "Epoch 8/500\n",
      "7/7 [==============================] - 0s 8ms/step - loss: 0.4747 - accuracy: 0.3939 - val_loss: 0.4703 - val_accuracy: 0.4400 - lr: 0.0010\n",
      "Epoch 9/500\n",
      "7/7 [==============================] - 0s 9ms/step - loss: 0.4754 - accuracy: 0.3939 - val_loss: 0.4587 - val_accuracy: 0.4400 - lr: 0.0010\n",
      "Epoch 10/500\n",
      "7/7 [==============================] - 0s 9ms/step - loss: 0.4613 - accuracy: 0.3939 - val_loss: 0.4487 - val_accuracy: 0.4400 - lr: 0.0010\n",
      "Epoch 11/500\n",
      "7/7 [==============================] - 0s 9ms/step - loss: 0.4349 - accuracy: 0.3939 - val_loss: 0.4417 - val_accuracy: 0.4400 - lr: 0.0010\n",
      "Epoch 12/500\n",
      "7/7 [==============================] - 0s 10ms/step - loss: 0.4451 - accuracy: 0.3939 - val_loss: 0.4346 - val_accuracy: 0.4400 - lr: 0.0010\n",
      "Epoch 13/500\n",
      "7/7 [==============================] - 0s 9ms/step - loss: 0.4400 - accuracy: 0.3939 - val_loss: 0.4268 - val_accuracy: 0.4400 - lr: 0.0010\n",
      "Epoch 14/500\n",
      "7/7 [==============================] - 0s 9ms/step - loss: 0.4278 - accuracy: 0.3939 - val_loss: 0.4196 - val_accuracy: 0.4400 - lr: 0.0010\n",
      "Epoch 15/500\n",
      "7/7 [==============================] - 0s 9ms/step - loss: 0.4346 - accuracy: 0.3939 - val_loss: 0.4136 - val_accuracy: 0.4800 - lr: 0.0010\n",
      "Epoch 16/500\n",
      "7/7 [==============================] - 0s 10ms/step - loss: 0.4141 - accuracy: 0.4242 - val_loss: 0.4084 - val_accuracy: 0.4800 - lr: 0.0010\n",
      "Epoch 17/500\n",
      "7/7 [==============================] - 0s 10ms/step - loss: 0.4107 - accuracy: 0.4242 - val_loss: 0.4036 - val_accuracy: 0.4800 - lr: 0.0010\n",
      "Epoch 18/500\n",
      "7/7 [==============================] - 0s 9ms/step - loss: 0.4135 - accuracy: 0.4242 - val_loss: 0.3989 - val_accuracy: 0.5600 - lr: 0.0010\n",
      "Epoch 19/500\n",
      "7/7 [==============================] - 0s 10ms/step - loss: 0.4060 - accuracy: 0.4343 - val_loss: 0.3951 - val_accuracy: 0.5600 - lr: 0.0010\n",
      "Epoch 20/500\n",
      "7/7 [==============================] - 0s 9ms/step - loss: 0.3946 - accuracy: 0.4545 - val_loss: 0.3919 - val_accuracy: 0.5600 - lr: 0.0010\n",
      "Epoch 21/500\n",
      "7/7 [==============================] - 0s 9ms/step - loss: 0.4028 - accuracy: 0.4646 - val_loss: 0.3888 - val_accuracy: 0.5600 - lr: 0.0010\n",
      "Epoch 22/500\n",
      "7/7 [==============================] - 0s 9ms/step - loss: 0.3959 - accuracy: 0.4444 - val_loss: 0.3861 - val_accuracy: 0.6000 - lr: 0.0010\n",
      "Epoch 23/500\n",
      "7/7 [==============================] - 0s 9ms/step - loss: 0.3849 - accuracy: 0.4747 - val_loss: 0.3837 - val_accuracy: 0.6400 - lr: 0.0010\n",
      "Epoch 24/500\n",
      "7/7 [==============================] - 0s 10ms/step - loss: 0.3963 - accuracy: 0.4848 - val_loss: 0.3810 - val_accuracy: 0.6400 - lr: 0.0010\n",
      "Epoch 25/500\n",
      "7/7 [==============================] - 0s 9ms/step - loss: 0.3924 - accuracy: 0.5152 - val_loss: 0.3781 - val_accuracy: 0.6400 - lr: 0.0010\n",
      "Epoch 26/500\n",
      "7/7 [==============================] - 0s 9ms/step - loss: 0.3941 - accuracy: 0.5152 - val_loss: 0.3754 - val_accuracy: 0.6400 - lr: 0.0010\n",
      "Epoch 27/500\n",
      "7/7 [==============================] - 0s 9ms/step - loss: 0.3831 - accuracy: 0.5253 - val_loss: 0.3734 - val_accuracy: 0.6400 - lr: 0.0010\n",
      "Epoch 28/500\n",
      "7/7 [==============================] - 0s 9ms/step - loss: 0.3856 - accuracy: 0.5455 - val_loss: 0.3713 - val_accuracy: 0.6800 - lr: 0.0010\n",
      "Epoch 29/500\n",
      "7/7 [==============================] - 0s 8ms/step - loss: 0.3844 - accuracy: 0.4949 - val_loss: 0.3692 - val_accuracy: 0.6800 - lr: 0.0010\n",
      "Epoch 30/500\n",
      "7/7 [==============================] - 0s 8ms/step - loss: 0.3755 - accuracy: 0.5758 - val_loss: 0.3675 - val_accuracy: 0.6800 - lr: 0.0010\n",
      "Epoch 31/500\n",
      "7/7 [==============================] - 0s 9ms/step - loss: 0.3806 - accuracy: 0.5455 - val_loss: 0.3665 - val_accuracy: 0.6800 - lr: 0.0010\n",
      "Epoch 32/500\n",
      "7/7 [==============================] - 0s 9ms/step - loss: 0.3722 - accuracy: 0.5859 - val_loss: 0.3658 - val_accuracy: 0.6800 - lr: 0.0010\n",
      "Epoch 33/500\n",
      "7/7 [==============================] - 0s 9ms/step - loss: 0.3791 - accuracy: 0.5758 - val_loss: 0.3643 - val_accuracy: 0.7200 - lr: 0.0010\n",
      "Epoch 34/500\n",
      "7/7 [==============================] - 0s 10ms/step - loss: 0.3714 - accuracy: 0.5758 - val_loss: 0.3626 - val_accuracy: 0.7200 - lr: 0.0010\n",
      "Epoch 35/500\n",
      "7/7 [==============================] - 0s 10ms/step - loss: 0.3673 - accuracy: 0.5758 - val_loss: 0.3613 - val_accuracy: 0.7200 - lr: 0.0010\n",
      "Epoch 36/500\n",
      "7/7 [==============================] - 0s 9ms/step - loss: 0.3622 - accuracy: 0.6364 - val_loss: 0.3602 - val_accuracy: 0.7200 - lr: 0.0010\n",
      "Epoch 37/500\n",
      "7/7 [==============================] - 0s 9ms/step - loss: 0.3642 - accuracy: 0.6465 - val_loss: 0.3591 - val_accuracy: 0.7200 - lr: 0.0010\n",
      "Epoch 38/500\n",
      "7/7 [==============================] - 0s 8ms/step - loss: 0.3677 - accuracy: 0.6162 - val_loss: 0.3579 - val_accuracy: 0.7200 - lr: 0.0010\n",
      "Epoch 39/500\n",
      "7/7 [==============================] - 0s 8ms/step - loss: 0.3631 - accuracy: 0.6465 - val_loss: 0.3566 - val_accuracy: 0.7200 - lr: 0.0010\n",
      "Epoch 40/500\n",
      "7/7 [==============================] - 0s 8ms/step - loss: 0.3602 - accuracy: 0.6667 - val_loss: 0.3554 - val_accuracy: 0.7200 - lr: 0.0010\n",
      "Epoch 41/500\n",
      "7/7 [==============================] - 0s 9ms/step - loss: 0.3579 - accuracy: 0.6465 - val_loss: 0.3543 - val_accuracy: 0.7200 - lr: 0.0010\n",
      "Epoch 42/500\n",
      "7/7 [==============================] - 0s 10ms/step - loss: 0.3669 - accuracy: 0.6263 - val_loss: 0.3531 - val_accuracy: 0.7200 - lr: 0.0010\n",
      "Epoch 43/500\n",
      "7/7 [==============================] - 0s 9ms/step - loss: 0.3612 - accuracy: 0.6263 - val_loss: 0.3521 - val_accuracy: 0.7200 - lr: 0.0010\n",
      "Epoch 44/500\n",
      "7/7 [==============================] - 0s 9ms/step - loss: 0.3551 - accuracy: 0.6667 - val_loss: 0.3511 - val_accuracy: 0.7200 - lr: 0.0010\n",
      "Epoch 45/500\n",
      "7/7 [==============================] - 0s 9ms/step - loss: 0.3585 - accuracy: 0.6667 - val_loss: 0.3498 - val_accuracy: 0.7200 - lr: 0.0010\n",
      "Epoch 46/500\n",
      "7/7 [==============================] - 0s 10ms/step - loss: 0.3521 - accuracy: 0.6768 - val_loss: 0.3486 - val_accuracy: 0.7200 - lr: 0.0010\n",
      "Epoch 47/500\n",
      "7/7 [==============================] - 0s 10ms/step - loss: 0.3526 - accuracy: 0.6768 - val_loss: 0.3475 - val_accuracy: 0.7200 - lr: 0.0010\n",
      "Epoch 48/500\n",
      "7/7 [==============================] - 0s 9ms/step - loss: 0.3564 - accuracy: 0.6768 - val_loss: 0.3466 - val_accuracy: 0.7200 - lr: 0.0010\n",
      "Epoch 49/500\n",
      "7/7 [==============================] - 0s 9ms/step - loss: 0.3482 - accuracy: 0.6869 - val_loss: 0.3458 - val_accuracy: 0.7200 - lr: 0.0010\n",
      "Epoch 50/500\n",
      "7/7 [==============================] - 0s 10ms/step - loss: 0.3562 - accuracy: 0.6667 - val_loss: 0.3449 - val_accuracy: 0.7200 - lr: 0.0010\n",
      "Epoch 51/500\n",
      "7/7 [==============================] - 0s 9ms/step - loss: 0.3494 - accuracy: 0.6768 - val_loss: 0.3438 - val_accuracy: 0.7200 - lr: 0.0010\n",
      "Epoch 52/500\n",
      "7/7 [==============================] - 0s 9ms/step - loss: 0.3457 - accuracy: 0.7172 - val_loss: 0.3429 - val_accuracy: 0.7200 - lr: 0.0010\n",
      "Epoch 53/500\n",
      "7/7 [==============================] - 0s 9ms/step - loss: 0.3485 - accuracy: 0.7071 - val_loss: 0.3420 - val_accuracy: 0.7200 - lr: 0.0010\n",
      "Epoch 54/500\n",
      "7/7 [==============================] - 0s 9ms/step - loss: 0.3471 - accuracy: 0.6970 - val_loss: 0.3412 - val_accuracy: 0.7200 - lr: 0.0010\n",
      "Epoch 55/500\n",
      "7/7 [==============================] - 0s 9ms/step - loss: 0.3447 - accuracy: 0.7273 - val_loss: 0.3404 - val_accuracy: 0.7200 - lr: 0.0010\n",
      "Epoch 56/500\n",
      "7/7 [==============================] - 0s 9ms/step - loss: 0.3450 - accuracy: 0.6869 - val_loss: 0.3398 - val_accuracy: 0.7200 - lr: 0.0010\n",
      "Epoch 57/500\n",
      "7/7 [==============================] - 0s 8ms/step - loss: 0.3432 - accuracy: 0.6970 - val_loss: 0.3394 - val_accuracy: 0.7200 - lr: 0.0010\n",
      "Epoch 58/500\n",
      "7/7 [==============================] - 0s 9ms/step - loss: 0.3457 - accuracy: 0.6768 - val_loss: 0.3390 - val_accuracy: 0.7200 - lr: 0.0010\n",
      "Epoch 59/500\n",
      "7/7 [==============================] - 0s 9ms/step - loss: 0.3472 - accuracy: 0.6566 - val_loss: 0.3387 - val_accuracy: 0.7200 - lr: 0.0010\n",
      "Epoch 60/500\n",
      "7/7 [==============================] - 0s 9ms/step - loss: 0.3459 - accuracy: 0.6970 - val_loss: 0.3385 - val_accuracy: 0.7200 - lr: 0.0010\n",
      "Epoch 61/500\n",
      "7/7 [==============================] - 0s 9ms/step - loss: 0.3416 - accuracy: 0.7071 - val_loss: 0.3383 - val_accuracy: 0.7200 - lr: 0.0010\n",
      "Epoch 62/500\n",
      "7/7 [==============================] - 0s 9ms/step - loss: 0.3405 - accuracy: 0.7071 - val_loss: 0.3379 - val_accuracy: 0.7200 - lr: 0.0010\n",
      "Epoch 63/500\n",
      "7/7 [==============================] - 0s 10ms/step - loss: 0.3405 - accuracy: 0.7172 - val_loss: 0.3375 - val_accuracy: 0.7200 - lr: 0.0010\n",
      "Epoch 64/500\n",
      "7/7 [==============================] - 0s 8ms/step - loss: 0.3389 - accuracy: 0.7273 - val_loss: 0.3372 - val_accuracy: 0.7200 - lr: 0.0010\n",
      "Epoch 65/500\n",
      "7/7 [==============================] - 0s 9ms/step - loss: 0.3424 - accuracy: 0.7071 - val_loss: 0.3367 - val_accuracy: 0.7200 - lr: 0.0010\n",
      "Epoch 66/500\n",
      "7/7 [==============================] - 0s 10ms/step - loss: 0.3397 - accuracy: 0.7172 - val_loss: 0.3361 - val_accuracy: 0.7200 - lr: 0.0010\n",
      "Epoch 67/500\n",
      "7/7 [==============================] - 0s 10ms/step - loss: 0.3460 - accuracy: 0.6869 - val_loss: 0.3355 - val_accuracy: 0.7200 - lr: 0.0010\n",
      "Epoch 68/500\n",
      "7/7 [==============================] - 0s 10ms/step - loss: 0.3418 - accuracy: 0.7071 - val_loss: 0.3347 - val_accuracy: 0.7200 - lr: 0.0010\n",
      "Epoch 69/500\n",
      "7/7 [==============================] - 0s 9ms/step - loss: 0.3337 - accuracy: 0.7273 - val_loss: 0.3341 - val_accuracy: 0.7200 - lr: 0.0010\n",
      "Epoch 70/500\n",
      "7/7 [==============================] - 0s 9ms/step - loss: 0.3362 - accuracy: 0.7273 - val_loss: 0.3335 - val_accuracy: 0.7200 - lr: 0.0010\n",
      "Epoch 71/500\n",
      "7/7 [==============================] - 0s 8ms/step - loss: 0.3371 - accuracy: 0.6970 - val_loss: 0.3330 - val_accuracy: 0.7200 - lr: 0.0010\n",
      "Epoch 72/500\n",
      "7/7 [==============================] - 0s 11ms/step - loss: 0.3365 - accuracy: 0.7273 - val_loss: 0.3323 - val_accuracy: 0.7200 - lr: 0.0010\n",
      "Epoch 73/500\n",
      "7/7 [==============================] - 0s 10ms/step - loss: 0.3348 - accuracy: 0.7273 - val_loss: 0.3319 - val_accuracy: 0.7200 - lr: 0.0010\n",
      "Epoch 74/500\n",
      "7/7 [==============================] - 0s 9ms/step - loss: 0.3357 - accuracy: 0.7172 - val_loss: 0.3316 - val_accuracy: 0.7200 - lr: 0.0010\n",
      "Epoch 75/500\n",
      "7/7 [==============================] - 0s 9ms/step - loss: 0.3333 - accuracy: 0.7172 - val_loss: 0.3312 - val_accuracy: 0.7200 - lr: 0.0010\n",
      "Epoch 76/500\n",
      "7/7 [==============================] - 0s 9ms/step - loss: 0.3332 - accuracy: 0.7273 - val_loss: 0.3306 - val_accuracy: 0.7200 - lr: 0.0010\n",
      "Epoch 77/500\n",
      "7/7 [==============================] - 0s 9ms/step - loss: 0.3348 - accuracy: 0.7172 - val_loss: 0.3299 - val_accuracy: 0.7200 - lr: 0.0010\n",
      "Epoch 78/500\n",
      "7/7 [==============================] - 0s 8ms/step - loss: 0.3314 - accuracy: 0.7273 - val_loss: 0.3293 - val_accuracy: 0.7200 - lr: 0.0010\n",
      "Epoch 79/500\n",
      "7/7 [==============================] - 0s 9ms/step - loss: 0.3313 - accuracy: 0.7172 - val_loss: 0.3289 - val_accuracy: 0.7200 - lr: 0.0010\n",
      "Epoch 80/500\n",
      "7/7 [==============================] - 0s 8ms/step - loss: 0.3310 - accuracy: 0.7172 - val_loss: 0.3285 - val_accuracy: 0.7200 - lr: 0.0010\n",
      "Epoch 81/500\n",
      "7/7 [==============================] - 0s 9ms/step - loss: 0.3296 - accuracy: 0.7273 - val_loss: 0.3280 - val_accuracy: 0.7200 - lr: 0.0010\n",
      "Epoch 82/500\n",
      "7/7 [==============================] - 0s 9ms/step - loss: 0.3306 - accuracy: 0.7273 - val_loss: 0.3275 - val_accuracy: 0.7200 - lr: 0.0010\n",
      "Epoch 83/500\n",
      "7/7 [==============================] - 0s 9ms/step - loss: 0.3287 - accuracy: 0.7273 - val_loss: 0.3271 - val_accuracy: 0.7200 - lr: 0.0010\n",
      "Epoch 84/500\n",
      "7/7 [==============================] - 0s 9ms/step - loss: 0.3308 - accuracy: 0.7273 - val_loss: 0.3267 - val_accuracy: 0.7200 - lr: 0.0010\n",
      "Epoch 85/500\n",
      "7/7 [==============================] - 0s 8ms/step - loss: 0.3279 - accuracy: 0.7273 - val_loss: 0.3263 - val_accuracy: 0.7200 - lr: 0.0010\n",
      "Epoch 86/500\n",
      "7/7 [==============================] - 0s 9ms/step - loss: 0.3349 - accuracy: 0.7172 - val_loss: 0.3259 - val_accuracy: 0.7200 - lr: 0.0010\n",
      "Epoch 87/500\n",
      "7/7 [==============================] - 0s 9ms/step - loss: 0.3266 - accuracy: 0.7273 - val_loss: 0.3255 - val_accuracy: 0.7200 - lr: 0.0010\n",
      "Epoch 88/500\n",
      "7/7 [==============================] - 0s 9ms/step - loss: 0.3276 - accuracy: 0.7273 - val_loss: 0.3252 - val_accuracy: 0.7200 - lr: 0.0010\n",
      "Epoch 89/500\n",
      "7/7 [==============================] - 0s 8ms/step - loss: 0.3321 - accuracy: 0.7273 - val_loss: 0.3248 - val_accuracy: 0.7200 - lr: 0.0010\n",
      "Epoch 90/500\n",
      "7/7 [==============================] - 0s 9ms/step - loss: 0.3256 - accuracy: 0.7273 - val_loss: 0.3243 - val_accuracy: 0.7200 - lr: 0.0010\n",
      "Epoch 91/500\n",
      "7/7 [==============================] - 0s 9ms/step - loss: 0.3273 - accuracy: 0.7172 - val_loss: 0.3239 - val_accuracy: 0.7200 - lr: 0.0010\n",
      "Epoch 92/500\n",
      "7/7 [==============================] - 0s 9ms/step - loss: 0.3271 - accuracy: 0.7273 - val_loss: 0.3234 - val_accuracy: 0.7200 - lr: 0.0010\n",
      "Epoch 93/500\n",
      "7/7 [==============================] - 0s 8ms/step - loss: 0.3250 - accuracy: 0.7172 - val_loss: 0.3230 - val_accuracy: 0.7200 - lr: 0.0010\n",
      "Epoch 94/500\n",
      "7/7 [==============================] - 0s 9ms/step - loss: 0.3258 - accuracy: 0.7273 - val_loss: 0.3226 - val_accuracy: 0.7200 - lr: 0.0010\n",
      "Epoch 95/500\n",
      "7/7 [==============================] - 0s 9ms/step - loss: 0.3253 - accuracy: 0.7273 - val_loss: 0.3223 - val_accuracy: 0.7200 - lr: 0.0010\n",
      "Epoch 96/500\n",
      "7/7 [==============================] - 0s 9ms/step - loss: 0.3225 - accuracy: 0.7273 - val_loss: 0.3220 - val_accuracy: 0.7200 - lr: 0.0010\n",
      "Epoch 97/500\n",
      "7/7 [==============================] - 0s 9ms/step - loss: 0.3215 - accuracy: 0.7273 - val_loss: 0.3217 - val_accuracy: 0.7200 - lr: 0.0010\n",
      "Epoch 98/500\n",
      "7/7 [==============================] - 0s 9ms/step - loss: 0.3218 - accuracy: 0.7273 - val_loss: 0.3214 - val_accuracy: 0.7200 - lr: 0.0010\n",
      "Epoch 99/500\n",
      "7/7 [==============================] - 0s 9ms/step - loss: 0.3244 - accuracy: 0.7273 - val_loss: 0.3211 - val_accuracy: 0.7200 - lr: 0.0010\n",
      "Epoch 100/500\n",
      "7/7 [==============================] - 0s 8ms/step - loss: 0.3224 - accuracy: 0.7273 - val_loss: 0.3207 - val_accuracy: 0.7200 - lr: 0.0010\n",
      "Epoch 101/500\n",
      "7/7 [==============================] - 0s 9ms/step - loss: 0.3239 - accuracy: 0.7273 - val_loss: 0.3203 - val_accuracy: 0.7200 - lr: 0.0010\n",
      "Epoch 102/500\n",
      "7/7 [==============================] - 0s 8ms/step - loss: 0.3241 - accuracy: 0.7172 - val_loss: 0.3200 - val_accuracy: 0.7200 - lr: 0.0010\n",
      "Epoch 103/500\n",
      "7/7 [==============================] - 0s 9ms/step - loss: 0.3210 - accuracy: 0.7273 - val_loss: 0.3197 - val_accuracy: 0.7200 - lr: 0.0010\n",
      "Epoch 104/500\n",
      "7/7 [==============================] - 0s 8ms/step - loss: 0.3197 - accuracy: 0.7273 - val_loss: 0.3194 - val_accuracy: 0.7200 - lr: 0.0010\n",
      "Epoch 105/500\n",
      "7/7 [==============================] - 0s 9ms/step - loss: 0.3204 - accuracy: 0.7273 - val_loss: 0.3191 - val_accuracy: 0.7200 - lr: 0.0010\n",
      "Epoch 106/500\n",
      "7/7 [==============================] - 0s 9ms/step - loss: 0.3196 - accuracy: 0.7273 - val_loss: 0.3188 - val_accuracy: 0.7200 - lr: 0.0010\n",
      "Epoch 107/500\n",
      "7/7 [==============================] - 0s 9ms/step - loss: 0.3188 - accuracy: 0.7273 - val_loss: 0.3186 - val_accuracy: 0.7200 - lr: 0.0010\n",
      "Epoch 108/500\n",
      "7/7 [==============================] - 0s 8ms/step - loss: 0.3186 - accuracy: 0.7273 - val_loss: 0.3183 - val_accuracy: 0.7200 - lr: 0.0010\n",
      "Epoch 109/500\n",
      "7/7 [==============================] - 0s 9ms/step - loss: 0.3183 - accuracy: 0.7273 - val_loss: 0.3180 - val_accuracy: 0.7200 - lr: 0.0010\n",
      "Epoch 110/500\n",
      "7/7 [==============================] - 0s 9ms/step - loss: 0.3189 - accuracy: 0.7273 - val_loss: 0.3175 - val_accuracy: 0.7200 - lr: 0.0010\n",
      "Epoch 111/500\n",
      "7/7 [==============================] - 0s 9ms/step - loss: 0.3178 - accuracy: 0.7273 - val_loss: 0.3171 - val_accuracy: 0.7200 - lr: 0.0010\n",
      "Epoch 112/500\n",
      "7/7 [==============================] - 0s 9ms/step - loss: 0.3172 - accuracy: 0.7273 - val_loss: 0.3168 - val_accuracy: 0.7200 - lr: 0.0010\n",
      "Epoch 113/500\n",
      "7/7 [==============================] - 0s 9ms/step - loss: 0.3171 - accuracy: 0.7273 - val_loss: 0.3166 - val_accuracy: 0.7200 - lr: 0.0010\n",
      "Epoch 114/500\n",
      "7/7 [==============================] - 0s 9ms/step - loss: 0.3177 - accuracy: 0.7273 - val_loss: 0.3163 - val_accuracy: 0.7200 - lr: 0.0010\n",
      "Epoch 115/500\n",
      "7/7 [==============================] - 0s 8ms/step - loss: 0.3164 - accuracy: 0.7273 - val_loss: 0.3161 - val_accuracy: 0.7200 - lr: 0.0010\n",
      "Epoch 116/500\n",
      "7/7 [==============================] - 0s 9ms/step - loss: 0.3170 - accuracy: 0.7273 - val_loss: 0.3158 - val_accuracy: 0.7200 - lr: 0.0010\n",
      "Epoch 117/500\n",
      "7/7 [==============================] - 0s 8ms/step - loss: 0.3170 - accuracy: 0.7273 - val_loss: 0.3156 - val_accuracy: 0.7200 - lr: 0.0010\n",
      "Epoch 118/500\n",
      "7/7 [==============================] - 0s 9ms/step - loss: 0.3168 - accuracy: 0.7273 - val_loss: 0.3153 - val_accuracy: 0.7200 - lr: 0.0010\n",
      "Epoch 119/500\n",
      "7/7 [==============================] - 0s 9ms/step - loss: 0.3145 - accuracy: 0.7273 - val_loss: 0.3150 - val_accuracy: 0.7200 - lr: 0.0010\n",
      "Epoch 120/500\n",
      "7/7 [==============================] - 0s 8ms/step - loss: 0.3140 - accuracy: 0.7273 - val_loss: 0.3147 - val_accuracy: 0.7200 - lr: 0.0010\n",
      "Epoch 121/500\n",
      "7/7 [==============================] - 0s 9ms/step - loss: 0.3133 - accuracy: 0.7273 - val_loss: 0.3144 - val_accuracy: 0.7200 - lr: 0.0010\n",
      "Epoch 122/500\n",
      "7/7 [==============================] - 0s 9ms/step - loss: 0.3145 - accuracy: 0.7273 - val_loss: 0.3141 - val_accuracy: 0.7200 - lr: 0.0010\n",
      "Epoch 123/500\n",
      "7/7 [==============================] - 0s 8ms/step - loss: 0.3148 - accuracy: 0.7273 - val_loss: 0.3137 - val_accuracy: 0.7200 - lr: 0.0010\n",
      "Epoch 124/500\n",
      "7/7 [==============================] - 0s 9ms/step - loss: 0.3122 - accuracy: 0.7273 - val_loss: 0.3133 - val_accuracy: 0.7200 - lr: 0.0010\n",
      "Epoch 125/500\n",
      "7/7 [==============================] - 0s 9ms/step - loss: 0.3122 - accuracy: 0.7273 - val_loss: 0.3128 - val_accuracy: 0.7200 - lr: 0.0010\n",
      "Epoch 126/500\n",
      "7/7 [==============================] - 0s 9ms/step - loss: 0.3119 - accuracy: 0.7273 - val_loss: 0.3122 - val_accuracy: 0.7200 - lr: 0.0010\n",
      "Epoch 127/500\n",
      "7/7 [==============================] - 0s 9ms/step - loss: 0.3108 - accuracy: 0.7273 - val_loss: 0.3115 - val_accuracy: 0.7200 - lr: 0.0010\n",
      "Epoch 128/500\n",
      "7/7 [==============================] - 0s 9ms/step - loss: 0.3121 - accuracy: 0.7273 - val_loss: 0.3108 - val_accuracy: 0.7200 - lr: 0.0010\n",
      "Epoch 129/500\n",
      "7/7 [==============================] - 0s 9ms/step - loss: 0.3136 - accuracy: 0.7172 - val_loss: 0.3101 - val_accuracy: 0.7200 - lr: 0.0010\n",
      "Epoch 130/500\n",
      "7/7 [==============================] - 0s 9ms/step - loss: 0.3097 - accuracy: 0.7273 - val_loss: 0.3093 - val_accuracy: 0.7200 - lr: 0.0010\n",
      "Epoch 131/500\n",
      "7/7 [==============================] - 0s 9ms/step - loss: 0.3078 - accuracy: 0.7273 - val_loss: 0.3085 - val_accuracy: 0.7200 - lr: 0.0010\n",
      "Epoch 132/500\n",
      "7/7 [==============================] - 0s 9ms/step - loss: 0.3065 - accuracy: 0.7273 - val_loss: 0.3077 - val_accuracy: 0.7200 - lr: 0.0010\n",
      "Epoch 133/500\n",
      "7/7 [==============================] - 0s 12ms/step - loss: 0.3062 - accuracy: 0.7273 - val_loss: 0.3069 - val_accuracy: 0.7200 - lr: 0.0010\n",
      "Epoch 134/500\n",
      "7/7 [==============================] - 0s 9ms/step - loss: 0.3059 - accuracy: 0.7273 - val_loss: 0.3060 - val_accuracy: 0.7200 - lr: 0.0010\n",
      "Epoch 135/500\n",
      "7/7 [==============================] - 0s 8ms/step - loss: 0.3047 - accuracy: 0.7273 - val_loss: 0.3052 - val_accuracy: 0.7200 - lr: 0.0010\n",
      "Epoch 136/500\n",
      "7/7 [==============================] - 0s 9ms/step - loss: 0.3033 - accuracy: 0.7273 - val_loss: 0.3044 - val_accuracy: 0.7200 - lr: 0.0010\n",
      "Epoch 137/500\n",
      "7/7 [==============================] - 0s 10ms/step - loss: 0.3017 - accuracy: 0.7273 - val_loss: 0.3036 - val_accuracy: 0.7200 - lr: 0.0010\n",
      "Epoch 138/500\n",
      "7/7 [==============================] - 0s 8ms/step - loss: 0.3024 - accuracy: 0.7273 - val_loss: 0.3028 - val_accuracy: 0.7200 - lr: 0.0010\n",
      "Epoch 139/500\n",
      "7/7 [==============================] - 0s 8ms/step - loss: 0.2993 - accuracy: 0.7273 - val_loss: 0.3020 - val_accuracy: 0.7200 - lr: 0.0010\n",
      "Epoch 140/500\n",
      "7/7 [==============================] - 0s 9ms/step - loss: 0.2994 - accuracy: 0.7273 - val_loss: 0.3012 - val_accuracy: 0.7200 - lr: 0.0010\n",
      "Epoch 141/500\n",
      "7/7 [==============================] - 0s 8ms/step - loss: 0.2986 - accuracy: 0.7273 - val_loss: 0.3003 - val_accuracy: 0.7200 - lr: 0.0010\n",
      "Epoch 142/500\n",
      "7/7 [==============================] - 0s 8ms/step - loss: 0.2960 - accuracy: 0.7273 - val_loss: 0.2995 - val_accuracy: 0.7200 - lr: 0.0010\n",
      "Epoch 143/500\n",
      "7/7 [==============================] - 0s 9ms/step - loss: 0.2954 - accuracy: 0.7273 - val_loss: 0.2985 - val_accuracy: 0.7200 - lr: 0.0010\n",
      "Epoch 144/500\n",
      "7/7 [==============================] - 0s 9ms/step - loss: 0.2983 - accuracy: 0.7172 - val_loss: 0.2975 - val_accuracy: 0.7200 - lr: 0.0010\n",
      "Epoch 145/500\n",
      "7/7 [==============================] - 0s 9ms/step - loss: 0.2941 - accuracy: 0.7273 - val_loss: 0.2966 - val_accuracy: 0.7200 - lr: 0.0010\n",
      "Epoch 146/500\n",
      "7/7 [==============================] - 0s 9ms/step - loss: 0.2994 - accuracy: 0.7172 - val_loss: 0.2958 - val_accuracy: 0.7200 - lr: 0.0010\n",
      "Epoch 147/500\n",
      "7/7 [==============================] - 0s 9ms/step - loss: 0.2975 - accuracy: 0.7172 - val_loss: 0.2951 - val_accuracy: 0.7200 - lr: 0.0010\n",
      "Epoch 148/500\n",
      "7/7 [==============================] - 0s 9ms/step - loss: 0.2917 - accuracy: 0.7273 - val_loss: 0.2944 - val_accuracy: 0.7200 - lr: 0.0010\n",
      "Epoch 149/500\n",
      "7/7 [==============================] - 0s 9ms/step - loss: 0.2904 - accuracy: 0.7273 - val_loss: 0.2936 - val_accuracy: 0.7200 - lr: 0.0010\n",
      "Epoch 150/500\n",
      "7/7 [==============================] - 0s 9ms/step - loss: 0.2895 - accuracy: 0.7273 - val_loss: 0.2928 - val_accuracy: 0.7200 - lr: 0.0010\n",
      "Epoch 151/500\n",
      "7/7 [==============================] - 0s 9ms/step - loss: 0.2884 - accuracy: 0.7273 - val_loss: 0.2919 - val_accuracy: 0.7200 - lr: 0.0010\n",
      "Epoch 152/500\n",
      "7/7 [==============================] - 0s 9ms/step - loss: 0.2888 - accuracy: 0.7273 - val_loss: 0.2912 - val_accuracy: 0.7200 - lr: 0.0010\n",
      "Epoch 153/500\n",
      "7/7 [==============================] - 0s 10ms/step - loss: 0.2875 - accuracy: 0.7273 - val_loss: 0.2904 - val_accuracy: 0.7200 - lr: 0.0010\n",
      "Epoch 154/500\n",
      "7/7 [==============================] - 0s 9ms/step - loss: 0.2864 - accuracy: 0.7273 - val_loss: 0.2897 - val_accuracy: 0.7200 - lr: 0.0010\n",
      "Epoch 155/500\n",
      "7/7 [==============================] - 0s 9ms/step - loss: 0.2862 - accuracy: 0.7273 - val_loss: 0.2891 - val_accuracy: 0.7200 - lr: 0.0010\n",
      "Epoch 156/500\n",
      "7/7 [==============================] - 0s 8ms/step - loss: 0.2851 - accuracy: 0.7273 - val_loss: 0.2885 - val_accuracy: 0.7200 - lr: 0.0010\n",
      "Epoch 157/500\n",
      "7/7 [==============================] - 0s 9ms/step - loss: 0.2834 - accuracy: 0.7273 - val_loss: 0.2879 - val_accuracy: 0.7200 - lr: 0.0010\n",
      "Epoch 158/500\n",
      "7/7 [==============================] - 0s 9ms/step - loss: 0.2834 - accuracy: 0.7273 - val_loss: 0.2874 - val_accuracy: 0.7200 - lr: 0.0010\n",
      "Epoch 159/500\n",
      "7/7 [==============================] - 0s 9ms/step - loss: 0.2822 - accuracy: 0.7273 - val_loss: 0.2869 - val_accuracy: 0.7200 - lr: 0.0010\n",
      "Epoch 160/500\n",
      "7/7 [==============================] - 0s 9ms/step - loss: 0.2820 - accuracy: 0.7273 - val_loss: 0.2864 - val_accuracy: 0.7200 - lr: 0.0010\n",
      "Epoch 161/500\n",
      "7/7 [==============================] - 0s 9ms/step - loss: 0.2819 - accuracy: 0.7273 - val_loss: 0.2860 - val_accuracy: 0.7200 - lr: 0.0010\n",
      "Epoch 162/500\n",
      "7/7 [==============================] - 0s 9ms/step - loss: 0.2813 - accuracy: 0.7273 - val_loss: 0.2856 - val_accuracy: 0.7200 - lr: 0.0010\n",
      "Epoch 163/500\n",
      "7/7 [==============================] - 0s 9ms/step - loss: 0.2868 - accuracy: 0.7071 - val_loss: 0.2852 - val_accuracy: 0.7200 - lr: 0.0010\n",
      "Epoch 164/500\n",
      "7/7 [==============================] - 0s 9ms/step - loss: 0.2834 - accuracy: 0.7273 - val_loss: 0.2849 - val_accuracy: 0.7200 - lr: 0.0010\n",
      "Epoch 165/500\n",
      "7/7 [==============================] - 0s 9ms/step - loss: 0.2800 - accuracy: 0.7273 - val_loss: 0.2846 - val_accuracy: 0.7200 - lr: 0.0010\n",
      "Epoch 166/500\n",
      "7/7 [==============================] - 0s 9ms/step - loss: 0.2799 - accuracy: 0.7273 - val_loss: 0.2844 - val_accuracy: 0.7200 - lr: 0.0010\n",
      "Epoch 167/500\n",
      "7/7 [==============================] - 0s 9ms/step - loss: 0.2805 - accuracy: 0.7273 - val_loss: 0.2841 - val_accuracy: 0.7200 - lr: 0.0010\n",
      "Epoch 168/500\n",
      "7/7 [==============================] - 0s 9ms/step - loss: 0.2784 - accuracy: 0.7273 - val_loss: 0.2839 - val_accuracy: 0.7200 - lr: 0.0010\n",
      "Epoch 169/500\n",
      "7/7 [==============================] - 0s 9ms/step - loss: 0.2793 - accuracy: 0.7273 - val_loss: 0.2837 - val_accuracy: 0.7200 - lr: 0.0010\n",
      "Epoch 170/500\n",
      "7/7 [==============================] - 0s 8ms/step - loss: 0.2790 - accuracy: 0.7273 - val_loss: 0.2835 - val_accuracy: 0.7200 - lr: 0.0010\n",
      "Epoch 171/500\n",
      "7/7 [==============================] - 0s 10ms/step - loss: 0.2802 - accuracy: 0.7273 - val_loss: 0.2833 - val_accuracy: 0.7200 - lr: 0.0010\n",
      "Epoch 172/500\n",
      "7/7 [==============================] - 0s 9ms/step - loss: 0.2787 - accuracy: 0.7273 - val_loss: 0.2831 - val_accuracy: 0.7200 - lr: 0.0010\n",
      "Epoch 173/500\n",
      "7/7 [==============================] - 0s 9ms/step - loss: 0.2780 - accuracy: 0.7273 - val_loss: 0.2829 - val_accuracy: 0.7200 - lr: 0.0010\n",
      "Epoch 174/500\n",
      "7/7 [==============================] - 0s 8ms/step - loss: 0.2779 - accuracy: 0.7273 - val_loss: 0.2828 - val_accuracy: 0.7200 - lr: 0.0010\n",
      "Epoch 175/500\n",
      "7/7 [==============================] - 0s 8ms/step - loss: 0.2809 - accuracy: 0.7273 - val_loss: 0.2826 - val_accuracy: 0.7200 - lr: 0.0010\n",
      "Epoch 176/500\n",
      "7/7 [==============================] - 0s 8ms/step - loss: 0.2783 - accuracy: 0.7273 - val_loss: 0.2825 - val_accuracy: 0.7200 - lr: 0.0010\n",
      "Epoch 177/500\n",
      "7/7 [==============================] - 0s 9ms/step - loss: 0.2784 - accuracy: 0.7273 - val_loss: 0.2824 - val_accuracy: 0.7200 - lr: 0.0010\n",
      "Epoch 178/500\n",
      "7/7 [==============================] - 0s 9ms/step - loss: 0.2772 - accuracy: 0.7273 - val_loss: 0.2823 - val_accuracy: 0.7200 - lr: 0.0010\n",
      "Epoch 179/500\n",
      "7/7 [==============================] - 0s 9ms/step - loss: 0.2788 - accuracy: 0.7273 - val_loss: 0.2822 - val_accuracy: 0.7200 - lr: 0.0010\n",
      "Epoch 180/500\n",
      "7/7 [==============================] - 0s 11ms/step - loss: 0.2824 - accuracy: 0.7172 - val_loss: 0.2821 - val_accuracy: 0.7200 - lr: 0.0010\n",
      "Epoch 181/500\n",
      "7/7 [==============================] - 0s 9ms/step - loss: 0.2769 - accuracy: 0.7273 - val_loss: 0.2821 - val_accuracy: 0.7200 - lr: 0.0010\n",
      "Epoch 182/500\n",
      "7/7 [==============================] - 0s 8ms/step - loss: 0.2790 - accuracy: 0.7273 - val_loss: 0.2820 - val_accuracy: 0.7200 - lr: 0.0010\n",
      "Epoch 183/500\n",
      "7/7 [==============================] - 0s 8ms/step - loss: 0.2765 - accuracy: 0.7273 - val_loss: 0.2819 - val_accuracy: 0.7200 - lr: 0.0010\n",
      "Epoch 184/500\n",
      "7/7 [==============================] - 0s 8ms/step - loss: 0.2786 - accuracy: 0.7273 - val_loss: 0.2818 - val_accuracy: 0.7200 - lr: 0.0010\n",
      "Epoch 185/500\n",
      "7/7 [==============================] - 0s 9ms/step - loss: 0.2756 - accuracy: 0.7273 - val_loss: 0.2817 - val_accuracy: 0.7200 - lr: 0.0010\n",
      "Epoch 186/500\n",
      "7/7 [==============================] - 0s 9ms/step - loss: 0.2768 - accuracy: 0.7273 - val_loss: 0.2817 - val_accuracy: 0.7200 - lr: 0.0010\n",
      "Epoch 187/500\n",
      "7/7 [==============================] - 0s 8ms/step - loss: 0.2760 - accuracy: 0.7273 - val_loss: 0.2816 - val_accuracy: 0.7200 - lr: 0.0010\n",
      "Epoch 188/500\n",
      "7/7 [==============================] - 0s 8ms/step - loss: 0.2789 - accuracy: 0.7172 - val_loss: 0.2815 - val_accuracy: 0.7200 - lr: 0.0010\n",
      "Epoch 189/500\n",
      "7/7 [==============================] - 0s 9ms/step - loss: 0.2760 - accuracy: 0.7273 - val_loss: 0.2815 - val_accuracy: 0.7200 - lr: 0.0010\n",
      "Epoch 190/500\n",
      "7/7 [==============================] - 0s 8ms/step - loss: 0.2768 - accuracy: 0.7273 - val_loss: 0.2814 - val_accuracy: 0.7200 - lr: 0.0010\n",
      "Epoch 191/500\n",
      "7/7 [==============================] - 0s 9ms/step - loss: 0.2752 - accuracy: 0.7273 - val_loss: 0.2813 - val_accuracy: 0.7200 - lr: 0.0010\n",
      "Epoch 192/500\n",
      "7/7 [==============================] - 0s 9ms/step - loss: 0.2750 - accuracy: 0.7273 - val_loss: 0.2813 - val_accuracy: 0.7200 - lr: 0.0010\n",
      "Epoch 193/500\n",
      "7/7 [==============================] - 0s 8ms/step - loss: 0.2770 - accuracy: 0.7273 - val_loss: 0.2812 - val_accuracy: 0.7200 - lr: 0.0010\n",
      "Epoch 194/500\n",
      "7/7 [==============================] - 0s 9ms/step - loss: 0.2758 - accuracy: 0.7273 - val_loss: 0.2812 - val_accuracy: 0.7200 - lr: 0.0010\n",
      "Epoch 195/500\n",
      "7/7 [==============================] - 0s 8ms/step - loss: 0.2764 - accuracy: 0.7273 - val_loss: 0.2811 - val_accuracy: 0.7200 - lr: 0.0010\n",
      "Epoch 196/500\n",
      "7/7 [==============================] - 0s 9ms/step - loss: 0.2763 - accuracy: 0.7273 - val_loss: 0.2811 - val_accuracy: 0.7200 - lr: 0.0010\n",
      "Epoch 197/500\n",
      "7/7 [==============================] - 0s 9ms/step - loss: 0.2745 - accuracy: 0.7273 - val_loss: 0.2811 - val_accuracy: 0.7200 - lr: 0.0010\n",
      "Epoch 198/500\n",
      "7/7 [==============================] - 0s 9ms/step - loss: 0.2772 - accuracy: 0.7273 - val_loss: 0.2810 - val_accuracy: 0.7200 - lr: 0.0010\n",
      "Epoch 199/500\n",
      "7/7 [==============================] - 0s 9ms/step - loss: 0.2798 - accuracy: 0.7273 - val_loss: 0.2810 - val_accuracy: 0.7200 - lr: 0.0010\n",
      "Epoch 200/500\n",
      "7/7 [==============================] - 0s 9ms/step - loss: 0.2773 - accuracy: 0.7273 - val_loss: 0.2810 - val_accuracy: 0.7200 - lr: 0.0010\n",
      "Epoch 201/500\n",
      "7/7 [==============================] - 0s 9ms/step - loss: 0.2748 - accuracy: 0.7273 - val_loss: 0.2810 - val_accuracy: 0.7200 - lr: 0.0010\n",
      "Epoch 202/500\n",
      "7/7 [==============================] - 0s 9ms/step - loss: 0.2766 - accuracy: 0.7273 - val_loss: 0.2809 - val_accuracy: 0.7200 - lr: 0.0010\n",
      "Epoch 203/500\n",
      "7/7 [==============================] - 0s 9ms/step - loss: 0.2769 - accuracy: 0.7273 - val_loss: 0.2809 - val_accuracy: 0.7200 - lr: 0.0010\n",
      "Epoch 204/500\n",
      "7/7 [==============================] - 0s 9ms/step - loss: 0.2748 - accuracy: 0.7273 - val_loss: 0.2809 - val_accuracy: 0.7200 - lr: 0.0010\n",
      "Epoch 205/500\n",
      "7/7 [==============================] - 0s 10ms/step - loss: 0.2756 - accuracy: 0.7273 - val_loss: 0.2808 - val_accuracy: 0.7200 - lr: 0.0010\n",
      "Epoch 206/500\n",
      "7/7 [==============================] - 0s 8ms/step - loss: 0.2749 - accuracy: 0.7273 - val_loss: 0.2808 - val_accuracy: 0.7200 - lr: 0.0010\n",
      "Epoch 207/500\n",
      "7/7 [==============================] - 0s 9ms/step - loss: 0.2757 - accuracy: 0.7273 - val_loss: 0.2808 - val_accuracy: 0.7200 - lr: 0.0010\n",
      "Epoch 208/500\n",
      "7/7 [==============================] - 0s 9ms/step - loss: 0.2795 - accuracy: 0.7273 - val_loss: 0.2808 - val_accuracy: 0.7200 - lr: 0.0010\n",
      "Epoch 209/500\n",
      "7/7 [==============================] - 0s 9ms/step - loss: 0.2754 - accuracy: 0.7273 - val_loss: 0.2808 - val_accuracy: 0.7200 - lr: 0.0010\n",
      "Epoch 210/500\n",
      "7/7 [==============================] - 0s 9ms/step - loss: 0.2757 - accuracy: 0.7273 - val_loss: 0.2807 - val_accuracy: 0.7200 - lr: 0.0010\n",
      "Epoch 211/500\n",
      "7/7 [==============================] - 0s 9ms/step - loss: 0.2742 - accuracy: 0.7273 - val_loss: 0.2807 - val_accuracy: 0.7200 - lr: 0.0010\n",
      "Epoch 212/500\n",
      "7/7 [==============================] - 0s 9ms/step - loss: 0.2754 - accuracy: 0.7273 - val_loss: 0.2807 - val_accuracy: 0.7200 - lr: 0.0010\n",
      "Epoch 213/500\n",
      "7/7 [==============================] - 0s 8ms/step - loss: 0.2751 - accuracy: 0.7273 - val_loss: 0.2807 - val_accuracy: 0.7200 - lr: 0.0010\n",
      "Epoch 214/500\n",
      "7/7 [==============================] - 0s 9ms/step - loss: 0.2763 - accuracy: 0.7273 - val_loss: 0.2807 - val_accuracy: 0.7200 - lr: 0.0010\n",
      "Epoch 215/500\n",
      "7/7 [==============================] - 0s 9ms/step - loss: 0.2752 - accuracy: 0.7273 - val_loss: 0.2806 - val_accuracy: 0.7200 - lr: 0.0010\n",
      "Epoch 216/500\n",
      "7/7 [==============================] - 0s 9ms/step - loss: 0.2758 - accuracy: 0.7273 - val_loss: 0.2806 - val_accuracy: 0.7200 - lr: 0.0010\n",
      "Epoch 217/500\n",
      "7/7 [==============================] - 0s 9ms/step - loss: 0.2740 - accuracy: 0.7273 - val_loss: 0.2806 - val_accuracy: 0.7200 - lr: 0.0010\n",
      "Epoch 218/500\n",
      "7/7 [==============================] - 0s 9ms/step - loss: 0.2741 - accuracy: 0.7273 - val_loss: 0.2806 - val_accuracy: 0.7200 - lr: 0.0010\n",
      "Epoch 219/500\n",
      "7/7 [==============================] - 0s 9ms/step - loss: 0.2756 - accuracy: 0.7273 - val_loss: 0.2806 - val_accuracy: 0.7200 - lr: 0.0010\n",
      "Epoch 220/500\n",
      "7/7 [==============================] - 0s 9ms/step - loss: 0.2749 - accuracy: 0.7273 - val_loss: 0.2805 - val_accuracy: 0.7200 - lr: 0.0010\n",
      "Epoch 221/500\n",
      "7/7 [==============================] - 0s 13ms/step - loss: 0.2746 - accuracy: 0.7273 - val_loss: 0.2805 - val_accuracy: 0.7200 - lr: 0.0010\n",
      "Epoch 222/500\n",
      "7/7 [==============================] - 0s 9ms/step - loss: 0.2742 - accuracy: 0.7273 - val_loss: 0.2805 - val_accuracy: 0.7200 - lr: 0.0010\n",
      "Epoch 223/500\n",
      "7/7 [==============================] - 0s 9ms/step - loss: 0.2767 - accuracy: 0.7273 - val_loss: 0.2805 - val_accuracy: 0.7200 - lr: 0.0010\n",
      "Epoch 224/500\n",
      "7/7 [==============================] - 0s 8ms/step - loss: 0.2746 - accuracy: 0.7273 - val_loss: 0.2805 - val_accuracy: 0.7200 - lr: 0.0010\n",
      "Epoch 225/500\n",
      "7/7 [==============================] - 0s 9ms/step - loss: 0.2742 - accuracy: 0.7273 - val_loss: 0.2805 - val_accuracy: 0.7200 - lr: 0.0010\n",
      "Epoch 226/500\n",
      "7/7 [==============================] - 0s 8ms/step - loss: 0.2746 - accuracy: 0.7273 - val_loss: 0.2805 - val_accuracy: 0.7200 - lr: 0.0010\n",
      "Epoch 227/500\n",
      "7/7 [==============================] - 0s 9ms/step - loss: 0.2752 - accuracy: 0.7273 - val_loss: 0.2804 - val_accuracy: 0.7200 - lr: 0.0010\n",
      "Epoch 228/500\n",
      "7/7 [==============================] - 0s 9ms/step - loss: 0.2757 - accuracy: 0.7273 - val_loss: 0.2804 - val_accuracy: 0.7200 - lr: 0.0010\n",
      "Epoch 229/500\n",
      "7/7 [==============================] - 0s 9ms/step - loss: 0.2743 - accuracy: 0.7273 - val_loss: 0.2804 - val_accuracy: 0.7200 - lr: 0.0010\n",
      "Epoch 230/500\n",
      "7/7 [==============================] - 0s 8ms/step - loss: 0.2735 - accuracy: 0.7273 - val_loss: 0.2804 - val_accuracy: 0.7200 - lr: 0.0010\n",
      "Epoch 231/500\n",
      "7/7 [==============================] - 0s 9ms/step - loss: 0.2739 - accuracy: 0.7273 - val_loss: 0.2804 - val_accuracy: 0.7200 - lr: 0.0010\n",
      "Epoch 232/500\n",
      "7/7 [==============================] - 0s 9ms/step - loss: 0.2739 - accuracy: 0.7273 - val_loss: 0.2804 - val_accuracy: 0.7200 - lr: 0.0010\n",
      "Epoch 233/500\n",
      "7/7 [==============================] - 0s 8ms/step - loss: 0.2747 - accuracy: 0.7273 - val_loss: 0.2804 - val_accuracy: 0.7200 - lr: 0.0010\n",
      "Epoch 234/500\n",
      "7/7 [==============================] - 0s 9ms/step - loss: 0.2742 - accuracy: 0.7273 - val_loss: 0.2804 - val_accuracy: 0.7200 - lr: 0.0010\n",
      "Epoch 235/500\n",
      "7/7 [==============================] - 0s 9ms/step - loss: 0.2741 - accuracy: 0.7273 - val_loss: 0.2803 - val_accuracy: 0.7200 - lr: 0.0010\n",
      "Epoch 236/500\n",
      "7/7 [==============================] - 0s 8ms/step - loss: 0.2755 - accuracy: 0.7273 - val_loss: 0.2803 - val_accuracy: 0.7200 - lr: 0.0010\n",
      "Epoch 237/500\n",
      "7/7 [==============================] - 0s 9ms/step - loss: 0.2733 - accuracy: 0.7273 - val_loss: 0.2803 - val_accuracy: 0.7200 - lr: 0.0010\n",
      "Epoch 238/500\n",
      "7/7 [==============================] - 0s 9ms/step - loss: 0.2744 - accuracy: 0.7273 - val_loss: 0.2803 - val_accuracy: 0.7200 - lr: 0.0010\n",
      "Epoch 239/500\n",
      "7/7 [==============================] - 0s 8ms/step - loss: 0.2753 - accuracy: 0.7273 - val_loss: 0.2803 - val_accuracy: 0.7200 - lr: 0.0010\n",
      "Epoch 240/500\n",
      "7/7 [==============================] - 0s 8ms/step - loss: 0.2743 - accuracy: 0.7273 - val_loss: 0.2803 - val_accuracy: 0.7200 - lr: 0.0010\n",
      "Epoch 241/500\n",
      "7/7 [==============================] - 0s 9ms/step - loss: 0.2743 - accuracy: 0.7273 - val_loss: 0.2803 - val_accuracy: 0.7200 - lr: 0.0010\n",
      "Epoch 242/500\n",
      "7/7 [==============================] - 0s 9ms/step - loss: 0.2736 - accuracy: 0.7273 - val_loss: 0.2803 - val_accuracy: 0.7200 - lr: 0.0010\n",
      "Epoch 243/500\n",
      "7/7 [==============================] - 0s 9ms/step - loss: 0.2736 - accuracy: 0.7273 - val_loss: 0.2803 - val_accuracy: 0.7200 - lr: 0.0010\n",
      "Epoch 244/500\n",
      "7/7 [==============================] - 0s 9ms/step - loss: 0.2737 - accuracy: 0.7273 - val_loss: 0.2803 - val_accuracy: 0.7200 - lr: 0.0010\n",
      "Epoch 245/500\n",
      "7/7 [==============================] - 0s 9ms/step - loss: 0.2734 - accuracy: 0.7273 - val_loss: 0.2803 - val_accuracy: 0.7200 - lr: 0.0010\n",
      "Epoch 246/500\n",
      "7/7 [==============================] - 0s 9ms/step - loss: 0.2741 - accuracy: 0.7273 - val_loss: 0.2803 - val_accuracy: 0.7200 - lr: 0.0010\n",
      "Epoch 247/500\n",
      "7/7 [==============================] - 0s 10ms/step - loss: 0.2748 - accuracy: 0.7273 - val_loss: 0.2803 - val_accuracy: 0.7200 - lr: 0.0010\n",
      "Epoch 248/500\n",
      "7/7 [==============================] - 0s 9ms/step - loss: 0.2740 - accuracy: 0.7273 - val_loss: 0.2803 - val_accuracy: 0.7200 - lr: 1.0000e-04\n",
      "Epoch 249/500\n",
      "7/7 [==============================] - 0s 9ms/step - loss: 0.2751 - accuracy: 0.7273 - val_loss: 0.2803 - val_accuracy: 0.7200 - lr: 1.0000e-04\n",
      "Epoch 250/500\n",
      "7/7 [==============================] - 0s 9ms/step - loss: 0.2737 - accuracy: 0.7273 - val_loss: 0.2803 - val_accuracy: 0.7200 - lr: 1.0000e-04\n",
      "Epoch 251/500\n",
      "7/7 [==============================] - 0s 8ms/step - loss: 0.2740 - accuracy: 0.7273 - val_loss: 0.2803 - val_accuracy: 0.7200 - lr: 1.0000e-04\n",
      "Epoch 252/500\n",
      "7/7 [==============================] - 0s 9ms/step - loss: 0.2735 - accuracy: 0.7273 - val_loss: 0.2803 - val_accuracy: 0.7200 - lr: 1.0000e-04\n",
      "Epoch 253/500\n",
      "7/7 [==============================] - 0s 10ms/step - loss: 0.2739 - accuracy: 0.7273 - val_loss: 0.2803 - val_accuracy: 0.7200 - lr: 1.0000e-04\n",
      "Epoch 254/500\n",
      "7/7 [==============================] - 0s 9ms/step - loss: 0.2737 - accuracy: 0.7273 - val_loss: 0.2803 - val_accuracy: 0.7200 - lr: 1.0000e-04\n",
      "Epoch 255/500\n",
      "7/7 [==============================] - 0s 9ms/step - loss: 0.2736 - accuracy: 0.7273 - val_loss: 0.2803 - val_accuracy: 0.7200 - lr: 1.0000e-04\n",
      "Epoch 256/500\n",
      "7/7 [==============================] - 0s 10ms/step - loss: 0.2737 - accuracy: 0.7273 - val_loss: 0.2803 - val_accuracy: 0.7200 - lr: 1.0000e-04\n",
      "Epoch 257/500\n",
      "7/7 [==============================] - 0s 9ms/step - loss: 0.2738 - accuracy: 0.7273 - val_loss: 0.2803 - val_accuracy: 0.7200 - lr: 1.0000e-04\n",
      "Epoch 258/500\n",
      "7/7 [==============================] - 0s 9ms/step - loss: 0.2745 - accuracy: 0.7273 - val_loss: 0.2803 - val_accuracy: 0.7200 - lr: 1.0000e-04\n",
      "Epoch 259/500\n",
      "7/7 [==============================] - 0s 8ms/step - loss: 0.2739 - accuracy: 0.7273 - val_loss: 0.2803 - val_accuracy: 0.7200 - lr: 1.0000e-04\n",
      "Epoch 260/500\n",
      "7/7 [==============================] - 0s 9ms/step - loss: 0.2745 - accuracy: 0.7273 - val_loss: 0.2803 - val_accuracy: 0.7200 - lr: 1.0000e-04\n",
      "Epoch 261/500\n",
      "7/7 [==============================] - 0s 9ms/step - loss: 0.2738 - accuracy: 0.7273 - val_loss: 0.2803 - val_accuracy: 0.7200 - lr: 1.0000e-04\n",
      "Epoch 262/500\n",
      "7/7 [==============================] - 0s 9ms/step - loss: 0.2737 - accuracy: 0.7273 - val_loss: 0.2803 - val_accuracy: 0.7200 - lr: 1.0000e-04\n",
      "Epoch 263/500\n",
      "7/7 [==============================] - 0s 8ms/step - loss: 0.2743 - accuracy: 0.7273 - val_loss: 0.2803 - val_accuracy: 0.7200 - lr: 1.0000e-05\n",
      "Epoch 264/500\n",
      "7/7 [==============================] - 0s 9ms/step - loss: 0.2742 - accuracy: 0.7273 - val_loss: 0.2803 - val_accuracy: 0.7200 - lr: 1.0000e-05\n",
      "Epoch 265/500\n",
      "7/7 [==============================] - 0s 9ms/step - loss: 0.2738 - accuracy: 0.7273 - val_loss: 0.2803 - val_accuracy: 0.7200 - lr: 1.0000e-05\n",
      "Epoch 266/500\n",
      "7/7 [==============================] - 0s 8ms/step - loss: 0.2749 - accuracy: 0.7273 - val_loss: 0.2803 - val_accuracy: 0.7200 - lr: 1.0000e-05\n",
      "Epoch 267/500\n",
      "7/7 [==============================] - 0s 9ms/step - loss: 0.2738 - accuracy: 0.7273 - val_loss: 0.2803 - val_accuracy: 0.7200 - lr: 1.0000e-05\n",
      "Epoch 268/500\n",
      "7/7 [==============================] - 0s 9ms/step - loss: 0.2752 - accuracy: 0.7273 - val_loss: 0.2803 - val_accuracy: 0.7200 - lr: 1.0000e-05\n",
      "Epoch 269/500\n",
      "7/7 [==============================] - 0s 9ms/step - loss: 0.2735 - accuracy: 0.7273 - val_loss: 0.2803 - val_accuracy: 0.7200 - lr: 1.0000e-05\n",
      "Epoch 270/500\n",
      "7/7 [==============================] - 0s 9ms/step - loss: 0.2733 - accuracy: 0.7273 - val_loss: 0.2803 - val_accuracy: 0.7200 - lr: 1.0000e-05\n",
      "Epoch 271/500\n",
      "7/7 [==============================] - 0s 9ms/step - loss: 0.2743 - accuracy: 0.7273 - val_loss: 0.2803 - val_accuracy: 0.7200 - lr: 1.0000e-05\n",
      "Epoch 272/500\n",
      "7/7 [==============================] - 0s 9ms/step - loss: 0.2738 - accuracy: 0.7273 - val_loss: 0.2803 - val_accuracy: 0.7200 - lr: 1.0000e-05\n",
      "Epoch 273/500\n",
      "7/7 [==============================] - 0s 9ms/step - loss: 0.2735 - accuracy: 0.7273 - val_loss: 0.2803 - val_accuracy: 0.7200 - lr: 1.0000e-05\n",
      "Epoch 274/500\n",
      "7/7 [==============================] - 0s 9ms/step - loss: 0.2736 - accuracy: 0.7273 - val_loss: 0.2803 - val_accuracy: 0.7200 - lr: 1.0000e-05\n",
      "Epoch 275/500\n",
      "7/7 [==============================] - 0s 8ms/step - loss: 0.2741 - accuracy: 0.7273 - val_loss: 0.2803 - val_accuracy: 0.7200 - lr: 1.0000e-05\n",
      "Epoch 276/500\n",
      "7/7 [==============================] - 0s 9ms/step - loss: 0.2735 - accuracy: 0.7273 - val_loss: 0.2803 - val_accuracy: 0.7200 - lr: 1.0000e-05\n",
      "Epoch 277/500\n",
      "7/7 [==============================] - 0s 10ms/step - loss: 0.2754 - accuracy: 0.7273 - val_loss: 0.2803 - val_accuracy: 0.7200 - lr: 1.0000e-05\n",
      "Epoch 278/500\n",
      "7/7 [==============================] - 0s 9ms/step - loss: 0.2734 - accuracy: 0.7273 - val_loss: 0.2803 - val_accuracy: 0.7200 - lr: 1.0000e-05\n",
      "Epoch 279/500\n",
      "7/7 [==============================] - 0s 9ms/step - loss: 0.2735 - accuracy: 0.7273 - val_loss: 0.2803 - val_accuracy: 0.7200 - lr: 1.0000e-05\n",
      "Epoch 280/500\n",
      "7/7 [==============================] - 0s 9ms/step - loss: 0.2749 - accuracy: 0.7273 - val_loss: 0.2803 - val_accuracy: 0.7200 - lr: 1.0000e-05\n",
      "Epoch 281/500\n",
      "7/7 [==============================] - 0s 9ms/step - loss: 0.2758 - accuracy: 0.7273 - val_loss: 0.2803 - val_accuracy: 0.7200 - lr: 1.0000e-05\n",
      "Epoch 282/500\n",
      "7/7 [==============================] - 0s 8ms/step - loss: 0.2736 - accuracy: 0.7273 - val_loss: 0.2803 - val_accuracy: 0.7200 - lr: 1.0000e-06\n",
      "Epoch 283/500\n",
      "7/7 [==============================] - 0s 8ms/step - loss: 0.2746 - accuracy: 0.7273 - val_loss: 0.2803 - val_accuracy: 0.7200 - lr: 1.0000e-06\n",
      "Epoch 284/500\n",
      "7/7 [==============================] - 0s 8ms/step - loss: 0.2747 - accuracy: 0.7273 - val_loss: 0.2803 - val_accuracy: 0.7200 - lr: 1.0000e-06\n",
      "Epoch 285/500\n",
      "7/7 [==============================] - 0s 8ms/step - loss: 0.2734 - accuracy: 0.7273 - val_loss: 0.2803 - val_accuracy: 0.7200 - lr: 1.0000e-06\n",
      "Epoch 286/500\n",
      "7/7 [==============================] - 0s 9ms/step - loss: 0.2736 - accuracy: 0.7273 - val_loss: 0.2803 - val_accuracy: 0.7200 - lr: 1.0000e-06\n",
      "Epoch 287/500\n",
      "7/7 [==============================] - 0s 8ms/step - loss: 0.2738 - accuracy: 0.7273 - val_loss: 0.2803 - val_accuracy: 0.7200 - lr: 1.0000e-06\n",
      "Epoch 288/500\n",
      "7/7 [==============================] - 0s 9ms/step - loss: 0.2741 - accuracy: 0.7273 - val_loss: 0.2803 - val_accuracy: 0.7200 - lr: 1.0000e-06\n",
      "Epoch 289/500\n",
      "7/7 [==============================] - 0s 9ms/step - loss: 0.2739 - accuracy: 0.7273 - val_loss: 0.2803 - val_accuracy: 0.7200 - lr: 1.0000e-06\n",
      "Epoch 290/500\n",
      "7/7 [==============================] - 0s 8ms/step - loss: 0.2736 - accuracy: 0.7273 - val_loss: 0.2803 - val_accuracy: 0.7200 - lr: 1.0000e-06\n",
      "Epoch 291/500\n",
      "7/7 [==============================] - 0s 8ms/step - loss: 0.2751 - accuracy: 0.7273 - val_loss: 0.2803 - val_accuracy: 0.7200 - lr: 1.0000e-06\n",
      "Epoch 292/500\n",
      "7/7 [==============================] - 0s 11ms/step - loss: 0.2743 - accuracy: 0.7273 - val_loss: 0.2803 - val_accuracy: 0.7200 - lr: 1.0000e-06\n",
      "Epoch 293/500\n",
      "7/7 [==============================] - 0s 8ms/step - loss: 0.2737 - accuracy: 0.7273 - val_loss: 0.2803 - val_accuracy: 0.7200 - lr: 1.0000e-06\n",
      "Epoch 294/500\n",
      "7/7 [==============================] - 0s 8ms/step - loss: 0.2732 - accuracy: 0.7273 - val_loss: 0.2803 - val_accuracy: 0.7200 - lr: 1.0000e-06\n",
      "Epoch 295/500\n",
      "7/7 [==============================] - 0s 8ms/step - loss: 0.2736 - accuracy: 0.7273 - val_loss: 0.2803 - val_accuracy: 0.7200 - lr: 1.0000e-06\n",
      "Epoch 296/500\n",
      "7/7 [==============================] - 0s 9ms/step - loss: 0.2738 - accuracy: 0.7273 - val_loss: 0.2803 - val_accuracy: 0.7200 - lr: 1.0000e-06\n",
      "Epoch 297/500\n",
      "7/7 [==============================] - 0s 8ms/step - loss: 0.2734 - accuracy: 0.7273 - val_loss: 0.2803 - val_accuracy: 0.7200 - lr: 1.0000e-07\n",
      "Epoch 298/500\n",
      "7/7 [==============================] - 0s 8ms/step - loss: 0.2742 - accuracy: 0.7273 - val_loss: 0.2803 - val_accuracy: 0.7200 - lr: 1.0000e-07\n",
      "Epoch 299/500\n",
      "7/7 [==============================] - 0s 9ms/step - loss: 0.2737 - accuracy: 0.7273 - val_loss: 0.2803 - val_accuracy: 0.7200 - lr: 1.0000e-07\n",
      "Epoch 300/500\n",
      "7/7 [==============================] - 0s 8ms/step - loss: 0.2740 - accuracy: 0.7273 - val_loss: 0.2803 - val_accuracy: 0.7200 - lr: 1.0000e-07\n",
      "Epoch 301/500\n",
      "7/7 [==============================] - 0s 9ms/step - loss: 0.2733 - accuracy: 0.7273 - val_loss: 0.2803 - val_accuracy: 0.7200 - lr: 1.0000e-07\n",
      "Epoch 302/500\n",
      "7/7 [==============================] - 0s 9ms/step - loss: 0.2735 - accuracy: 0.7273 - val_loss: 0.2803 - val_accuracy: 0.7200 - lr: 1.0000e-07\n",
      "Epoch 303/500\n",
      "7/7 [==============================] - 0s 9ms/step - loss: 0.2735 - accuracy: 0.7273 - val_loss: 0.2803 - val_accuracy: 0.7200 - lr: 1.0000e-07\n",
      "Epoch 304/500\n",
      "7/7 [==============================] - 0s 9ms/step - loss: 0.2742 - accuracy: 0.7273 - val_loss: 0.2803 - val_accuracy: 0.7200 - lr: 1.0000e-07\n",
      "Epoch 305/500\n",
      "7/7 [==============================] - 0s 9ms/step - loss: 0.2743 - accuracy: 0.7273 - val_loss: 0.2803 - val_accuracy: 0.7200 - lr: 1.0000e-07\n",
      "Epoch 306/500\n",
      "7/7 [==============================] - 0s 9ms/step - loss: 0.2737 - accuracy: 0.7273 - val_loss: 0.2803 - val_accuracy: 0.7200 - lr: 1.0000e-07\n",
      "Epoch 307/500\n",
      "7/7 [==============================] - 0s 8ms/step - loss: 0.2753 - accuracy: 0.7273 - val_loss: 0.2803 - val_accuracy: 0.7200 - lr: 1.0000e-07\n",
      "Epoch 308/500\n",
      "7/7 [==============================] - 0s 9ms/step - loss: 0.2733 - accuracy: 0.7273 - val_loss: 0.2803 - val_accuracy: 0.7200 - lr: 1.0000e-07\n",
      "Epoch 309/500\n",
      "7/7 [==============================] - 0s 9ms/step - loss: 0.2747 - accuracy: 0.7273 - val_loss: 0.2803 - val_accuracy: 0.7200 - lr: 1.0000e-07\n",
      "Epoch 310/500\n",
      "7/7 [==============================] - 0s 9ms/step - loss: 0.2758 - accuracy: 0.7273 - val_loss: 0.2803 - val_accuracy: 0.7200 - lr: 1.0000e-07\n",
      "Epoch 311/500\n",
      "7/7 [==============================] - 0s 9ms/step - loss: 0.2746 - accuracy: 0.7273 - val_loss: 0.2803 - val_accuracy: 0.7200 - lr: 1.0000e-07\n",
      "Epoch 312/500\n",
      "7/7 [==============================] - 0s 10ms/step - loss: 0.2744 - accuracy: 0.7273 - val_loss: 0.2803 - val_accuracy: 0.7200 - lr: 1.0000e-08\n",
      "Epoch 313/500\n",
      "7/7 [==============================] - 0s 9ms/step - loss: 0.2744 - accuracy: 0.7273 - val_loss: 0.2803 - val_accuracy: 0.7200 - lr: 1.0000e-08\n",
      "Epoch 314/500\n",
      "7/7 [==============================] - 0s 9ms/step - loss: 0.2735 - accuracy: 0.7273 - val_loss: 0.2803 - val_accuracy: 0.7200 - lr: 1.0000e-08\n",
      "Epoch 315/500\n",
      "7/7 [==============================] - 0s 9ms/step - loss: 0.2739 - accuracy: 0.7273 - val_loss: 0.2803 - val_accuracy: 0.7200 - lr: 1.0000e-08\n",
      "Epoch 316/500\n",
      "7/7 [==============================] - 0s 8ms/step - loss: 0.2743 - accuracy: 0.7273 - val_loss: 0.2803 - val_accuracy: 0.7200 - lr: 1.0000e-08\n",
      "Epoch 317/500\n",
      "7/7 [==============================] - 0s 9ms/step - loss: 0.2735 - accuracy: 0.7273 - val_loss: 0.2803 - val_accuracy: 0.7200 - lr: 1.0000e-08\n",
      "Epoch 318/500\n",
      "7/7 [==============================] - 0s 10ms/step - loss: 0.2739 - accuracy: 0.7273 - val_loss: 0.2803 - val_accuracy: 0.7200 - lr: 1.0000e-08\n",
      "Epoch 319/500\n",
      "7/7 [==============================] - 0s 9ms/step - loss: 0.2753 - accuracy: 0.7273 - val_loss: 0.2803 - val_accuracy: 0.7200 - lr: 1.0000e-08\n",
      "Epoch 320/500\n",
      "7/7 [==============================] - 0s 9ms/step - loss: 0.2753 - accuracy: 0.7273 - val_loss: 0.2803 - val_accuracy: 0.7200 - lr: 1.0000e-08\n",
      "Epoch 321/500\n",
      "7/7 [==============================] - 0s 11ms/step - loss: 0.2736 - accuracy: 0.7273 - val_loss: 0.2803 - val_accuracy: 0.7200 - lr: 1.0000e-08\n",
      "Epoch 322/500\n",
      "7/7 [==============================] - 0s 9ms/step - loss: 0.2749 - accuracy: 0.7273 - val_loss: 0.2803 - val_accuracy: 0.7200 - lr: 1.0000e-08\n",
      "Epoch 323/500\n",
      "7/7 [==============================] - 0s 10ms/step - loss: 0.2740 - accuracy: 0.7273 - val_loss: 0.2803 - val_accuracy: 0.7200 - lr: 1.0000e-08\n",
      "2/2 [==============================] - 0s 3ms/step\n",
      "Mean Squared Error: 0.25985649880685496\n"
     ]
    }
   ],
   "source": [
    "from sklearn.model_selection import train_test_split\n",
    "from sklearn.preprocessing import StandardScaler\n",
    "from sklearn.metrics import mean_squared_error\n",
    "from tensorflow.keras.models import Sequential\n",
    "from tensorflow.keras.layers import Dense\n",
    "from tensorflow.keras.callbacks import EarlyStopping, ReduceLROnPlateau\n",
    "\n",
    "\n",
    "X_train, X_test, y_train, y_test = train_test_split(X, y, test_size=0.3, random_state=42, shuffle=True)\n",
    "print(X_train.shape, X_test.shape)\n",
    "\n",
    "\n",
    "ss_x = StandardScaler()\n",
    "#Train on train set, apply to test\n",
    "X_train = ss_x.fit_transform(X_train)\n",
    "X_test = ss_x.transform(X_test)\n",
    "\n",
    "\n",
    "model = Sequential()\n",
    "model.add(Dense(32, activation='relu', input_shape=(13,)))\n",
    "model.add(Dense(16, activation='relu'))\n",
    "model.add(Dense(16, activation='relu'))\n",
    "model.add(Dense(8, activation='relu'))\n",
    "model.add(Dense(1, activation='sigmoid'))\n",
    "\n",
    "model.compile(optimizer= 'adam', loss='mse', metrics=['accuracy'])\n",
    "\n",
    "early = EarlyStopping(patience=50, restore_best_weights=True, monitor='accuracy') # we don't specify monitor, by default it's val_loss\n",
    "reduce = ReduceLROnPlateau(patience=50, monitor='loss')\n",
    "\n",
    "model.fit(X_train, y_train, epochs=500, batch_size=16, callbacks=[early, reduce])\n",
    "#, validation_data=(X_val, y_val)\n",
    "y_pred = model.predict(X_test)\n",
    "mse = mean_squared_error(y_test, y_pred)\n",
    "print(f\"Mean Squared Error: {mse}\")"
   ]
  },
  {
   "cell_type": "code",
   "execution_count": null,
   "id": "2kgmYSNb81O6",
   "metadata": {
    "id": "2kgmYSNb81O6"
   },
   "outputs": [],
   "source": []
  },
  {
   "cell_type": "markdown",
   "id": "c4b39b3f",
   "metadata": {
    "id": "c4b39b3f"
   },
   "source": [
    "# Project\n"
   ]
  },
  {
   "cell_type": "code",
   "execution_count": null,
   "id": "465c0080",
   "metadata": {
    "id": "465c0080"
   },
   "outputs": [],
   "source": [
    "df = pd.DataFrame({'pActive': [0.7, 0.2], 'popularity': [0.1, 0.4]})\n",
    "df"
   ]
  },
  {
   "cell_type": "markdown",
   "id": "f2d45e96",
   "metadata": {
    "id": "f2d45e96"
   },
   "source": [
    "Consider a simplified model for the election of, for example, the mayor of a city. In our case we have 12 potential candidates. Each of them has assigned a probability $pActive$ determining the chances of running in the election - this consists of, for example the chance of collecting signatures, being nominated by their party, etc.\n",
    "\n",
    "In addition, we also determined the popularity of each candidate.\n",
    "The probability of winning an election is equal to the ratio of its\n",
    "popularity to the sum of the popularity of all active candidates\n",
    "participating in the election.\n",
    "\n",
    "Example:\n",
    "\n",
    "With two candidates having $pActive$ 0.7 and 0.2 and $popularity$ 0.1 and 0.4 respectively there are 4 possible sceanrios:\n",
    "\n",
    " - nobody participaring in the elections p = (1-0.7) * (1-0.2) = 0.24\n",
    " - just candidate A p = 0.7 * (1-0.2) = 0.56\n",
    " - just candidate B p = (1-0.7) * 0.2 = 0.06\n",
    " - both candidates p = 0.7 * 0.2 = 0.14\n",
    "\n",
    "In the first scenario there are no candidates so nobody wins the election. In the second and third case there is just once candidate so with 100% probability she/he wins. The last scenario is the most complex and we have to account for popularity and candidate A has 20% chances of wining and B 80%. Combining all scenarios\n",
    "\n",
    " - candidate A: 0.56 * 100% + 0.14 * 20% = 58.8%\n",
    " - candidate B: 0.06 * 100% + 0.14 * 80% = 17.2%\n",
    "\n",
    "We can write a function to calculate it\n"
   ]
  },
  {
   "cell_type": "code",
   "execution_count": null,
   "id": "5d1d332b",
   "metadata": {
    "id": "5d1d332b"
   },
   "outputs": [],
   "source": [
    "def getProbability(df):\n",
    "    combinations = np.indices((2,) * len(df)).reshape(len(df), -1).T.astype(int)\n",
    "    p = np.maximum((1-combinations)*(1-df.pActive.values), (combinations*df.pActive.values)).prod(1)\n",
    "    prob = (combinations * df.popularity.values)[1:] / (combinations * df.popularity.values).sum(1).reshape((-1,1))[1:]\n",
    "    x=(p.reshape((-1,1))[1:] * prob)\n",
    "\n",
    "    return x.sum(axis=0)"
   ]
  },
  {
   "cell_type": "code",
   "execution_count": null,
   "id": "b78e9ce8",
   "metadata": {
    "id": "b78e9ce8"
   },
   "outputs": [],
   "source": [
    "getProbability(df)"
   ]
  },
  {
   "cell_type": "code",
   "execution_count": null,
   "id": "e4fc6298",
   "metadata": {
    "id": "e4fc6298"
   },
   "outputs": [],
   "source": [
    "np.random.seed(44)\n",
    "df = pd.DataFrame({'pActive': np.random.rand(23), 'popularity': np.random.rand(23)})\n",
    "df"
   ]
  },
  {
   "cell_type": "code",
   "execution_count": null,
   "id": "1348f5a4",
   "metadata": {
    "id": "1348f5a4"
   },
   "outputs": [],
   "source": [
    "getProbability(df)"
   ]
  },
  {
   "cell_type": "markdown",
   "id": "11154ecf",
   "metadata": {
    "id": "11154ecf"
   },
   "source": [
    "It might take longer when more candidates are considered. Imagine you are a party leader and you want to determine who shall be your candidate. You have to solve an optimization problem where this function will be executed hundreds of times thus we want to make it faster.\n",
    "\n",
    "Your task is to create a neural network estimating function $getProbability$, while being much faster. You can assume the maximum number of candidates is 16 and the minimal is 1. $pActive$ is in range from 0 to 1 $popularity$ is greater than 0 without an upper limit. Keep in mind it's possible no candidate will participate in the election (scenario 1 in the example above).\n",
    "Try to avoide using pre- and post-processing and do as much computations as possible inside the neural network\n",
    "\n",
    "You can test your results here https://www.kaggle.com/t/0ab6861855f141969f4755129a6c5bca\n",
    "\n",
    "Send your result by 4th November to grzegorz.miebs@cs.put.poznan.pl, start the email subject with [DL], there should be a function that reads a pickled list of DataFrames and produces a .csv file with probabilities.\n"
   ]
  },
  {
   "cell_type": "code",
   "execution_count": null,
   "id": "68a3f1ed",
   "metadata": {
    "id": "68a3f1ed"
   },
   "outputs": [],
   "source": [
    "in/output size. propper output acivation that will model probability not summing to 1. time complexity important. "
   ]
  },
  {
   "cell_type": "code",
   "execution_count": null,
   "id": "6b24d4a2",
   "metadata": {
    "id": "6b24d4a2"
   },
   "outputs": [],
   "source": []
  }
 ],
 "metadata": {
  "colab": {
   "provenance": []
  },
  "kernelspec": {
   "display_name": "cv_lab",
   "language": "python",
   "name": "python3"
  },
  "language_info": {
   "codemirror_mode": {
    "name": "ipython",
    "version": 3
   },
   "file_extension": ".py",
   "mimetype": "text/x-python",
   "name": "python",
   "nbconvert_exporter": "python",
   "pygments_lexer": "ipython3",
   "version": "3.8.19"
  }
 },
 "nbformat": 4,
 "nbformat_minor": 5
}
