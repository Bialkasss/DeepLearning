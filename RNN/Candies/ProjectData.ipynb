{
  "cells": [
    {
      "cell_type": "markdown",
      "id": "4fc3907b",
      "metadata": {
        "id": "4fc3907b"
      },
      "source": [
        "For each class, there is one pattern occurring in the data. Solving just a classification task be scored no higher than 70%.\n",
        "\n",
        "Please provide either pdf with the report or add some notes in the notebook. Demonstrate some examples of how your approach works.\n",
        "\n",
        "A short reminder of your task:\n",
        " - Correct classification of provided time series\n",
        " - Explanation of the prediction (showing which part of which series is responsible for a defect)\n",
        " - Neural network with at least one recurrent layer must be used in each step\n",
        " - Not the whole logic must be inside the neural network\n",
        " - Your approach should work for other data, of course after retraining. It means you shouldn't take advantage of knowing the series are based on sin function and how the anomalies are created."
      ]
    },
    {
      "cell_type": "code",
      "execution_count": null,
      "id": "d400e6e8",
      "metadata": {
        "id": "d400e6e8"
      },
      "outputs": [],
      "source": [
        "import numpy as np\n",
        "import pandas as pd\n",
        "import matplotlib.pyplot as plt\n",
        "\n",
        "from sklearn.metrics import accuracy_score, precision_score, recall_score"
      ]
    },
    {
      "cell_type": "code",
      "execution_count": null,
      "id": "3b395cd1",
      "metadata": {
        "id": "3b395cd1"
      },
      "outputs": [],
      "source": [
        "np.random.seed(42)"
      ]
    },
    {
      "cell_type": "code",
      "execution_count": null,
      "id": "2b20a4bd",
      "metadata": {
        "id": "2b20a4bd"
      },
      "outputs": [],
      "source": [
        "n = 50000"
      ]
    },
    {
      "cell_type": "code",
      "execution_count": null,
      "id": "df329ef7",
      "metadata": {
        "id": "df329ef7"
      },
      "outputs": [],
      "source": [
        "def createRow(n, classes):\n",
        "    base = np.sin(np.linspace((np.random.rand(3)),(np.random.rand(3) + np.array([10,15,7])),n))\n",
        "    if classes[0] > 0:\n",
        "        base[np.random.randint(0,n), 0] += 2\n",
        "    if classes[1] > 0:\n",
        "        base[np.random.randint(0,n), 1] -= 2\n",
        "    if classes[2] > 0:\n",
        "        x = np.random.randint(0,n-5)\n",
        "        base[x:x+4,2] = 0\n",
        "    if classes[3] > 0:\n",
        "        x = np.random.randint(0,n-10)\n",
        "        base[x:x+8,1] += 1.5\n",
        "    if classes[4] > 0:\n",
        "        x = np.random.randint(0,n-7)\n",
        "        base[x:x+6,0] += 1.5\n",
        "        base[x:x+6,2] -= 1.5\n",
        "    base += np.random.rand(*base.shape)*.2\n",
        "    return base"
      ]
    },
    {
      "cell_type": "code",
      "execution_count": null,
      "id": "67ab6c5f",
      "metadata": {
        "id": "67ab6c5f"
      },
      "outputs": [],
      "source": [
        "xl, yl = [], []\n",
        "for _ in range(n):\n",
        "    cl = np.random.rand(5)<.25\n",
        "    xl.append(createRow(np.random.randint(40,60), cl))\n",
        "    yl.append(cl)\n",
        ""
      ]
    },
    {
      "cell_type": "code",
      "execution_count": null,
      "id": "73600c57",
      "metadata": {
        "scrolled": false,
        "id": "73600c57"
      },
      "outputs": [],
      "source": [
        "for i in range(5):\n",
        "    plt.plot(xl[i])\n",
        "    print(yl[i])\n",
        "    plt.show()"
      ]
    },
    {
      "cell_type": "code",
      "execution_count": null,
      "id": "8abd8f00",
      "metadata": {
        "id": "8abd8f00"
      },
      "outputs": [],
      "source": []
    }
  ],
  "metadata": {
    "kernelspec": {
      "display_name": "Python 3 (ipykernel)",
      "language": "python",
      "name": "python3"
    },
    "language_info": {
      "codemirror_mode": {
        "name": "ipython",
        "version": 3
      },
      "file_extension": ".py",
      "mimetype": "text/x-python",
      "name": "python",
      "nbconvert_exporter": "python",
      "pygments_lexer": "ipython3",
      "version": "3.9.13"
    },
    "colab": {
      "provenance": []
    }
  },
  "nbformat": 4,
  "nbformat_minor": 5
}