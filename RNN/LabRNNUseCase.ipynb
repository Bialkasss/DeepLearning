{
 "cells": [
  {
   "cell_type": "code",
   "execution_count": null,
   "id": "25e43a82",
   "metadata": {},
   "outputs": [],
   "source": [
    "import numpy as np\n",
    "import pandas as pd\n",
    "import matplotlib.pyplot as plt"
   ]
  },
  {
   "cell_type": "code",
   "execution_count": null,
   "id": "75a15d07",
   "metadata": {},
   "outputs": [],
   "source": [
    "from tensorflow.keras.layers import LSTM, GRU, Dense, Input, RepeatVector, TimeDistributed, SimpleRNN\n",
    "from tensorflow.keras.layers import Reshape, GlobalMaxPool1D, Lambda, Concatenate\n",
    "from tensorflow.keras.models import Model, Sequential\n",
    "from tensorflow.keras.utils import Sequence, plot_model\n",
    "from tensorflow.keras.callbacks import EarlyStopping\n",
    "import tensorflow.keras.backend as K\n",
    "import tensorflow as tf"
   ]
  },
  {
   "cell_type": "code",
   "execution_count": null,
   "id": "dd583b10",
   "metadata": {},
   "outputs": [],
   "source": [
    "np.random.seed(0)\n",
    "\n",
    "df = pd.DataFrame()\n",
    "df['sensor1'] = np.sin(np.linspace(0, 100, 10000)) + np.sin(np.linspace(13, 150, 10000))\n",
    "df['sensor2'] = np.sin(np.linspace(5, 105, 10000)) + np.sin(np.linspace(16, 151, 10000))\n",
    "\n",
    "df += np.random.randn(*df.shape)/100\n",
    "\n",
    "noise = np.random.rand(10000)\n",
    "noise = np.where(noise>0.98, noise-1.5, 0)\n",
    "df.sensor1 += noise\n",
    "\n",
    "noise = np.random.rand(10000)\n",
    "noise = np.where(noise>0.99, noise-2.5, 0)\n",
    "df.sensor1 += noise"
   ]
  },
  {
   "cell_type": "markdown",
   "id": "d5d91642",
   "metadata": {},
   "source": [
    "You are working in a team responsible for a leak detection system for the Nord Stream 2. Two sensors are measuring the pressure in the pipeline. One of them is located in the very beginning thus the signal is always clear. On the second sensor leaks can be noticed. Unfortunately due to some technological processes, there is also an additional pattern that looks exactly like the one caused by a leak, however, it's smaller. Still, it's enough to trigger the leak detection system. That's why your task is to create a model that will remove unwanted noise but will keep leaks."
   ]
  },
  {
   "cell_type": "code",
   "execution_count": null,
   "id": "a75c6d7f",
   "metadata": {
    "scrolled": true
   },
   "outputs": [],
   "source": [
    "for i in np.random.randint(0, 9950, 10):\n",
    "    df.iloc[i:i+150].plot()\n",
    "    d = df.sensor1.iloc[i:i+150].diff()\n",
    "    for j,x in enumerate(np.where((1 > d) & (d > .4))[0]):\n",
    "        plt.axvspan(i+x-3,i+x+1, color='red', alpha=.2, label=\"_\"*j+\"noise\")\n",
    "    for j,x in enumerate(np.where(1 < d)[0]):\n",
    "        plt.axvspan(i+x-3,i+x+1, color='blue', alpha=.2, label=\"_\"*j+\"leak\")\n",
    "    plt.legend()\n",
    "    plt.show()"
   ]
  },
  {
   "cell_type": "code",
   "execution_count": null,
   "id": "30bafeb6",
   "metadata": {},
   "outputs": [],
   "source": []
  }
 ],
 "metadata": {
  "kernelspec": {
   "display_name": "Python 3 (ipykernel)",
   "language": "python",
   "name": "python3"
  },
  "language_info": {
   "codemirror_mode": {
    "name": "ipython",
    "version": 3
   },
   "file_extension": ".py",
   "mimetype": "text/x-python",
   "name": "python",
   "nbconvert_exporter": "python",
   "pygments_lexer": "ipython3",
   "version": "3.9.13"
  }
 },
 "nbformat": 4,
 "nbformat_minor": 5
}
